{
  "nbformat": 4,
  "nbformat_minor": 0,
  "metadata": {
    "colab": {
      "name": "RICE QUALITY ANALYSIS.ipynb",
      "provenance": [],
      "collapsed_sections": [],
      "authorship_tag": "ABX9TyOtVvN6Yslsb+H1rCWx3ZA9",
      "include_colab_link": true
    },
    "kernelspec": {
      "name": "python3",
      "display_name": "Python 3"
    }
  },
  "cells": [
    {
      "cell_type": "markdown",
      "metadata": {
        "id": "view-in-github",
        "colab_type": "text"
      },
      "source": [
        "<a href=\"https://colab.research.google.com/github/sira-code/my_beautiful_repo/blob/master/RICE_QUALITY_ANALYSIS.ipynb\" target=\"_parent\"><img src=\"https://colab.research.google.com/assets/colab-badge.svg\" alt=\"Open In Colab\"/></a>"
      ]
    },
    {
      "cell_type": "code",
      "metadata": {
        "id": "ojkaQuMQhp3R",
        "colab_type": "code",
        "colab": {}
      },
      "source": [
        "import cv2\n",
        "import numpy as np\n",
        "from matplotlib import pyplot as plt"
      ],
      "execution_count": 1,
      "outputs": []
    },
    {
      "cell_type": "code",
      "metadata": {
        "id": "5CCVpSaliD-l",
        "colab_type": "code",
        "colab": {}
      },
      "source": [
        "def get_classificaton(ratio):\n",
        "\tratio =round(ratio,1)\n",
        "\ttoret=\"\"\n",
        "\tif(ratio>=3):\n",
        "\t\ttoret=\"Slender\"\n",
        "\telif(ratio>=2.1 and ratio<3):\n",
        "\t\ttoret=\"Medium\"\n",
        "\telif(ratio>=1.1 and ratio<2.1):\n",
        "\t\ttoret=\"Bold\"\n",
        "\telif(ratio<=1):\n",
        "\t\ttoret=\"Round\"\n",
        "\ttoret=\"(\"+toret+\")\"\n",
        "\treturn toret"
      ],
      "execution_count": 2,
      "outputs": []
    },
    {
      "cell_type": "code",
      "metadata": {
        "id": "jLSNLoQhiUsU",
        "colab_type": "code",
        "colab": {
          "base_uri": "https://localhost:8080/",
          "height": 36
        },
        "outputId": "8022fb8b-657a-4244-b3b8-ccf6097c36ee"
      },
      "source": [
        "print (\"START\")\n",
        "img = cv2.imread('rice.png',0)"
      ],
      "execution_count": 3,
      "outputs": [
        {
          "output_type": "stream",
          "text": [
            "START\n"
          ],
          "name": "stdout"
        }
      ]
    },
    {
      "cell_type": "code",
      "metadata": {
        "id": "WawSTgxvim7X",
        "colab_type": "code",
        "colab": {}
      },
      "source": [
        "#convert into binary\n",
        "ret,binary = cv2.threshold(img,160,255,cv2.THRESH_BINARY)"
      ],
      "execution_count": 4,
      "outputs": []
    },
    {
      "cell_type": "code",
      "metadata": {
        "id": "WM1T8x4GjHr8",
        "colab_type": "code",
        "colab": {}
      },
      "source": [
        "#averaging filter\n",
        "kernel = np.ones((5,5),np.float32)/9\n",
        "dst = cv2.filter2D(binary,-1,kernel)# -1 -depth of  destination image\n",
        "\n",
        "kernel2 = cv2.getStructuringElement(cv2.MORPH_ELLIPSE,(3,3))"
      ],
      "execution_count": 5,
      "outputs": []
    },
    {
      "cell_type": "code",
      "metadata": {
        "id": "ruD45VMojZN2",
        "colab_type": "code",
        "colab": {}
      },
      "source": [
        "#erosion\n",
        "erosion = cv2.erode(dst,kernel2,iterations = 1)\n",
        "#dilation \n",
        "dilation = cv2.dilate(erosion,kernel2,iterations = 1)"
      ],
      "execution_count": 6,
      "outputs": []
    },
    {
      "cell_type": "code",
      "metadata": {
        "id": "acUicTGUjiOZ",
        "colab_type": "code",
        "colab": {}
      },
      "source": [
        "#edge detection\n",
        "edges = cv2.Canny(dilation,100,200)"
      ],
      "execution_count": 7,
      "outputs": []
    },
    {
      "cell_type": "code",
      "metadata": {
        "id": "s2MU1mGDjlgh",
        "colab_type": "code",
        "colab": {
          "base_uri": "https://localhost:8080/",
          "height": 615
        },
        "outputId": "c19a4dab-2e89-47fe-a845-81155be9e26a"
      },
      "source": [
        "### Size detection\n",
        "contours,hierarchy = cv2.findContours(erosion, cv2.RETR_EXTERNAL, cv2.CHAIN_APPROX_SIMPLE)\n",
        "print (\"NUMBER OF RICE GRAINS :=\",len(contours))\n",
        "total_ar=0\n",
        "for cnt in contours:\n",
        "\tx,y,w,h = cv2.boundingRect(cnt)\n",
        "\taspect_ratio = float(w)/h\n",
        "\tif(aspect_ratio<1):\n",
        "\t\taspect_ratio=1/aspect_ratio\n",
        "\tprint (round(aspect_ratio,2),get_classificaton(aspect_ratio))\n",
        "\ttotal_ar+=aspect_ratio\n",
        "avg_ar=total_ar/len(contours)\n",
        "print (\"AVG ASPECT RATIO:=\",round(avg_ar,2),get_classificaton(avg_ar))"
      ],
      "execution_count": 8,
      "outputs": [
        {
          "output_type": "stream",
          "text": [
            "NUMBER OF RICE GRAINS := 30\n",
            "3.17 (Slender)\n",
            "1.73 (Bold)\n",
            "2.38 (Medium)\n",
            "1.07 (Bold)\n",
            "1.14 (Bold)\n",
            "2.11 (Medium)\n",
            "4.0 (Slender)\n",
            "1.55 (Bold)\n",
            "2.11 (Medium)\n",
            "3.5 (Slender)\n",
            "2.22 (Medium)\n",
            "2.75 (Medium)\n",
            "1.14 (Bold)\n",
            "3.0 (Slender)\n",
            "2.2 (Medium)\n",
            "1.91 (Bold)\n",
            "2.86 (Medium)\n",
            "1.12 (Bold)\n",
            "2.86 (Medium)\n",
            "3.0 (Slender)\n",
            "1.33 (Bold)\n",
            "2.11 (Medium)\n",
            "2.33 (Medium)\n",
            "3.0 (Slender)\n",
            "2.38 (Medium)\n",
            "1.67 (Bold)\n",
            "1.73 (Bold)\n",
            "2.62 (Medium)\n",
            "2.86 (Medium)\n",
            "3.14 (Slender)\n",
            "AVG ASPECT RATIO:= 2.3 (Medium)\n"
          ],
          "name": "stdout"
        }
      ]
    },
    {
      "cell_type": "code",
      "metadata": {
        "id": "GSX32M_xkZNv",
        "colab_type": "code",
        "colab": {
          "base_uri": "https://localhost:8080/",
          "height": 147
        },
        "outputId": "973a7c65-9b82-4f1d-f2c6-a3ec7920e974"
      },
      "source": [
        "imgs_row=2\n",
        "imgs_col= 3\n",
        "plt.subplot(imgs_row,imgs_col,1),plt.imshow(img,'gray')\n",
        "plt.title(\"ORIGINAL IMAGE IS GIVEN \")"
      ],
      "execution_count": 12,
      "outputs": [
        {
          "output_type": "execute_result",
          "data": {
            "text/plain": [
              "Text(0.5, 1.0, 'ORIGINAL IMAGE IS GIVEN ')"
            ]
          },
          "metadata": {
            "tags": []
          },
          "execution_count": 12
        },
        {
          "output_type": "display_data",
          "data": {
            "image/png": "[encoded data removed]",
            "text/plain": [
              "<Figure size 432x288 with 1 Axes>"
            ]
          },
          "metadata": {
            "tags": [],
            "needs_background": "light"
          }
        }
      ]
    },
    {
      "cell_type": "code",
      "metadata": {
        "id": "yoQ4GokKk0ND",
        "colab_type": "code",
        "colab": {
          "base_uri": "https://localhost:8080/",
          "height": 246
        },
        "outputId": "ff3cc851-be07-4ac6-d330-f42fada58035"
      },
      "source": [
        "\n",
        "plt.subplot(imgs_row,imgs_col,1),plt.imshow(binary,'gray')\n",
        "plt.title(\"BINARY IMAGE\")\n",
        "\n",
        "plt.subplot(imgs_row,imgs_col,3),plt.imshow(dst,'gray')\n",
        "plt.title(\"FILTERED IMAGE\")\n",
        "\n",
        "plt.subplot(imgs_row,imgs_col,4),plt.imshow(erosion,'gray')\n",
        "plt.title(\"ERODED IMAGE\")\n",
        "\n",
        "plt.subplot(imgs_row,imgs_col,5),plt.imshow(dilation,'gray')\n",
        "plt.title(\"DIALATED IMAGE\")\n",
        "\n",
        "plt.subplot(imgs_row,imgs_col,6),plt.imshow(edges,'gray')\n",
        "plt.title(\"EDGE DETECT\")\n",
        "\n",
        "plt.show()"
      ],
      "execution_count": 13,
      "outputs": [
        {
          "output_type": "display_data",
          "data": {
            "image/png": "[encoded data removed]",
            "text/plain": [
              "<Figure size 432x288 with 5 Axes>"
            ]
          },
          "metadata": {
            "tags": [],
            "needs_background": "light"
          }
        }
      ]
    }
  ]
}