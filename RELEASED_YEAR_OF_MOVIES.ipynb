{
  "nbformat": 4,
  "nbformat_minor": 0,
  "metadata": {
    "colab": {
      "name": "RELEASED YEAR OF MOVIES.ipynb",
      "provenance": [],
      "collapsed_sections": [],
      "authorship_tag": "ABX9TyN3INtm6kbiSyxfxtLCvdfO",
      "include_colab_link": true
    },
    "kernelspec": {
      "name": "python3",
      "display_name": "Python 3"
    }
  },
  "cells": [
    {
      "cell_type": "markdown",
      "metadata": {
        "id": "view-in-github",
        "colab_type": "text"
      },
      "source": [
        "<a href=\"https://colab.research.google.com/github/sira-code/my_beautiful_repo/blob/master/RELEASED_YEAR_OF_MOVIES.ipynb\" target=\"_parent\"><img src=\"https://colab.research.google.com/assets/colab-badge.svg\" alt=\"Open In Colab\"/></a>"
      ]
    },
    {
      "cell_type": "code",
      "metadata": {
        "id": "_pQt4_IiCsUy",
        "colab_type": "code",
        "colab": {
          "base_uri": "https://localhost:8080/",
          "height": 168
        },
        "outputId": "c86413fa-a9e8-48f2-89ae-85385e325d3a"
      },
      "source": [
        "pip install imdbpy"
      ],
      "execution_count": 1,
      "outputs": [
        {
          "output_type": "stream",
          "text": [
            "Collecting imdbpy\n",
            "\u001b[?25l  Downloading https://files.pythonhosted.org/packages/70/87/928f9b8752dfafe8093488e03bd5d04b5dc260902f409303b0891cec86ef/IMDbPY-6.8-py3-none-any.whl (295kB)\n",
            "\r\u001b[K     |█                               | 10kB 17.7MB/s eta 0:00:01\r\u001b[K     |██▏                             | 20kB 2.2MB/s eta 0:00:01\r\u001b[K     |███▎                            | 30kB 2.8MB/s eta 0:00:01\r\u001b[K     |████▍                           | 40kB 3.1MB/s eta 0:00:01\r\u001b[K     |█████▌                          | 51kB 2.5MB/s eta 0:00:01\r\u001b[K     |██████▋                         | 61kB 2.8MB/s eta 0:00:01\r\u001b[K     |███████▊                        | 71kB 3.1MB/s eta 0:00:01\r\u001b[K     |████████▉                       | 81kB 3.3MB/s eta 0:00:01\r\u001b[K     |██████████                      | 92kB 3.6MB/s eta 0:00:01\r\u001b[K     |███████████                     | 102kB 3.5MB/s eta 0:00:01\r\u001b[K     |████████████▏                   | 112kB 3.5MB/s eta 0:00:01\r\u001b[K     |█████████████▎                  | 122kB 3.5MB/s eta 0:00:01\r\u001b[K     |██████████████▍                 | 133kB 3.5MB/s eta 0:00:01\r\u001b[K     |███████████████▌                | 143kB 3.5MB/s eta 0:00:01\r\u001b[K     |████████████████▋               | 153kB 3.5MB/s eta 0:00:01\r\u001b[K     |█████████████████▊              | 163kB 3.5MB/s eta 0:00:01\r\u001b[K     |██████████████████▉             | 174kB 3.5MB/s eta 0:00:01\r\u001b[K     |████████████████████            | 184kB 3.5MB/s eta 0:00:01\r\u001b[K     |█████████████████████           | 194kB 3.5MB/s eta 0:00:01\r\u001b[K     |██████████████████████▏         | 204kB 3.5MB/s eta 0:00:01\r\u001b[K     |███████████████████████▎        | 215kB 3.5MB/s eta 0:00:01\r\u001b[K     |████████████████████████▍       | 225kB 3.5MB/s eta 0:00:01\r\u001b[K     |█████████████████████████▌      | 235kB 3.5MB/s eta 0:00:01\r\u001b[K     |██████████████████████████▋     | 245kB 3.5MB/s eta 0:00:01\r\u001b[K     |███████████████████████████▊    | 256kB 3.5MB/s eta 0:00:01\r\u001b[K     |████████████████████████████▉   | 266kB 3.5MB/s eta 0:00:01\r\u001b[K     |██████████████████████████████  | 276kB 3.5MB/s eta 0:00:01\r\u001b[K     |███████████████████████████████ | 286kB 3.5MB/s eta 0:00:01\r\u001b[K     |████████████████████████████████| 296kB 3.5MB/s \n",
            "\u001b[?25hRequirement already satisfied: SQLAlchemy in /usr/local/lib/python3.6/dist-packages (from imdbpy) (1.3.17)\n",
            "Requirement already satisfied: lxml in /usr/local/lib/python3.6/dist-packages (from imdbpy) (4.2.6)\n",
            "Installing collected packages: imdbpy\n",
            "Successfully installed imdbpy-6.8\n"
          ],
          "name": "stdout"
        }
      ]
    },
    {
      "cell_type": "code",
      "metadata": {
        "id": "0pQ3ufLqDO0c",
        "colab_type": "code",
        "colab": {}
      },
      "source": [
        "import imdb"
      ],
      "execution_count": 2,
      "outputs": []
    },
    {
      "cell_type": "code",
      "metadata": {
        "id": "JIdmhIivDS9X",
        "colab_type": "code",
        "colab": {}
      },
      "source": [
        "film = imdb.IMDb()\n"
      ],
      "execution_count": 3,
      "outputs": []
    },
    {
      "cell_type": "code",
      "metadata": {
        "id": "JtK1EPBvDbYf",
        "colab_type": "code",
        "colab": {}
      },
      "source": [
        "search = film.search_movie(\"PK\")"
      ],
      "execution_count": 4,
      "outputs": []
    },
    {
      "cell_type": "code",
      "metadata": {
        "id": "ytLzsT-0DoQb",
        "colab_type": "code",
        "colab": {}
      },
      "source": [
        "year = search[0]['year']"
      ],
      "execution_count": 5,
      "outputs": []
    },
    {
      "cell_type": "code",
      "metadata": {
        "id": "nztOrlzLDwr9",
        "colab_type": "code",
        "colab": {
          "base_uri": "https://localhost:8080/",
          "height": 36
        },
        "outputId": "46845be3-5b46-4569-bd10-f9175d8806ec"
      },
      "source": [
        "print(search[0]['title'] + \":\" + str(year)) "
      ],
      "execution_count": 6,
      "outputs": [
        {
          "output_type": "stream",
          "text": [
            "PK:2014\n"
          ],
          "name": "stdout"
        }
      ]
    }
  ]
}