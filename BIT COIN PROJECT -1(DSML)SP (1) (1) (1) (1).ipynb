{
 "cells": [
  {
   "cell_type": "markdown",
   "metadata": {},
   "source": [
    "# BITCOIN PROJECT"
   ]
  },
  {
   "cell_type": "code",
   "execution_count": 105,
   "metadata": {},
   "outputs": [],
   "source": [
    "#IN THIS PROJECT ,WE USE CLASSIFICATION ALGORITHMS.\n",
    "#LOAD A DATASET USING PANDAS LIBRARY AND APPLY FOLLOWING ALGORITHMS.\n",
    "#FIND THE BEST ONE FOR THIS SPECIFIC DATASET BY ACCURACY EVALUTION METHODS."
   ]
  },
  {
   "cell_type": "markdown",
   "metadata": {},
   "source": [
    "# IMPORT ALL THE NECESSARY LIBRARIES:-"
   ]
  },
  {
   "cell_type": "code",
   "execution_count": 106,
   "metadata": {},
   "outputs": [],
   "source": [
    "import numpy as np\n",
    "import matplotlib.pyplot as plt\n",
    "import os \n",
    "import seaborn as sns"
   ]
  },
  {
   "cell_type": "markdown",
   "metadata": {},
   "source": [
    "# LOAD THE DATASET"
   ]
  },
  {
   "cell_type": "code",
   "execution_count": 107,
   "metadata": {},
   "outputs": [
    {
     "data": {
      "text/html": [
       "<div>\n",
       "<style scoped>\n",
       "    .dataframe tbody tr th:only-of-type {\n",
       "        vertical-align: middle;\n",
       "    }\n",
       "\n",
       "    .dataframe tbody tr th {\n",
       "        vertical-align: top;\n",
       "    }\n",
       "\n",
       "    .dataframe thead th {\n",
       "        text-align: right;\n",
       "    }\n",
       "</style>\n",
       "<table border=\"1\" class=\"dataframe\">\n",
       "  <thead>\n",
       "    <tr style=\"text-align: right;\">\n",
       "      <th></th>\n",
       "      <th>Timestamp</th>\n",
       "      <th>Open</th>\n",
       "      <th>High</th>\n",
       "      <th>Low</th>\n",
       "      <th>Close</th>\n",
       "      <th>Volume_(BTC)</th>\n",
       "      <th>Volume_(Currency)</th>\n",
       "      <th>Weighted_Price</th>\n",
       "    </tr>\n",
       "  </thead>\n",
       "  <tbody>\n",
       "    <tr>\n",
       "      <th>0</th>\n",
       "      <td>1417411980</td>\n",
       "      <td>300.00</td>\n",
       "      <td>300.00</td>\n",
       "      <td>300.00</td>\n",
       "      <td>300.00</td>\n",
       "      <td>0.010000</td>\n",
       "      <td>3.000000</td>\n",
       "      <td>300.000000</td>\n",
       "    </tr>\n",
       "    <tr>\n",
       "      <th>1</th>\n",
       "      <td>1417412040</td>\n",
       "      <td>NaN</td>\n",
       "      <td>NaN</td>\n",
       "      <td>NaN</td>\n",
       "      <td>NaN</td>\n",
       "      <td>NaN</td>\n",
       "      <td>NaN</td>\n",
       "      <td>NaN</td>\n",
       "    </tr>\n",
       "    <tr>\n",
       "      <th>2</th>\n",
       "      <td>1417412100</td>\n",
       "      <td>NaN</td>\n",
       "      <td>NaN</td>\n",
       "      <td>NaN</td>\n",
       "      <td>NaN</td>\n",
       "      <td>NaN</td>\n",
       "      <td>NaN</td>\n",
       "      <td>NaN</td>\n",
       "    </tr>\n",
       "    <tr>\n",
       "      <th>3</th>\n",
       "      <td>1417412160</td>\n",
       "      <td>NaN</td>\n",
       "      <td>NaN</td>\n",
       "      <td>NaN</td>\n",
       "      <td>NaN</td>\n",
       "      <td>NaN</td>\n",
       "      <td>NaN</td>\n",
       "      <td>NaN</td>\n",
       "    </tr>\n",
       "    <tr>\n",
       "      <th>4</th>\n",
       "      <td>1417412220</td>\n",
       "      <td>NaN</td>\n",
       "      <td>NaN</td>\n",
       "      <td>NaN</td>\n",
       "      <td>NaN</td>\n",
       "      <td>NaN</td>\n",
       "      <td>NaN</td>\n",
       "      <td>NaN</td>\n",
       "    </tr>\n",
       "    <tr>\n",
       "      <th>...</th>\n",
       "      <td>...</td>\n",
       "      <td>...</td>\n",
       "      <td>...</td>\n",
       "      <td>...</td>\n",
       "      <td>...</td>\n",
       "      <td>...</td>\n",
       "      <td>...</td>\n",
       "      <td>...</td>\n",
       "    </tr>\n",
       "    <tr>\n",
       "      <th>2099755</th>\n",
       "      <td>1546898520</td>\n",
       "      <td>4006.01</td>\n",
       "      <td>4006.57</td>\n",
       "      <td>4006.00</td>\n",
       "      <td>4006.01</td>\n",
       "      <td>3.382954</td>\n",
       "      <td>13553.433078</td>\n",
       "      <td>4006.390309</td>\n",
       "    </tr>\n",
       "    <tr>\n",
       "      <th>2099756</th>\n",
       "      <td>1546898580</td>\n",
       "      <td>4006.01</td>\n",
       "      <td>4006.57</td>\n",
       "      <td>4006.00</td>\n",
       "      <td>4006.01</td>\n",
       "      <td>0.902164</td>\n",
       "      <td>3614.083169</td>\n",
       "      <td>4006.017233</td>\n",
       "    </tr>\n",
       "    <tr>\n",
       "      <th>2099757</th>\n",
       "      <td>1546898640</td>\n",
       "      <td>4006.01</td>\n",
       "      <td>4006.01</td>\n",
       "      <td>4006.00</td>\n",
       "      <td>4006.01</td>\n",
       "      <td>1.192123</td>\n",
       "      <td>4775.647308</td>\n",
       "      <td>4006.003635</td>\n",
       "    </tr>\n",
       "    <tr>\n",
       "      <th>2099758</th>\n",
       "      <td>1546898700</td>\n",
       "      <td>4006.01</td>\n",
       "      <td>4006.01</td>\n",
       "      <td>4005.50</td>\n",
       "      <td>4005.50</td>\n",
       "      <td>2.699700</td>\n",
       "      <td>10814.241898</td>\n",
       "      <td>4005.719991</td>\n",
       "    </tr>\n",
       "    <tr>\n",
       "      <th>2099759</th>\n",
       "      <td>1546898760</td>\n",
       "      <td>4005.51</td>\n",
       "      <td>4006.01</td>\n",
       "      <td>4005.51</td>\n",
       "      <td>4005.99</td>\n",
       "      <td>1.752778</td>\n",
       "      <td>7021.183546</td>\n",
       "      <td>4005.745614</td>\n",
       "    </tr>\n",
       "  </tbody>\n",
       "</table>\n",
       "<p>2099760 rows × 8 columns</p>\n",
       "</div>"
      ],
      "text/plain": [
       "          Timestamp     Open     High      Low    Close  Volume_(BTC)  \\\n",
       "0        1417411980   300.00   300.00   300.00   300.00      0.010000   \n",
       "1        1417412040      NaN      NaN      NaN      NaN           NaN   \n",
       "2        1417412100      NaN      NaN      NaN      NaN           NaN   \n",
       "3        1417412160      NaN      NaN      NaN      NaN           NaN   \n",
       "4        1417412220      NaN      NaN      NaN      NaN           NaN   \n",
       "...             ...      ...      ...      ...      ...           ...   \n",
       "2099755  1546898520  4006.01  4006.57  4006.00  4006.01      3.382954   \n",
       "2099756  1546898580  4006.01  4006.57  4006.00  4006.01      0.902164   \n",
       "2099757  1546898640  4006.01  4006.01  4006.00  4006.01      1.192123   \n",
       "2099758  1546898700  4006.01  4006.01  4005.50  4005.50      2.699700   \n",
       "2099759  1546898760  4005.51  4006.01  4005.51  4005.99      1.752778   \n",
       "\n",
       "         Volume_(Currency)  Weighted_Price  \n",
       "0                 3.000000      300.000000  \n",
       "1                      NaN             NaN  \n",
       "2                      NaN             NaN  \n",
       "3                      NaN             NaN  \n",
       "4                      NaN             NaN  \n",
       "...                    ...             ...  \n",
       "2099755       13553.433078     4006.390309  \n",
       "2099756        3614.083169     4006.017233  \n",
       "2099757        4775.647308     4006.003635  \n",
       "2099758       10814.241898     4005.719991  \n",
       "2099759        7021.183546     4005.745614  \n",
       "\n",
       "[2099760 rows x 8 columns]"
      ]
     },
     "execution_count": 107,
     "metadata": {},
     "output_type": "execute_result"
    }
   ],
   "source": [
    "#LOAD DATA FROM CSV FILE\n",
    "import pandas as pd\n",
    "df = pd.read_csv(\"bitcoin.csv\",sep=\",\")\n",
    "df"
   ]
  },
  {
   "cell_type": "markdown",
   "metadata": {},
   "source": [
    "# INFORMATION ABOUT DATASET:-"
   ]
  },
  {
   "cell_type": "code",
   "execution_count": 108,
   "metadata": {},
   "outputs": [],
   "source": [
    "#In this dataset:-\n",
    "#CSV files for select bitcoin exchanges for the giventime period ,\n",
    "#with minute to minute updates of OHLC (Open, High, Low, Close), \n",
    "#Volume in BTC and indicated currency, and weighted bitcoin price.\n",
    "#Timestamps are in Unix time.\n",
    "#Timestamps without any trades or activity have their data fields filled with NaNs. \n",
    "#If a timestamp is missing, or if there are jumps, this may be because the exchange (or its API) was down, the exchange (or its API) did not exist, or some other unforseen technical error in data reporting or gathering. \n",
    "#All effort has been made to duplicate entries and verify the contents are correct and complete to the best of my ability. "
   ]
  },
  {
   "cell_type": "markdown",
   "metadata": {},
   "source": [
    "# DATA EXPLORATION:-"
   ]
  },
  {
   "cell_type": "code",
   "execution_count": 109,
   "metadata": {},
   "outputs": [
    {
     "data": {
      "text/plain": [
       "Timestamp                 0\n",
       "Open                 109069\n",
       "High                 109069\n",
       "Low                  109069\n",
       "Close                109069\n",
       "Volume_(BTC)         109069\n",
       "Volume_(Currency)    109069\n",
       "Weighted_Price       109069\n",
       "dtype: int64"
      ]
     },
     "execution_count": 109,
     "metadata": {},
     "output_type": "execute_result"
    }
   ],
   "source": [
    "#LET'S SEE HOW MANY NULL VALUES ARE THEIR IN DATASET\n",
    "df.isnull().sum()"
   ]
  },
  {
   "cell_type": "code",
   "execution_count": 110,
   "metadata": {},
   "outputs": [
    {
     "data": {
      "text/html": [
       "<div>\n",
       "<style scoped>\n",
       "    .dataframe tbody tr th:only-of-type {\n",
       "        vertical-align: middle;\n",
       "    }\n",
       "\n",
       "    .dataframe tbody tr th {\n",
       "        vertical-align: top;\n",
       "    }\n",
       "\n",
       "    .dataframe thead th {\n",
       "        text-align: right;\n",
       "    }\n",
       "</style>\n",
       "<table border=\"1\" class=\"dataframe\">\n",
       "  <thead>\n",
       "    <tr style=\"text-align: right;\">\n",
       "      <th></th>\n",
       "      <th>Timestamp</th>\n",
       "      <th>Open</th>\n",
       "      <th>High</th>\n",
       "      <th>Low</th>\n",
       "      <th>Close</th>\n",
       "      <th>Volume_(BTC)</th>\n",
       "      <th>Volume_(Currency)</th>\n",
       "      <th>Weighted_Price</th>\n",
       "    </tr>\n",
       "  </thead>\n",
       "  <tbody>\n",
       "    <tr>\n",
       "      <th>0</th>\n",
       "      <td>1417411980</td>\n",
       "      <td>300.0</td>\n",
       "      <td>300.0</td>\n",
       "      <td>300.0</td>\n",
       "      <td>300.0</td>\n",
       "      <td>0.01</td>\n",
       "      <td>3.0</td>\n",
       "      <td>300.0</td>\n",
       "    </tr>\n",
       "    <tr>\n",
       "      <th>1</th>\n",
       "      <td>1417412040</td>\n",
       "      <td>NaN</td>\n",
       "      <td>NaN</td>\n",
       "      <td>NaN</td>\n",
       "      <td>NaN</td>\n",
       "      <td>NaN</td>\n",
       "      <td>NaN</td>\n",
       "      <td>NaN</td>\n",
       "    </tr>\n",
       "    <tr>\n",
       "      <th>2</th>\n",
       "      <td>1417412100</td>\n",
       "      <td>NaN</td>\n",
       "      <td>NaN</td>\n",
       "      <td>NaN</td>\n",
       "      <td>NaN</td>\n",
       "      <td>NaN</td>\n",
       "      <td>NaN</td>\n",
       "      <td>NaN</td>\n",
       "    </tr>\n",
       "    <tr>\n",
       "      <th>3</th>\n",
       "      <td>1417412160</td>\n",
       "      <td>NaN</td>\n",
       "      <td>NaN</td>\n",
       "      <td>NaN</td>\n",
       "      <td>NaN</td>\n",
       "      <td>NaN</td>\n",
       "      <td>NaN</td>\n",
       "      <td>NaN</td>\n",
       "    </tr>\n",
       "    <tr>\n",
       "      <th>4</th>\n",
       "      <td>1417412220</td>\n",
       "      <td>NaN</td>\n",
       "      <td>NaN</td>\n",
       "      <td>NaN</td>\n",
       "      <td>NaN</td>\n",
       "      <td>NaN</td>\n",
       "      <td>NaN</td>\n",
       "      <td>NaN</td>\n",
       "    </tr>\n",
       "  </tbody>\n",
       "</table>\n",
       "</div>"
      ],
      "text/plain": [
       "    Timestamp   Open   High    Low  Close  Volume_(BTC)  Volume_(Currency)  \\\n",
       "0  1417411980  300.0  300.0  300.0  300.0          0.01                3.0   \n",
       "1  1417412040    NaN    NaN    NaN    NaN           NaN                NaN   \n",
       "2  1417412100    NaN    NaN    NaN    NaN           NaN                NaN   \n",
       "3  1417412160    NaN    NaN    NaN    NaN           NaN                NaN   \n",
       "4  1417412220    NaN    NaN    NaN    NaN           NaN                NaN   \n",
       "\n",
       "   Weighted_Price  \n",
       "0           300.0  \n",
       "1             NaN  \n",
       "2             NaN  \n",
       "3             NaN  \n",
       "4             NaN  "
      ]
     },
     "execution_count": 110,
     "metadata": {},
     "output_type": "execute_result"
    }
   ],
   "source": [
    "df.head()#THIS FUNCTION RETURNS THE FISRT N ROWS FOR THE OBJECT BASED ON POSITION."
   ]
  },
  {
   "cell_type": "code",
   "execution_count": 111,
   "metadata": {},
   "outputs": [
    {
     "data": {
      "text/plain": [
       "(2099760, 8)"
      ]
     },
     "execution_count": 111,
     "metadata": {},
     "output_type": "execute_result"
    }
   ],
   "source": [
    "df.shape #THIS ATTRIBUTE STORES THE NUMBER OF ROWS AND COLUMNS AS ATUPLE (NO.OF ROWS,NO. OF COLOMNS)"
   ]
  },
  {
   "cell_type": "code",
   "execution_count": 112,
   "metadata": {},
   "outputs": [
    {
     "name": "stdout",
     "output_type": "stream",
     "text": [
      "<class 'pandas.core.frame.DataFrame'>\n",
      "RangeIndex: 2099760 entries, 0 to 2099759\n",
      "Data columns (total 8 columns):\n",
      " #   Column             Dtype  \n",
      "---  ------             -----  \n",
      " 0   Timestamp          int64  \n",
      " 1   Open               float64\n",
      " 2   High               float64\n",
      " 3   Low                float64\n",
      " 4   Close              float64\n",
      " 5   Volume_(BTC)       float64\n",
      " 6   Volume_(Currency)  float64\n",
      " 7   Weighted_Price     float64\n",
      "dtypes: float64(7), int64(1)\n",
      "memory usage: 128.2 MB\n"
     ]
    }
   ],
   "source": [
    "df.info() # THIS FUNCTION PRINT A SUMMARY OF A GIVEN DATASET,PRINTS THE INFORMATION ABOUT A DATAFRAME ALONG WITH :\n",
    "#INDEX DTYPE AND COLUMNS DTYPES,NON-NULL VALUES AND MEMORY USAGE ."
   ]
  },
  {
   "cell_type": "code",
   "execution_count": 113,
   "metadata": {},
   "outputs": [
    {
     "data": {
      "text/html": [
       "<div>\n",
       "<style scoped>\n",
       "    .dataframe tbody tr th:only-of-type {\n",
       "        vertical-align: middle;\n",
       "    }\n",
       "\n",
       "    .dataframe tbody tr th {\n",
       "        vertical-align: top;\n",
       "    }\n",
       "\n",
       "    .dataframe thead th {\n",
       "        text-align: right;\n",
       "    }\n",
       "</style>\n",
       "<table border=\"1\" class=\"dataframe\">\n",
       "  <thead>\n",
       "    <tr style=\"text-align: right;\">\n",
       "      <th></th>\n",
       "      <th>Timestamp</th>\n",
       "      <th>Open</th>\n",
       "      <th>High</th>\n",
       "      <th>Low</th>\n",
       "      <th>Close</th>\n",
       "      <th>Volume_(BTC)</th>\n",
       "      <th>Volume_(Currency)</th>\n",
       "      <th>Weighted_Price</th>\n",
       "    </tr>\n",
       "  </thead>\n",
       "  <tbody>\n",
       "    <tr>\n",
       "      <th>Timestamp</th>\n",
       "      <td>1.000000</td>\n",
       "      <td>0.739841</td>\n",
       "      <td>0.739709</td>\n",
       "      <td>0.739981</td>\n",
       "      <td>0.739841</td>\n",
       "      <td>0.083118</td>\n",
       "      <td>0.216426</td>\n",
       "      <td>0.739844</td>\n",
       "    </tr>\n",
       "    <tr>\n",
       "      <th>Open</th>\n",
       "      <td>0.739841</td>\n",
       "      <td>1.000000</td>\n",
       "      <td>0.999998</td>\n",
       "      <td>0.999998</td>\n",
       "      <td>0.999997</td>\n",
       "      <td>0.147888</td>\n",
       "      <td>0.399696</td>\n",
       "      <td>0.999999</td>\n",
       "    </tr>\n",
       "    <tr>\n",
       "      <th>High</th>\n",
       "      <td>0.739709</td>\n",
       "      <td>0.999998</td>\n",
       "      <td>1.000000</td>\n",
       "      <td>0.999996</td>\n",
       "      <td>0.999998</td>\n",
       "      <td>0.148487</td>\n",
       "      <td>0.400542</td>\n",
       "      <td>0.999999</td>\n",
       "    </tr>\n",
       "    <tr>\n",
       "      <th>Low</th>\n",
       "      <td>0.739981</td>\n",
       "      <td>0.999998</td>\n",
       "      <td>0.999996</td>\n",
       "      <td>1.000000</td>\n",
       "      <td>0.999998</td>\n",
       "      <td>0.147208</td>\n",
       "      <td>0.398760</td>\n",
       "      <td>0.999999</td>\n",
       "    </tr>\n",
       "    <tr>\n",
       "      <th>Close</th>\n",
       "      <td>0.739841</td>\n",
       "      <td>0.999997</td>\n",
       "      <td>0.999998</td>\n",
       "      <td>0.999998</td>\n",
       "      <td>1.000000</td>\n",
       "      <td>0.147858</td>\n",
       "      <td>0.399670</td>\n",
       "      <td>0.999999</td>\n",
       "    </tr>\n",
       "    <tr>\n",
       "      <th>Volume_(BTC)</th>\n",
       "      <td>0.083118</td>\n",
       "      <td>0.147888</td>\n",
       "      <td>0.148487</td>\n",
       "      <td>0.147208</td>\n",
       "      <td>0.147858</td>\n",
       "      <td>1.000000</td>\n",
       "      <td>0.710127</td>\n",
       "      <td>0.147834</td>\n",
       "    </tr>\n",
       "    <tr>\n",
       "      <th>Volume_(Currency)</th>\n",
       "      <td>0.216426</td>\n",
       "      <td>0.399696</td>\n",
       "      <td>0.400542</td>\n",
       "      <td>0.398760</td>\n",
       "      <td>0.399670</td>\n",
       "      <td>0.710127</td>\n",
       "      <td>1.000000</td>\n",
       "      <td>0.399635</td>\n",
       "    </tr>\n",
       "    <tr>\n",
       "      <th>Weighted_Price</th>\n",
       "      <td>0.739844</td>\n",
       "      <td>0.999999</td>\n",
       "      <td>0.999999</td>\n",
       "      <td>0.999999</td>\n",
       "      <td>0.999999</td>\n",
       "      <td>0.147834</td>\n",
       "      <td>0.399635</td>\n",
       "      <td>1.000000</td>\n",
       "    </tr>\n",
       "  </tbody>\n",
       "</table>\n",
       "</div>"
      ],
      "text/plain": [
       "                   Timestamp      Open      High       Low     Close  \\\n",
       "Timestamp           1.000000  0.739841  0.739709  0.739981  0.739841   \n",
       "Open                0.739841  1.000000  0.999998  0.999998  0.999997   \n",
       "High                0.739709  0.999998  1.000000  0.999996  0.999998   \n",
       "Low                 0.739981  0.999998  0.999996  1.000000  0.999998   \n",
       "Close               0.739841  0.999997  0.999998  0.999998  1.000000   \n",
       "Volume_(BTC)        0.083118  0.147888  0.148487  0.147208  0.147858   \n",
       "Volume_(Currency)   0.216426  0.399696  0.400542  0.398760  0.399670   \n",
       "Weighted_Price      0.739844  0.999999  0.999999  0.999999  0.999999   \n",
       "\n",
       "                   Volume_(BTC)  Volume_(Currency)  Weighted_Price  \n",
       "Timestamp              0.083118           0.216426        0.739844  \n",
       "Open                   0.147888           0.399696        0.999999  \n",
       "High                   0.148487           0.400542        0.999999  \n",
       "Low                    0.147208           0.398760        0.999999  \n",
       "Close                  0.147858           0.399670        0.999999  \n",
       "Volume_(BTC)           1.000000           0.710127        0.147834  \n",
       "Volume_(Currency)      0.710127           1.000000        0.399635  \n",
       "Weighted_Price         0.147834           0.399635        1.000000  "
      ]
     },
     "execution_count": 113,
     "metadata": {},
     "output_type": "execute_result"
    }
   ],
   "source": [
    "df.corr() #THIS FUNCTION IS USED TO FIND THE PAIRWISE CORRELATION OF ALL COLOUMNS IN THE DATASET,ANY (NA VALUES) ARE AUTOMATICALLY EXCLUDED."
   ]
  },
  {
   "cell_type": "code",
   "execution_count": 114,
   "metadata": {},
   "outputs": [
    {
     "data": {
      "text/html": [
       "<div>\n",
       "<style scoped>\n",
       "    .dataframe tbody tr th:only-of-type {\n",
       "        vertical-align: middle;\n",
       "    }\n",
       "\n",
       "    .dataframe tbody tr th {\n",
       "        vertical-align: top;\n",
       "    }\n",
       "\n",
       "    .dataframe thead th {\n",
       "        text-align: right;\n",
       "    }\n",
       "</style>\n",
       "<table border=\"1\" class=\"dataframe\">\n",
       "  <thead>\n",
       "    <tr style=\"text-align: right;\">\n",
       "      <th></th>\n",
       "      <th>Timestamp</th>\n",
       "      <th>Open</th>\n",
       "      <th>High</th>\n",
       "      <th>Low</th>\n",
       "      <th>Close</th>\n",
       "      <th>Volume_(BTC)</th>\n",
       "      <th>Volume_(Currency)</th>\n",
       "      <th>Weighted_Price</th>\n",
       "    </tr>\n",
       "  </thead>\n",
       "  <tbody>\n",
       "    <tr>\n",
       "      <th>count</th>\n",
       "      <td>2.099760e+06</td>\n",
       "      <td>1.990691e+06</td>\n",
       "      <td>1.990691e+06</td>\n",
       "      <td>1.990691e+06</td>\n",
       "      <td>1.990691e+06</td>\n",
       "      <td>1.990691e+06</td>\n",
       "      <td>1.990691e+06</td>\n",
       "      <td>1.990691e+06</td>\n",
       "    </tr>\n",
       "    <tr>\n",
       "      <th>mean</th>\n",
       "      <td>1.483899e+09</td>\n",
       "      <td>3.246403e+03</td>\n",
       "      <td>3.247829e+03</td>\n",
       "      <td>3.244856e+03</td>\n",
       "      <td>3.246403e+03</td>\n",
       "      <td>7.849139e+00</td>\n",
       "      <td>3.600157e+04</td>\n",
       "      <td>3.246341e+03</td>\n",
       "    </tr>\n",
       "    <tr>\n",
       "      <th>std</th>\n",
       "      <td>3.638214e+07</td>\n",
       "      <td>3.799154e+03</td>\n",
       "      <td>3.801394e+03</td>\n",
       "      <td>3.796761e+03</td>\n",
       "      <td>3.799150e+03</td>\n",
       "      <td>1.873222e+01</td>\n",
       "      <td>1.401879e+05</td>\n",
       "      <td>3.799078e+03</td>\n",
       "    </tr>\n",
       "    <tr>\n",
       "      <th>min</th>\n",
       "      <td>1.417412e+09</td>\n",
       "      <td>6.000000e-02</td>\n",
       "      <td>6.000000e-02</td>\n",
       "      <td>6.000000e-02</td>\n",
       "      <td>6.000000e-02</td>\n",
       "      <td>1.000000e-08</td>\n",
       "      <td>2.641700e-06</td>\n",
       "      <td>6.000000e-02</td>\n",
       "    </tr>\n",
       "    <tr>\n",
       "      <th>25%</th>\n",
       "      <td>1.452410e+09</td>\n",
       "      <td>4.195800e+02</td>\n",
       "      <td>4.196400e+02</td>\n",
       "      <td>4.195000e+02</td>\n",
       "      <td>4.195700e+02</td>\n",
       "      <td>9.024000e-01</td>\n",
       "      <td>6.440031e+02</td>\n",
       "      <td>4.195645e+02</td>\n",
       "    </tr>\n",
       "    <tr>\n",
       "      <th>50%</th>\n",
       "      <td>1.483906e+09</td>\n",
       "      <td>1.014580e+03</td>\n",
       "      <td>1.014890e+03</td>\n",
       "      <td>1.014150e+03</td>\n",
       "      <td>1.014530e+03</td>\n",
       "      <td>2.692900e+00</td>\n",
       "      <td>3.695642e+03</td>\n",
       "      <td>1.014512e+03</td>\n",
       "    </tr>\n",
       "    <tr>\n",
       "      <th>75%</th>\n",
       "      <td>1.515402e+09</td>\n",
       "      <td>6.322630e+03</td>\n",
       "      <td>6.324010e+03</td>\n",
       "      <td>6.321090e+03</td>\n",
       "      <td>6.322670e+03</td>\n",
       "      <td>7.600965e+00</td>\n",
       "      <td>1.972392e+04</td>\n",
       "      <td>6.322550e+03</td>\n",
       "    </tr>\n",
       "    <tr>\n",
       "      <th>max</th>\n",
       "      <td>1.546899e+09</td>\n",
       "      <td>1.989199e+04</td>\n",
       "      <td>1.989199e+04</td>\n",
       "      <td>1.989198e+04</td>\n",
       "      <td>1.989199e+04</td>\n",
       "      <td>1.563267e+03</td>\n",
       "      <td>1.997076e+07</td>\n",
       "      <td>1.989199e+04</td>\n",
       "    </tr>\n",
       "  </tbody>\n",
       "</table>\n",
       "</div>"
      ],
      "text/plain": [
       "          Timestamp          Open          High           Low         Close  \\\n",
       "count  2.099760e+06  1.990691e+06  1.990691e+06  1.990691e+06  1.990691e+06   \n",
       "mean   1.483899e+09  3.246403e+03  3.247829e+03  3.244856e+03  3.246403e+03   \n",
       "std    3.638214e+07  3.799154e+03  3.801394e+03  3.796761e+03  3.799150e+03   \n",
       "min    1.417412e+09  6.000000e-02  6.000000e-02  6.000000e-02  6.000000e-02   \n",
       "25%    1.452410e+09  4.195800e+02  4.196400e+02  4.195000e+02  4.195700e+02   \n",
       "50%    1.483906e+09  1.014580e+03  1.014890e+03  1.014150e+03  1.014530e+03   \n",
       "75%    1.515402e+09  6.322630e+03  6.324010e+03  6.321090e+03  6.322670e+03   \n",
       "max    1.546899e+09  1.989199e+04  1.989199e+04  1.989198e+04  1.989199e+04   \n",
       "\n",
       "       Volume_(BTC)  Volume_(Currency)  Weighted_Price  \n",
       "count  1.990691e+06       1.990691e+06    1.990691e+06  \n",
       "mean   7.849139e+00       3.600157e+04    3.246341e+03  \n",
       "std    1.873222e+01       1.401879e+05    3.799078e+03  \n",
       "min    1.000000e-08       2.641700e-06    6.000000e-02  \n",
       "25%    9.024000e-01       6.440031e+02    4.195645e+02  \n",
       "50%    2.692900e+00       3.695642e+03    1.014512e+03  \n",
       "75%    7.600965e+00       1.972392e+04    6.322550e+03  \n",
       "max    1.563267e+03       1.997076e+07    1.989199e+04  "
      ]
     },
     "execution_count": 114,
     "metadata": {},
     "output_type": "execute_result"
    }
   ],
   "source": [
    "df.describe() # USED FOR CALCULATING SOME STATISTICAL DATA LIKE PERCENTILE, MEAN , STD OF THE NUMERICAL VALUES SERIES."
   ]
  },
  {
   "cell_type": "code",
   "execution_count": 115,
   "metadata": {},
   "outputs": [
    {
     "data": {
      "text/plain": [
       "<matplotlib.axes._subplots.AxesSubplot at 0x1f68ee37848>"
      ]
     },
     "execution_count": 115,
     "metadata": {},
     "output_type": "execute_result"
    },
    {
     "data": {
      "image/png": "[encoded data removed]",
      "text/plain": [
       "<Figure size 648x648 with 1 Axes>"
      ]
     },
     "metadata": {
      "needs_background": "light"
     },
     "output_type": "display_data"
    }
   ],
   "source": [
    "#FIND OUT WHERE THE MISSING VALUES IS:\n",
    "f,ax = plt.subplots(figsize=(9,9))\n",
    "sns.heatmap(df.isnull(),yticklabels=False,cbar = False,cmap = 'viridis')"
   ]
  },
  {
   "cell_type": "code",
   "execution_count": 116,
   "metadata": {},
   "outputs": [
    {
     "data": {
      "text/plain": [
       "<matplotlib.axes._subplots.AxesSubplot at 0x1f691366248>"
      ]
     },
     "execution_count": 116,
     "metadata": {},
     "output_type": "execute_result"
    },
    {
     "data": {
      "image/png": "[encoded data removed]",
      "text/plain": [
       "<Figure size 432x288 with 1 Axes>"
      ]
     },
     "metadata": {
      "needs_background": "light"
     },
     "output_type": "display_data"
    }
   ],
   "source": [
    "sns.heatmap(df.isnull(),cbar= False)"
   ]
  },
  {
   "cell_type": "code",
   "execution_count": 117,
   "metadata": {},
   "outputs": [],
   "source": [
    "#I SEE THAT :\n",
    "             #ALL THE COLOUMN EXCEPT TIMESTAMP HAS MISSING VALUES AS SHOWN ABOVE AND VALUES ARE SOMEWHAT EQUAL."
   ]
  },
  {
   "cell_type": "markdown",
   "metadata": {},
   "source": [
    "# DATA VISUALIZATION AND PREPROCESSING:-"
   ]
  },
  {
   "cell_type": "code",
   "execution_count": 118,
   "metadata": {},
   "outputs": [
    {
     "data": {
      "text/plain": [
       "6399.99     446\n",
       "238.00      373\n",
       "6400.00     336\n",
       "237.00      327\n",
       "237.50      301\n",
       "           ... \n",
       "8040.07       1\n",
       "14502.75      1\n",
       "8087.18       1\n",
       "3838.36       1\n",
       "6287.66       1\n",
       "Name: Low, Length: 432869, dtype: int64"
      ]
     },
     "execution_count": 118,
     "metadata": {},
     "output_type": "execute_result"
    }
   ],
   "source": [
    "d =df['Low'].value_counts(dropna='False') #USED A SERIES CONTAINING COUNTS OF UNIQUE VALUES\n",
    "                          #EXCLUDES NA VALUES BY DEFAULT.\n",
    "d"
   ]
  },
  {
   "cell_type": "markdown",
   "metadata": {},
   "source": [
    "# VISUAL EXPLORATORY DATA ANALYSIS:-"
   ]
  },
  {
   "cell_type": "code",
   "execution_count": 119,
   "metadata": {},
   "outputs": [
    {
     "data": {
      "image/png": "[encoded data removed]",
      "text/plain": [
       "<Figure size 432x288 with 1 Axes>"
      ]
     },
     "metadata": {
      "needs_background": "light"
     },
     "output_type": "display_data"
    }
   ],
   "source": [
    "df.boxplot(column='Open')\n",
    "plt.show()"
   ]
  },
  {
   "cell_type": "code",
   "execution_count": 120,
   "metadata": {},
   "outputs": [
    {
     "data": {
      "text/plain": [
       "<matplotlib.axes._subplots.AxesSubplot at 0x1f68fd4aac8>"
      ]
     },
     "execution_count": 120,
     "metadata": {},
     "output_type": "execute_result"
    },
    {
     "data": {
      "image/png": "[encoded data removed]",
      "text/plain": [
       "<Figure size 432x288 with 1 Axes>"
      ]
     },
     "metadata": {
      "needs_background": "light"
     },
     "output_type": "display_data"
    }
   ],
   "source": [
    "df.boxplot(column='Weighted_Price')"
   ]
  },
  {
   "cell_type": "code",
   "execution_count": 121,
   "metadata": {},
   "outputs": [
    {
     "data": {
      "text/plain": [
       "Text(0.5, 1.0, 'Close')"
      ]
     },
     "execution_count": 121,
     "metadata": {},
     "output_type": "execute_result"
    },
    {
     "data": {
      "image/png": "[encoded data removed]",
      "text/plain": [
       "<Figure size 864x432 with 4 Axes>"
      ]
     },
     "metadata": {
      "needs_background": "light"
     },
     "output_type": "display_data"
    }
   ],
   "source": [
    "#columns with missing values\n",
    "fig,axes = plt.subplots(1,4,figsize=(12,6))\n",
    "axes[0].plot(df['Open'])\n",
    "axes[0].set_title(\"Open\")\n",
    "axes[1].plot(df['High'])\n",
    "axes[1].set_title(\"High\")\n",
    "axes[2].plot(df['Low'])\n",
    "axes[2].set_title(\"Low\")\n",
    "axes[3].plot(df['Close'])\n",
    "axes[3].set_title(\"Close\")"
   ]
  },
  {
   "cell_type": "code",
   "execution_count": 122,
   "metadata": {},
   "outputs": [
    {
     "data": {
      "text/plain": [
       "Text(0.5, 1.0, 'Weighted_Price')"
      ]
     },
     "execution_count": 122,
     "metadata": {},
     "output_type": "execute_result"
    },
    {
     "data": {
      "image/png": "[encoded data removed]",
      "text/plain": [
       "<Figure size 864x432 with 3 Axes>"
      ]
     },
     "metadata": {
      "needs_background": "light"
     },
     "output_type": "display_data"
    }
   ],
   "source": [
    "fig,axes = plt.subplots(1,3,figsize=(12,6))\n",
    "axes[0].plot(df['Volume_(BTC)'])\n",
    "axes[0].set_title(\"Volume_(BTC)\")\n",
    "axes[1].plot(df['Volume_(Currency)'])\n",
    "axes[1].set_title(\"Volume_(Currency)\")\n",
    "axes[2].plot(df['Weighted_Price'])\n",
    "axes[2].set_title(\"Weighted_Price\")"
   ]
  },
  {
   "cell_type": "code",
   "execution_count": 123,
   "metadata": {},
   "outputs": [],
   "source": [
    "df_nonan= df.dropna(thresh=2)#DROPNA()FUCTION USED TO REMOVE MISSING VALUES.\n",
    "                             #THRESH -REQUIRE THAT MANY NON NA VALUES."
   ]
  },
  {
   "cell_type": "code",
   "execution_count": 124,
   "metadata": {},
   "outputs": [
    {
     "data": {
      "text/html": [
       "<div>\n",
       "<style scoped>\n",
       "    .dataframe tbody tr th:only-of-type {\n",
       "        vertical-align: middle;\n",
       "    }\n",
       "\n",
       "    .dataframe tbody tr th {\n",
       "        vertical-align: top;\n",
       "    }\n",
       "\n",
       "    .dataframe thead th {\n",
       "        text-align: right;\n",
       "    }\n",
       "</style>\n",
       "<table border=\"1\" class=\"dataframe\">\n",
       "  <thead>\n",
       "    <tr style=\"text-align: right;\">\n",
       "      <th></th>\n",
       "      <th>Timestamp</th>\n",
       "      <th>Open</th>\n",
       "      <th>High</th>\n",
       "      <th>Low</th>\n",
       "      <th>Close</th>\n",
       "      <th>Volume_(BTC)</th>\n",
       "      <th>Volume_(Currency)</th>\n",
       "      <th>Weighted_Price</th>\n",
       "    </tr>\n",
       "  </thead>\n",
       "  <tbody>\n",
       "    <tr>\n",
       "      <th>0</th>\n",
       "      <td>1417411980</td>\n",
       "      <td>300.00</td>\n",
       "      <td>300.0</td>\n",
       "      <td>300.00</td>\n",
       "      <td>300.0</td>\n",
       "      <td>0.010000</td>\n",
       "      <td>3.000000</td>\n",
       "      <td>300.000000</td>\n",
       "    </tr>\n",
       "    <tr>\n",
       "      <th>7</th>\n",
       "      <td>1417412400</td>\n",
       "      <td>300.00</td>\n",
       "      <td>300.0</td>\n",
       "      <td>300.00</td>\n",
       "      <td>300.0</td>\n",
       "      <td>0.010000</td>\n",
       "      <td>3.000000</td>\n",
       "      <td>300.000000</td>\n",
       "    </tr>\n",
       "    <tr>\n",
       "      <th>51</th>\n",
       "      <td>1417415040</td>\n",
       "      <td>370.00</td>\n",
       "      <td>370.0</td>\n",
       "      <td>370.00</td>\n",
       "      <td>370.0</td>\n",
       "      <td>0.010000</td>\n",
       "      <td>3.700000</td>\n",
       "      <td>370.000000</td>\n",
       "    </tr>\n",
       "    <tr>\n",
       "      <th>77</th>\n",
       "      <td>1417416600</td>\n",
       "      <td>370.00</td>\n",
       "      <td>370.0</td>\n",
       "      <td>370.00</td>\n",
       "      <td>370.0</td>\n",
       "      <td>0.026556</td>\n",
       "      <td>9.825550</td>\n",
       "      <td>370.000000</td>\n",
       "    </tr>\n",
       "    <tr>\n",
       "      <th>1436</th>\n",
       "      <td>1417498140</td>\n",
       "      <td>377.00</td>\n",
       "      <td>377.0</td>\n",
       "      <td>377.00</td>\n",
       "      <td>377.0</td>\n",
       "      <td>0.010000</td>\n",
       "      <td>3.770000</td>\n",
       "      <td>377.000000</td>\n",
       "    </tr>\n",
       "    <tr>\n",
       "      <th>1766</th>\n",
       "      <td>1417517940</td>\n",
       "      <td>377.75</td>\n",
       "      <td>378.0</td>\n",
       "      <td>377.75</td>\n",
       "      <td>378.0</td>\n",
       "      <td>4.000000</td>\n",
       "      <td>1511.937500</td>\n",
       "      <td>377.984375</td>\n",
       "    </tr>\n",
       "    <tr>\n",
       "      <th>1771</th>\n",
       "      <td>1417518240</td>\n",
       "      <td>378.00</td>\n",
       "      <td>378.0</td>\n",
       "      <td>378.00</td>\n",
       "      <td>378.0</td>\n",
       "      <td>4.900000</td>\n",
       "      <td>1852.200000</td>\n",
       "      <td>378.000000</td>\n",
       "    </tr>\n",
       "    <tr>\n",
       "      <th>1772</th>\n",
       "      <td>1417518300</td>\n",
       "      <td>378.00</td>\n",
       "      <td>378.0</td>\n",
       "      <td>378.00</td>\n",
       "      <td>378.0</td>\n",
       "      <td>5.200000</td>\n",
       "      <td>1965.600000</td>\n",
       "      <td>378.000000</td>\n",
       "    </tr>\n",
       "    <tr>\n",
       "      <th>2230</th>\n",
       "      <td>1417545780</td>\n",
       "      <td>378.00</td>\n",
       "      <td>378.0</td>\n",
       "      <td>378.00</td>\n",
       "      <td>378.0</td>\n",
       "      <td>0.100000</td>\n",
       "      <td>37.800000</td>\n",
       "      <td>378.000000</td>\n",
       "    </tr>\n",
       "    <tr>\n",
       "      <th>2245</th>\n",
       "      <td>1417546680</td>\n",
       "      <td>378.00</td>\n",
       "      <td>378.0</td>\n",
       "      <td>378.00</td>\n",
       "      <td>378.0</td>\n",
       "      <td>0.793600</td>\n",
       "      <td>299.980800</td>\n",
       "      <td>378.000000</td>\n",
       "    </tr>\n",
       "    <tr>\n",
       "      <th>2309</th>\n",
       "      <td>1417550520</td>\n",
       "      <td>378.00</td>\n",
       "      <td>378.0</td>\n",
       "      <td>378.00</td>\n",
       "      <td>378.0</td>\n",
       "      <td>0.010000</td>\n",
       "      <td>3.780000</td>\n",
       "      <td>378.000000</td>\n",
       "    </tr>\n",
       "    <tr>\n",
       "      <th>2882</th>\n",
       "      <td>1417584900</td>\n",
       "      <td>377.90</td>\n",
       "      <td>377.9</td>\n",
       "      <td>377.90</td>\n",
       "      <td>377.9</td>\n",
       "      <td>0.010000</td>\n",
       "      <td>3.779000</td>\n",
       "      <td>377.900000</td>\n",
       "    </tr>\n",
       "    <tr>\n",
       "      <th>2898</th>\n",
       "      <td>1417585860</td>\n",
       "      <td>378.00</td>\n",
       "      <td>378.0</td>\n",
       "      <td>378.00</td>\n",
       "      <td>378.0</td>\n",
       "      <td>0.066084</td>\n",
       "      <td>24.979828</td>\n",
       "      <td>378.000000</td>\n",
       "    </tr>\n",
       "    <tr>\n",
       "      <th>2915</th>\n",
       "      <td>1417586880</td>\n",
       "      <td>378.00</td>\n",
       "      <td>378.0</td>\n",
       "      <td>378.00</td>\n",
       "      <td>378.0</td>\n",
       "      <td>0.010524</td>\n",
       "      <td>3.978155</td>\n",
       "      <td>378.000000</td>\n",
       "    </tr>\n",
       "    <tr>\n",
       "      <th>3659</th>\n",
       "      <td>1417631520</td>\n",
       "      <td>378.00</td>\n",
       "      <td>378.0</td>\n",
       "      <td>378.00</td>\n",
       "      <td>378.0</td>\n",
       "      <td>0.350000</td>\n",
       "      <td>132.300000</td>\n",
       "      <td>378.000000</td>\n",
       "    </tr>\n",
       "  </tbody>\n",
       "</table>\n",
       "</div>"
      ],
      "text/plain": [
       "       Timestamp    Open   High     Low  Close  Volume_(BTC)  \\\n",
       "0     1417411980  300.00  300.0  300.00  300.0      0.010000   \n",
       "7     1417412400  300.00  300.0  300.00  300.0      0.010000   \n",
       "51    1417415040  370.00  370.0  370.00  370.0      0.010000   \n",
       "77    1417416600  370.00  370.0  370.00  370.0      0.026556   \n",
       "1436  1417498140  377.00  377.0  377.00  377.0      0.010000   \n",
       "1766  1417517940  377.75  378.0  377.75  378.0      4.000000   \n",
       "1771  1417518240  378.00  378.0  378.00  378.0      4.900000   \n",
       "1772  1417518300  378.00  378.0  378.00  378.0      5.200000   \n",
       "2230  1417545780  378.00  378.0  378.00  378.0      0.100000   \n",
       "2245  1417546680  378.00  378.0  378.00  378.0      0.793600   \n",
       "2309  1417550520  378.00  378.0  378.00  378.0      0.010000   \n",
       "2882  1417584900  377.90  377.9  377.90  377.9      0.010000   \n",
       "2898  1417585860  378.00  378.0  378.00  378.0      0.066084   \n",
       "2915  1417586880  378.00  378.0  378.00  378.0      0.010524   \n",
       "3659  1417631520  378.00  378.0  378.00  378.0      0.350000   \n",
       "\n",
       "      Volume_(Currency)  Weighted_Price  \n",
       "0              3.000000      300.000000  \n",
       "7              3.000000      300.000000  \n",
       "51             3.700000      370.000000  \n",
       "77             9.825550      370.000000  \n",
       "1436           3.770000      377.000000  \n",
       "1766        1511.937500      377.984375  \n",
       "1771        1852.200000      378.000000  \n",
       "1772        1965.600000      378.000000  \n",
       "2230          37.800000      378.000000  \n",
       "2245         299.980800      378.000000  \n",
       "2309           3.780000      378.000000  \n",
       "2882           3.779000      377.900000  \n",
       "2898          24.979828      378.000000  \n",
       "2915           3.978155      378.000000  \n",
       "3659         132.300000      378.000000  "
      ]
     },
     "execution_count": 124,
     "metadata": {},
     "output_type": "execute_result"
    }
   ],
   "source": [
    "df_nonan.head(15)"
   ]
  },
  {
   "cell_type": "markdown",
   "metadata": {},
   "source": [
    "# DATA PREPROCESSING:-"
   ]
  },
  {
   "cell_type": "code",
   "execution_count": 125,
   "metadata": {},
   "outputs": [],
   "source": [
    "#THERE ARE 2 POSSIBLE APPROACHES FOR MISSING DATA IN OUR DATASET:-\n",
    "#1:WHEN AT A GIVEN TIMESTAMP THERE IS NO TRADE ,THE FIELD WILL BE FILLED WITH NAN VALUE.\n",
    "#2:WHEN SUPPOSE API IS DOWN (TECHNICAL ERROR),THEN TIMESTAMP IS MISSING"
   ]
  },
  {
   "cell_type": "markdown",
   "metadata": {},
   "source": [
    "# SELECTING DATA:-"
   ]
  },
  {
   "cell_type": "code",
   "execution_count": 126,
   "metadata": {},
   "outputs": [],
   "source": [
    "#SELECT DATASET WITH MINIMAL MISSING TIMESTAMP JUMP"
   ]
  },
  {
   "cell_type": "code",
   "execution_count": 127,
   "metadata": {},
   "outputs": [
    {
     "name": "stderr",
     "output_type": "stream",
     "text": [
      "C:\\Users\\shivangi pandey\\anaconda3\\lib\\site-packages\\ipykernel_launcher.py:1: SettingWithCopyWarning: \n",
      "A value is trying to be set on a copy of a slice from a DataFrame.\n",
      "Try using .loc[row_indexer,col_indexer] = value instead\n",
      "\n",
      "See the caveats in the documentation: https://pandas.pydata.org/pandas-docs/stable/user_guide/indexing.html#returning-a-view-versus-a-copy\n",
      "  \"\"\"Entry point for launching an IPython kernel.\n"
     ]
    }
   ],
   "source": [
    "df_nonan['Delta_Timestamp']=df_nonan['Timestamp']-df_nonan['Timestamp'].shift(1) #SHIFT()IS TO SHIFT THE INDEX BY 1 PERIODS IN POSITIVE DIRECTION"
   ]
  },
  {
   "cell_type": "code",
   "execution_count": 128,
   "metadata": {},
   "outputs": [
    {
     "data": {
      "text/plain": [
       "0              NaN\n",
       "7            420.0\n",
       "51          2640.0\n",
       "77          1560.0\n",
       "1436       81540.0\n",
       "            ...   \n",
       "2099755       60.0\n",
       "2099756       60.0\n",
       "2099757       60.0\n",
       "2099758       60.0\n",
       "2099759       60.0\n",
       "Name: Delta_Timestamp, Length: 1990691, dtype: float64"
      ]
     },
     "execution_count": 128,
     "metadata": {},
     "output_type": "execute_result"
    }
   ],
   "source": [
    "df_nonan['Delta_Timestamp']"
   ]
  },
  {
   "cell_type": "code",
   "execution_count": 129,
   "metadata": {},
   "outputs": [
    {
     "data": {
      "text/plain": [
       "2094760    60.0\n",
       "2094761    60.0\n",
       "2094762    60.0\n",
       "2094763    60.0\n",
       "2094764    60.0\n",
       "           ... \n",
       "2099755    60.0\n",
       "2099756    60.0\n",
       "2099757    60.0\n",
       "2099758    60.0\n",
       "2099759    60.0\n",
       "Name: Delta_Timestamp, Length: 5000, dtype: float64"
      ]
     },
     "execution_count": 129,
     "metadata": {},
     "output_type": "execute_result"
    }
   ],
   "source": [
    "df_nonan['Delta_Timestamp'].tail(5000)# TAIL()USED TO PRINTS THE LAST FEW NUMBER OF LINES"
   ]
  },
  {
   "cell_type": "code",
   "execution_count": 130,
   "metadata": {},
   "outputs": [
    {
     "data": {
      "text/html": [
       "<div>\n",
       "<style scoped>\n",
       "    .dataframe tbody tr th:only-of-type {\n",
       "        vertical-align: middle;\n",
       "    }\n",
       "\n",
       "    .dataframe tbody tr th {\n",
       "        vertical-align: top;\n",
       "    }\n",
       "\n",
       "    .dataframe thead th {\n",
       "        text-align: right;\n",
       "    }\n",
       "</style>\n",
       "<table border=\"1\" class=\"dataframe\">\n",
       "  <thead>\n",
       "    <tr style=\"text-align: right;\">\n",
       "      <th></th>\n",
       "      <th>Timestamp</th>\n",
       "      <th>Open</th>\n",
       "      <th>High</th>\n",
       "      <th>Low</th>\n",
       "      <th>Close</th>\n",
       "      <th>Volume_(BTC)</th>\n",
       "      <th>Volume_(Currency)</th>\n",
       "      <th>Weighted_Price</th>\n",
       "    </tr>\n",
       "  </thead>\n",
       "  <tbody>\n",
       "    <tr>\n",
       "      <th>2094760</th>\n",
       "      <td>1546598820</td>\n",
       "      <td>3787.18</td>\n",
       "      <td>3790.00</td>\n",
       "      <td>3787.18</td>\n",
       "      <td>3790.00</td>\n",
       "      <td>24.543028</td>\n",
       "      <td>92964.721480</td>\n",
       "      <td>3787.826074</td>\n",
       "    </tr>\n",
       "    <tr>\n",
       "      <th>2094761</th>\n",
       "      <td>1546598880</td>\n",
       "      <td>3789.99</td>\n",
       "      <td>3790.00</td>\n",
       "      <td>3789.99</td>\n",
       "      <td>3790.00</td>\n",
       "      <td>1.289922</td>\n",
       "      <td>4888.792355</td>\n",
       "      <td>3789.991471</td>\n",
       "    </tr>\n",
       "    <tr>\n",
       "      <th>2094762</th>\n",
       "      <td>1546598940</td>\n",
       "      <td>3790.00</td>\n",
       "      <td>3790.21</td>\n",
       "      <td>3790.00</td>\n",
       "      <td>3790.21</td>\n",
       "      <td>0.457465</td>\n",
       "      <td>1733.802035</td>\n",
       "      <td>3790.023822</td>\n",
       "    </tr>\n",
       "    <tr>\n",
       "      <th>2094763</th>\n",
       "      <td>1546599000</td>\n",
       "      <td>3791.53</td>\n",
       "      <td>3793.67</td>\n",
       "      <td>3791.53</td>\n",
       "      <td>3792.00</td>\n",
       "      <td>3.529184</td>\n",
       "      <td>13383.168307</td>\n",
       "      <td>3792.142707</td>\n",
       "    </tr>\n",
       "    <tr>\n",
       "      <th>2094764</th>\n",
       "      <td>1546599060</td>\n",
       "      <td>3792.01</td>\n",
       "      <td>3792.01</td>\n",
       "      <td>3792.01</td>\n",
       "      <td>3792.01</td>\n",
       "      <td>0.478178</td>\n",
       "      <td>1813.254923</td>\n",
       "      <td>3792.010000</td>\n",
       "    </tr>\n",
       "  </tbody>\n",
       "</table>\n",
       "</div>"
      ],
      "text/plain": [
       "          Timestamp     Open     High      Low    Close  Volume_(BTC)  \\\n",
       "2094760  1546598820  3787.18  3790.00  3787.18  3790.00     24.543028   \n",
       "2094761  1546598880  3789.99  3790.00  3789.99  3790.00      1.289922   \n",
       "2094762  1546598940  3790.00  3790.21  3790.00  3790.21      0.457465   \n",
       "2094763  1546599000  3791.53  3793.67  3791.53  3792.00      3.529184   \n",
       "2094764  1546599060  3792.01  3792.01  3792.01  3792.01      0.478178   \n",
       "\n",
       "         Volume_(Currency)  Weighted_Price  \n",
       "2094760       92964.721480     3787.826074  \n",
       "2094761        4888.792355     3789.991471  \n",
       "2094762        1733.802035     3790.023822  \n",
       "2094763       13383.168307     3792.142707  \n",
       "2094764        1813.254923     3792.010000  "
      ]
     },
     "execution_count": 130,
     "metadata": {},
     "output_type": "execute_result"
    }
   ],
   "source": [
    "df= df.tail(5000)\n",
    "df.head()"
   ]
  },
  {
   "cell_type": "markdown",
   "metadata": {},
   "source": [
    "# PLOTTING"
   ]
  },
  {
   "cell_type": "markdown",
   "metadata": {},
   "source": [
    "## CORRELATION MAP:-"
   ]
  },
  {
   "cell_type": "code",
   "execution_count": 131,
   "metadata": {},
   "outputs": [
    {
     "data": {
      "image/png": "[encoded data removed]",
      "text/plain": [
       "<Figure size 864x864 with 2 Axes>"
      ]
     },
     "metadata": {
      "needs_background": "light"
     },
     "output_type": "display_data"
    }
   ],
   "source": [
    "f,ax = plt.subplots(figsize=(12,12))\n",
    "sns.heatmap(df.corr(), annot=True, fmt='.1f', linewidths=0.5, linecolor='white', ax=ax)\n",
    "plt.show()"
   ]
  },
  {
   "cell_type": "markdown",
   "metadata": {},
   "source": [
    "## LINE PLOT"
   ]
  },
  {
   "cell_type": "code",
   "execution_count": 132,
   "metadata": {},
   "outputs": [
    {
     "data": {
      "image/png": "[encoded data removed]",
      "text/plain": [
       "<Figure size 864x864 with 1 Axes>"
      ]
     },
     "metadata": {
      "needs_background": "light"
     },
     "output_type": "display_data"
    }
   ],
   "source": [
    "df.High.plot(kind = 'line',color = 'g',label='High',linewidth=1,alpha=0.5,grid = True,linestyle=':',figsize=(12,12))\n",
    "df.Low.plot(color = 'r',label='Low',linewidth=1,alpha=0.5,grid = True,linestyle='-.',figsize=(12,12))\n",
    "plt.legend()\n",
    "plt.xlabel('X AXIS')\n",
    "plt.ylabel('Y AXIS')\n",
    "plt.title('LINE PLOT')\n",
    "plt.show()"
   ]
  },
  {
   "cell_type": "markdown",
   "metadata": {},
   "source": [
    "## HISTOGRAM "
   ]
  },
  {
   "cell_type": "code",
   "execution_count": 133,
   "metadata": {},
   "outputs": [
    {
     "data": {
      "image/png": "[encoded data removed]",
      "text/plain": [
       "<Figure size 864x864 with 1 Axes>"
      ]
     },
     "metadata": {
      "needs_background": "light"
     },
     "output_type": "display_data"
    }
   ],
   "source": [
    "df.High.plot(kind ='hist',bins=500,figsize=(12,12))\n",
    "plt.title('HIST PLOT')\n",
    "plt.show()"
   ]
  },
  {
   "cell_type": "markdown",
   "metadata": {},
   "source": [
    "## SCATTER PLOT"
   ]
  },
  {
   "cell_type": "code",
   "execution_count": 134,
   "metadata": {},
   "outputs": [
    {
     "data": {
      "image/png": "[encoded data removed]",
      "text/plain": [
       "<Figure size 1080x1080 with 1 Axes>"
      ]
     },
     "metadata": {
      "needs_background": "light"
     },
     "output_type": "display_data"
    }
   ],
   "source": [
    "#1:-\n",
    "df.plot(kind = 'scatter',color = 'r',x='High',y='Low',alpha=0.5,figsize=(15,15))\n",
    "plt.xlabel('HIGH')\n",
    "plt.ylabel('LOW')\n",
    "plt.title('SCATTER PLOT')\n",
    "plt.show()"
   ]
  },
  {
   "cell_type": "code",
   "execution_count": 135,
   "metadata": {},
   "outputs": [
    {
     "data": {
      "image/png": "[encoded data removed]",
      "text/plain": [
       "<Figure size 1080x1080 with 1 Axes>"
      ]
     },
     "metadata": {
      "needs_background": "light"
     },
     "output_type": "display_data"
    }
   ],
   "source": [
    "#2:-\n",
    "df.plot(kind = 'scatter',color = 'blue',x='Volume_(BTC)',y='Weighted_Price',alpha=0.5,figsize=(15,15))\n",
    "plt.xlabel('Volume_(BTC)')\n",
    "plt.ylabel('Weighted_Price')\n",
    "plt.title('SCATTER PLOT')\n",
    "plt.show()"
   ]
  },
  {
   "cell_type": "code",
   "execution_count": 136,
   "metadata": {},
   "outputs": [
    {
     "data": {
      "image/png": "[encoded data removed]",
      "text/plain": [
       "<Figure size 1080x1080 with 1 Axes>"
      ]
     },
     "metadata": {
      "needs_background": "light"
     },
     "output_type": "display_data"
    }
   ],
   "source": [
    "#3:-\n",
    "df.plot(kind = 'scatter',color = 'g',x='Volume_(BTC)',y='Volume_(Currency)',alpha=0.5,figsize=(15,15))\n",
    "plt.xlabel('Volume_(BTC)')\n",
    "plt.ylabel('Volume_(Currency)')\n",
    "plt.title('SCATTER PLOT')\n",
    "plt.show()"
   ]
  },
  {
   "cell_type": "markdown",
   "metadata": {},
   "source": [
    "# MISSING VALUES REPLACEMENT"
   ]
  },
  {
   "cell_type": "code",
   "execution_count": 137,
   "metadata": {},
   "outputs": [],
   "source": [
    "#REPLACE NAN FIELD WITH PREVIOUS DATA FOR CONTINOUS TIME SERIES DATA"
   ]
  },
  {
   "cell_type": "code",
   "execution_count": 138,
   "metadata": {},
   "outputs": [
    {
     "name": "stderr",
     "output_type": "stream",
     "text": [
      "C:\\Users\\shivangi pandey\\anaconda3\\lib\\site-packages\\pandas\\core\\generic.py:6245: SettingWithCopyWarning: \n",
      "A value is trying to be set on a copy of a slice from a DataFrame\n",
      "\n",
      "See the caveats in the documentation: https://pandas.pydata.org/pandas-docs/stable/user_guide/indexing.html#returning-a-view-versus-a-copy\n",
      "  self._update_inplace(new_data)\n"
     ]
    }
   ],
   "source": [
    "df['Open'].fillna(method='ffill',inplace=True)           # FILLNA () IS USED TO FILL NA/NAN VALUES\n",
    "df['High'].fillna(method='ffill',inplace=True)           # \"FFILL\" STANDS FOR FORWARD FILL\n",
    "df['Low'].fillna(method='ffill',inplace=True)            \n",
    "df['Close'].fillna(method='ffill',inplace=True)"
   ]
  },
  {
   "cell_type": "code",
   "execution_count": 139,
   "metadata": {},
   "outputs": [
    {
     "data": {
      "text/plain": [
       "Index(['Timestamp', 'Open', 'High', 'Low', 'Close', 'Volume_(BTC)',\n",
       "       'Volume_(Currency)', 'Weighted_Price'],\n",
       "      dtype='object')"
      ]
     },
     "execution_count": 139,
     "metadata": {},
     "output_type": "execute_result"
    }
   ],
   "source": [
    "df.columns # TELL ALL THE COLUMNS LABELS OF THE DATASET"
   ]
  },
  {
   "cell_type": "code",
   "execution_count": 140,
   "metadata": {},
   "outputs": [],
   "source": [
    "#REPLACE NAN FIELD WITH ZEROS FOR SINGLE EVENT DATA"
   ]
  },
  {
   "cell_type": "code",
   "execution_count": 141,
   "metadata": {},
   "outputs": [],
   "source": [
    "df['Volume_(BTC)'].fillna(value=0,inplace=True)\n",
    "df['Volume_(Currency)'].fillna(value=0,inplace=True)\n",
    "df['Weighted_Price'].fillna(value=0,inplace=True)"
   ]
  },
  {
   "cell_type": "code",
   "execution_count": 142,
   "metadata": {},
   "outputs": [
    {
     "data": {
      "text/html": [
       "<div>\n",
       "<style scoped>\n",
       "    .dataframe tbody tr th:only-of-type {\n",
       "        vertical-align: middle;\n",
       "    }\n",
       "\n",
       "    .dataframe tbody tr th {\n",
       "        vertical-align: top;\n",
       "    }\n",
       "\n",
       "    .dataframe thead th {\n",
       "        text-align: right;\n",
       "    }\n",
       "</style>\n",
       "<table border=\"1\" class=\"dataframe\">\n",
       "  <thead>\n",
       "    <tr style=\"text-align: right;\">\n",
       "      <th></th>\n",
       "      <th>Timestamp</th>\n",
       "      <th>Open</th>\n",
       "      <th>High</th>\n",
       "      <th>Low</th>\n",
       "      <th>Close</th>\n",
       "      <th>Volume_(BTC)</th>\n",
       "      <th>Volume_(Currency)</th>\n",
       "      <th>Weighted_Price</th>\n",
       "    </tr>\n",
       "  </thead>\n",
       "  <tbody>\n",
       "    <tr>\n",
       "      <th>2094760</th>\n",
       "      <td>1546598820</td>\n",
       "      <td>3787.18</td>\n",
       "      <td>3790.00</td>\n",
       "      <td>3787.18</td>\n",
       "      <td>3790.00</td>\n",
       "      <td>24.543028</td>\n",
       "      <td>92964.721480</td>\n",
       "      <td>3787.826074</td>\n",
       "    </tr>\n",
       "    <tr>\n",
       "      <th>2094761</th>\n",
       "      <td>1546598880</td>\n",
       "      <td>3789.99</td>\n",
       "      <td>3790.00</td>\n",
       "      <td>3789.99</td>\n",
       "      <td>3790.00</td>\n",
       "      <td>1.289922</td>\n",
       "      <td>4888.792355</td>\n",
       "      <td>3789.991471</td>\n",
       "    </tr>\n",
       "    <tr>\n",
       "      <th>2094762</th>\n",
       "      <td>1546598940</td>\n",
       "      <td>3790.00</td>\n",
       "      <td>3790.21</td>\n",
       "      <td>3790.00</td>\n",
       "      <td>3790.21</td>\n",
       "      <td>0.457465</td>\n",
       "      <td>1733.802035</td>\n",
       "      <td>3790.023822</td>\n",
       "    </tr>\n",
       "    <tr>\n",
       "      <th>2094763</th>\n",
       "      <td>1546599000</td>\n",
       "      <td>3791.53</td>\n",
       "      <td>3793.67</td>\n",
       "      <td>3791.53</td>\n",
       "      <td>3792.00</td>\n",
       "      <td>3.529184</td>\n",
       "      <td>13383.168307</td>\n",
       "      <td>3792.142707</td>\n",
       "    </tr>\n",
       "    <tr>\n",
       "      <th>2094764</th>\n",
       "      <td>1546599060</td>\n",
       "      <td>3792.01</td>\n",
       "      <td>3792.01</td>\n",
       "      <td>3792.01</td>\n",
       "      <td>3792.01</td>\n",
       "      <td>0.478178</td>\n",
       "      <td>1813.254923</td>\n",
       "      <td>3792.010000</td>\n",
       "    </tr>\n",
       "  </tbody>\n",
       "</table>\n",
       "</div>"
      ],
      "text/plain": [
       "          Timestamp     Open     High      Low    Close  Volume_(BTC)  \\\n",
       "2094760  1546598820  3787.18  3790.00  3787.18  3790.00     24.543028   \n",
       "2094761  1546598880  3789.99  3790.00  3789.99  3790.00      1.289922   \n",
       "2094762  1546598940  3790.00  3790.21  3790.00  3790.21      0.457465   \n",
       "2094763  1546599000  3791.53  3793.67  3791.53  3792.00      3.529184   \n",
       "2094764  1546599060  3792.01  3792.01  3792.01  3792.01      0.478178   \n",
       "\n",
       "         Volume_(Currency)  Weighted_Price  \n",
       "2094760       92964.721480     3787.826074  \n",
       "2094761        4888.792355     3789.991471  \n",
       "2094762        1733.802035     3790.023822  \n",
       "2094763       13383.168307     3792.142707  \n",
       "2094764        1813.254923     3792.010000  "
      ]
     },
     "execution_count": 142,
     "metadata": {},
     "output_type": "execute_result"
    }
   ],
   "source": [
    "df.head()"
   ]
  },
  {
   "cell_type": "code",
   "execution_count": 143,
   "metadata": {},
   "outputs": [
    {
     "name": "stderr",
     "output_type": "stream",
     "text": [
      "C:\\Users\\shivangi pandey\\anaconda3\\lib\\site-packages\\pandas\\core\\frame.py:3997: SettingWithCopyWarning: \n",
      "A value is trying to be set on a copy of a slice from a DataFrame\n",
      "\n",
      "See the caveats in the documentation: https://pandas.pydata.org/pandas-docs/stable/user_guide/indexing.html#returning-a-view-versus-a-copy\n",
      "  errors=errors,\n"
     ]
    },
    {
     "data": {
      "text/html": [
       "<div>\n",
       "<style scoped>\n",
       "    .dataframe tbody tr th:only-of-type {\n",
       "        vertical-align: middle;\n",
       "    }\n",
       "\n",
       "    .dataframe tbody tr th {\n",
       "        vertical-align: top;\n",
       "    }\n",
       "\n",
       "    .dataframe thead th {\n",
       "        text-align: right;\n",
       "    }\n",
       "</style>\n",
       "<table border=\"1\" class=\"dataframe\">\n",
       "  <thead>\n",
       "    <tr style=\"text-align: right;\">\n",
       "      <th></th>\n",
       "      <th>Open</th>\n",
       "      <th>High</th>\n",
       "      <th>Low</th>\n",
       "      <th>Close</th>\n",
       "      <th>Volume_(BTC)</th>\n",
       "      <th>Volume_(Currency)</th>\n",
       "      <th>Weighted_Price</th>\n",
       "    </tr>\n",
       "  </thead>\n",
       "  <tbody>\n",
       "    <tr>\n",
       "      <th>2094760</th>\n",
       "      <td>3787.18</td>\n",
       "      <td>3790.00</td>\n",
       "      <td>3787.18</td>\n",
       "      <td>3790.00</td>\n",
       "      <td>24.543028</td>\n",
       "      <td>92964.721480</td>\n",
       "      <td>3787.826074</td>\n",
       "    </tr>\n",
       "    <tr>\n",
       "      <th>2094761</th>\n",
       "      <td>3789.99</td>\n",
       "      <td>3790.00</td>\n",
       "      <td>3789.99</td>\n",
       "      <td>3790.00</td>\n",
       "      <td>1.289922</td>\n",
       "      <td>4888.792355</td>\n",
       "      <td>3789.991471</td>\n",
       "    </tr>\n",
       "    <tr>\n",
       "      <th>2094762</th>\n",
       "      <td>3790.00</td>\n",
       "      <td>3790.21</td>\n",
       "      <td>3790.00</td>\n",
       "      <td>3790.21</td>\n",
       "      <td>0.457465</td>\n",
       "      <td>1733.802035</td>\n",
       "      <td>3790.023822</td>\n",
       "    </tr>\n",
       "    <tr>\n",
       "      <th>2094763</th>\n",
       "      <td>3791.53</td>\n",
       "      <td>3793.67</td>\n",
       "      <td>3791.53</td>\n",
       "      <td>3792.00</td>\n",
       "      <td>3.529184</td>\n",
       "      <td>13383.168307</td>\n",
       "      <td>3792.142707</td>\n",
       "    </tr>\n",
       "    <tr>\n",
       "      <th>2094764</th>\n",
       "      <td>3792.01</td>\n",
       "      <td>3792.01</td>\n",
       "      <td>3792.01</td>\n",
       "      <td>3792.01</td>\n",
       "      <td>0.478178</td>\n",
       "      <td>1813.254923</td>\n",
       "      <td>3792.010000</td>\n",
       "    </tr>\n",
       "    <tr>\n",
       "      <th>...</th>\n",
       "      <td>...</td>\n",
       "      <td>...</td>\n",
       "      <td>...</td>\n",
       "      <td>...</td>\n",
       "      <td>...</td>\n",
       "      <td>...</td>\n",
       "      <td>...</td>\n",
       "    </tr>\n",
       "    <tr>\n",
       "      <th>2099755</th>\n",
       "      <td>4006.01</td>\n",
       "      <td>4006.57</td>\n",
       "      <td>4006.00</td>\n",
       "      <td>4006.01</td>\n",
       "      <td>3.382954</td>\n",
       "      <td>13553.433078</td>\n",
       "      <td>4006.390309</td>\n",
       "    </tr>\n",
       "    <tr>\n",
       "      <th>2099756</th>\n",
       "      <td>4006.01</td>\n",
       "      <td>4006.57</td>\n",
       "      <td>4006.00</td>\n",
       "      <td>4006.01</td>\n",
       "      <td>0.902164</td>\n",
       "      <td>3614.083169</td>\n",
       "      <td>4006.017233</td>\n",
       "    </tr>\n",
       "    <tr>\n",
       "      <th>2099757</th>\n",
       "      <td>4006.01</td>\n",
       "      <td>4006.01</td>\n",
       "      <td>4006.00</td>\n",
       "      <td>4006.01</td>\n",
       "      <td>1.192123</td>\n",
       "      <td>4775.647308</td>\n",
       "      <td>4006.003635</td>\n",
       "    </tr>\n",
       "    <tr>\n",
       "      <th>2099758</th>\n",
       "      <td>4006.01</td>\n",
       "      <td>4006.01</td>\n",
       "      <td>4005.50</td>\n",
       "      <td>4005.50</td>\n",
       "      <td>2.699700</td>\n",
       "      <td>10814.241898</td>\n",
       "      <td>4005.719991</td>\n",
       "    </tr>\n",
       "    <tr>\n",
       "      <th>2099759</th>\n",
       "      <td>4005.51</td>\n",
       "      <td>4006.01</td>\n",
       "      <td>4005.51</td>\n",
       "      <td>4005.99</td>\n",
       "      <td>1.752778</td>\n",
       "      <td>7021.183546</td>\n",
       "      <td>4005.745614</td>\n",
       "    </tr>\n",
       "  </tbody>\n",
       "</table>\n",
       "<p>5000 rows × 7 columns</p>\n",
       "</div>"
      ],
      "text/plain": [
       "            Open     High      Low    Close  Volume_(BTC)  Volume_(Currency)  \\\n",
       "2094760  3787.18  3790.00  3787.18  3790.00     24.543028       92964.721480   \n",
       "2094761  3789.99  3790.00  3789.99  3790.00      1.289922        4888.792355   \n",
       "2094762  3790.00  3790.21  3790.00  3790.21      0.457465        1733.802035   \n",
       "2094763  3791.53  3793.67  3791.53  3792.00      3.529184       13383.168307   \n",
       "2094764  3792.01  3792.01  3792.01  3792.01      0.478178        1813.254923   \n",
       "...          ...      ...      ...      ...           ...                ...   \n",
       "2099755  4006.01  4006.57  4006.00  4006.01      3.382954       13553.433078   \n",
       "2099756  4006.01  4006.57  4006.00  4006.01      0.902164        3614.083169   \n",
       "2099757  4006.01  4006.01  4006.00  4006.01      1.192123        4775.647308   \n",
       "2099758  4006.01  4006.01  4005.50  4005.50      2.699700       10814.241898   \n",
       "2099759  4005.51  4006.01  4005.51  4005.99      1.752778        7021.183546   \n",
       "\n",
       "         Weighted_Price  \n",
       "2094760     3787.826074  \n",
       "2094761     3789.991471  \n",
       "2094762     3790.023822  \n",
       "2094763     3792.142707  \n",
       "2094764     3792.010000  \n",
       "...                 ...  \n",
       "2099755     4006.390309  \n",
       "2099756     4006.017233  \n",
       "2099757     4006.003635  \n",
       "2099758     4005.719991  \n",
       "2099759     4005.745614  \n",
       "\n",
       "[5000 rows x 7 columns]"
      ]
     },
     "execution_count": 143,
     "metadata": {},
     "output_type": "execute_result"
    }
   ],
   "source": [
    "copy_of_df = df.copy() # COPY() USED TO CREATE A COPY OF A PANDAS OBJECT.\n",
    "df.drop('Timestamp',axis=1,inplace=True)\n",
    "df"
   ]
  },
  {
   "cell_type": "markdown",
   "metadata": {},
   "source": [
    "# TESTING LINEAR REGRESSION"
   ]
  },
  {
   "cell_type": "markdown",
   "metadata": {},
   "source": [
    "## STATISTICAL FUNCTIONS:-"
   ]
  },
  {
   "cell_type": "code",
   "execution_count": 144,
   "metadata": {},
   "outputs": [],
   "source": [
    "from scipy import stats "
   ]
  },
  {
   "cell_type": "code",
   "execution_count": 145,
   "metadata": {},
   "outputs": [],
   "source": [
    "def rem_outlier(df1,col):\n",
    "    q1= df[col].quantile(0.25)\n",
    "    q3= df[col].quantile(0.75)\n",
    "    r = q3-q1\n",
    "    low=q1 -1.5* r\n",
    "    high = q3+1.5*r\n",
    "    out = df1.loc[(df1[col]> low)& (df1[col]<high)]\n",
    "    return out"
   ]
  },
  {
   "cell_type": "code",
   "execution_count": 146,
   "metadata": {},
   "outputs": [
    {
     "data": {
      "text/html": [
       "<div>\n",
       "<style scoped>\n",
       "    .dataframe tbody tr th:only-of-type {\n",
       "        vertical-align: middle;\n",
       "    }\n",
       "\n",
       "    .dataframe tbody tr th {\n",
       "        vertical-align: top;\n",
       "    }\n",
       "\n",
       "    .dataframe thead th {\n",
       "        text-align: right;\n",
       "    }\n",
       "</style>\n",
       "<table border=\"1\" class=\"dataframe\">\n",
       "  <thead>\n",
       "    <tr style=\"text-align: right;\">\n",
       "      <th></th>\n",
       "      <th>Open</th>\n",
       "      <th>High</th>\n",
       "      <th>Low</th>\n",
       "      <th>Close</th>\n",
       "      <th>Volume_(BTC)</th>\n",
       "      <th>Volume_(Currency)</th>\n",
       "      <th>Weighted_Price</th>\n",
       "    </tr>\n",
       "  </thead>\n",
       "  <tbody>\n",
       "    <tr>\n",
       "      <th>2094761</th>\n",
       "      <td>3789.99</td>\n",
       "      <td>3790.00</td>\n",
       "      <td>3789.99</td>\n",
       "      <td>3790.00</td>\n",
       "      <td>1.289922</td>\n",
       "      <td>4888.792355</td>\n",
       "      <td>3789.991471</td>\n",
       "    </tr>\n",
       "    <tr>\n",
       "      <th>2094762</th>\n",
       "      <td>3790.00</td>\n",
       "      <td>3790.21</td>\n",
       "      <td>3790.00</td>\n",
       "      <td>3790.21</td>\n",
       "      <td>0.457465</td>\n",
       "      <td>1733.802035</td>\n",
       "      <td>3790.023822</td>\n",
       "    </tr>\n",
       "    <tr>\n",
       "      <th>2094763</th>\n",
       "      <td>3791.53</td>\n",
       "      <td>3793.67</td>\n",
       "      <td>3791.53</td>\n",
       "      <td>3792.00</td>\n",
       "      <td>3.529184</td>\n",
       "      <td>13383.168307</td>\n",
       "      <td>3792.142707</td>\n",
       "    </tr>\n",
       "    <tr>\n",
       "      <th>2094764</th>\n",
       "      <td>3792.01</td>\n",
       "      <td>3792.01</td>\n",
       "      <td>3792.01</td>\n",
       "      <td>3792.01</td>\n",
       "      <td>0.478178</td>\n",
       "      <td>1813.254923</td>\n",
       "      <td>3792.010000</td>\n",
       "    </tr>\n",
       "    <tr>\n",
       "      <th>2094765</th>\n",
       "      <td>3792.01</td>\n",
       "      <td>3792.01</td>\n",
       "      <td>3789.99</td>\n",
       "      <td>3790.00</td>\n",
       "      <td>0.888946</td>\n",
       "      <td>3369.682460</td>\n",
       "      <td>3790.648621</td>\n",
       "    </tr>\n",
       "    <tr>\n",
       "      <th>...</th>\n",
       "      <td>...</td>\n",
       "      <td>...</td>\n",
       "      <td>...</td>\n",
       "      <td>...</td>\n",
       "      <td>...</td>\n",
       "      <td>...</td>\n",
       "      <td>...</td>\n",
       "    </tr>\n",
       "    <tr>\n",
       "      <th>2099755</th>\n",
       "      <td>4006.01</td>\n",
       "      <td>4006.57</td>\n",
       "      <td>4006.00</td>\n",
       "      <td>4006.01</td>\n",
       "      <td>3.382954</td>\n",
       "      <td>13553.433078</td>\n",
       "      <td>4006.390309</td>\n",
       "    </tr>\n",
       "    <tr>\n",
       "      <th>2099756</th>\n",
       "      <td>4006.01</td>\n",
       "      <td>4006.57</td>\n",
       "      <td>4006.00</td>\n",
       "      <td>4006.01</td>\n",
       "      <td>0.902164</td>\n",
       "      <td>3614.083169</td>\n",
       "      <td>4006.017233</td>\n",
       "    </tr>\n",
       "    <tr>\n",
       "      <th>2099757</th>\n",
       "      <td>4006.01</td>\n",
       "      <td>4006.01</td>\n",
       "      <td>4006.00</td>\n",
       "      <td>4006.01</td>\n",
       "      <td>1.192123</td>\n",
       "      <td>4775.647308</td>\n",
       "      <td>4006.003635</td>\n",
       "    </tr>\n",
       "    <tr>\n",
       "      <th>2099758</th>\n",
       "      <td>4006.01</td>\n",
       "      <td>4006.01</td>\n",
       "      <td>4005.50</td>\n",
       "      <td>4005.50</td>\n",
       "      <td>2.699700</td>\n",
       "      <td>10814.241898</td>\n",
       "      <td>4005.719991</td>\n",
       "    </tr>\n",
       "    <tr>\n",
       "      <th>2099759</th>\n",
       "      <td>4005.51</td>\n",
       "      <td>4006.01</td>\n",
       "      <td>4005.51</td>\n",
       "      <td>4005.99</td>\n",
       "      <td>1.752778</td>\n",
       "      <td>7021.183546</td>\n",
       "      <td>4005.745614</td>\n",
       "    </tr>\n",
       "  </tbody>\n",
       "</table>\n",
       "<p>4182 rows × 7 columns</p>\n",
       "</div>"
      ],
      "text/plain": [
       "            Open     High      Low    Close  Volume_(BTC)  Volume_(Currency)  \\\n",
       "2094761  3789.99  3790.00  3789.99  3790.00      1.289922        4888.792355   \n",
       "2094762  3790.00  3790.21  3790.00  3790.21      0.457465        1733.802035   \n",
       "2094763  3791.53  3793.67  3791.53  3792.00      3.529184       13383.168307   \n",
       "2094764  3792.01  3792.01  3792.01  3792.01      0.478178        1813.254923   \n",
       "2094765  3792.01  3792.01  3789.99  3790.00      0.888946        3369.682460   \n",
       "...          ...      ...      ...      ...           ...                ...   \n",
       "2099755  4006.01  4006.57  4006.00  4006.01      3.382954       13553.433078   \n",
       "2099756  4006.01  4006.57  4006.00  4006.01      0.902164        3614.083169   \n",
       "2099757  4006.01  4006.01  4006.00  4006.01      1.192123        4775.647308   \n",
       "2099758  4006.01  4006.01  4005.50  4005.50      2.699700       10814.241898   \n",
       "2099759  4005.51  4006.01  4005.51  4005.99      1.752778        7021.183546   \n",
       "\n",
       "         Weighted_Price  \n",
       "2094761     3789.991471  \n",
       "2094762     3790.023822  \n",
       "2094763     3792.142707  \n",
       "2094764     3792.010000  \n",
       "2094765     3790.648621  \n",
       "...                 ...  \n",
       "2099755     4006.390309  \n",
       "2099756     4006.017233  \n",
       "2099757     4006.003635  \n",
       "2099758     4005.719991  \n",
       "2099759     4005.745614  \n",
       "\n",
       "[4182 rows x 7 columns]"
      ]
     },
     "execution_count": 146,
     "metadata": {},
     "output_type": "execute_result"
    }
   ],
   "source": [
    "for feature in list(df):\n",
    "    df = rem_outlier(df,feature)\n",
    "df=df[(np.abs(stats.zscore(df))< 2.999999).all(axis=1)]\n",
    "df=df[(np.abs(stats.zscore(df))>- 2.999999).all(axis=1)]\n",
    "df"
   ]
  },
  {
   "cell_type": "code",
   "execution_count": 147,
   "metadata": {},
   "outputs": [
    {
     "data": {
      "image/png": "[encoded data removed]",
      "text/plain": [
       "<Figure size 720x720 with 7 Axes>"
      ]
     },
     "metadata": {
      "needs_background": "light"
     },
     "output_type": "display_data"
    }
   ],
   "source": [
    "%matplotlib inline\n",
    "df.plot(kind='box',subplots=True,sharex=False,sharey=False,figsize=(10,10))# HERE ,SHAREX AND SHAREY = FALSE OR NONE MENAS EACH SUBPLOT X AXIS AND Y AXIS WILL BE INDEPENDENT.\n",
    "plt.show()"
   ]
  },
  {
   "cell_type": "markdown",
   "metadata": {},
   "source": [
    "# VISUALIZE THE CORRELATION MATRIX"
   ]
  },
  {
   "cell_type": "code",
   "execution_count": 148,
   "metadata": {},
   "outputs": [
    {
     "data": {
      "text/html": [
       "<style  type=\"text/css\" >\n",
       "    #T_e60f3fd0_c801_11ea_b004_809133a1c100row0_col0 {\n",
       "            background-color:  #2d004b;\n",
       "            color:  #f1f1f1;\n",
       "        }    #T_e60f3fd0_c801_11ea_b004_809133a1c100row0_col1 {\n",
       "            background-color:  #2d004b;\n",
       "            color:  #f1f1f1;\n",
       "        }    #T_e60f3fd0_c801_11ea_b004_809133a1c100row0_col2 {\n",
       "            background-color:  #2d004b;\n",
       "            color:  #f1f1f1;\n",
       "        }    #T_e60f3fd0_c801_11ea_b004_809133a1c100row0_col3 {\n",
       "            background-color:  #2d004b;\n",
       "            color:  #f1f1f1;\n",
       "        }    #T_e60f3fd0_c801_11ea_b004_809133a1c100row0_col4 {\n",
       "            background-color:  #7f3b08;\n",
       "            color:  #f1f1f1;\n",
       "        }    #T_e60f3fd0_c801_11ea_b004_809133a1c100row0_col5 {\n",
       "            background-color:  #934607;\n",
       "            color:  #f1f1f1;\n",
       "        }    #T_e60f3fd0_c801_11ea_b004_809133a1c100row0_col6 {\n",
       "            background-color:  #2d004b;\n",
       "            color:  #f1f1f1;\n",
       "        }    #T_e60f3fd0_c801_11ea_b004_809133a1c100row1_col0 {\n",
       "            background-color:  #2d004b;\n",
       "            color:  #f1f1f1;\n",
       "        }    #T_e60f3fd0_c801_11ea_b004_809133a1c100row1_col1 {\n",
       "            background-color:  #2d004b;\n",
       "            color:  #f1f1f1;\n",
       "        }    #T_e60f3fd0_c801_11ea_b004_809133a1c100row1_col2 {\n",
       "            background-color:  #2d004b;\n",
       "            color:  #f1f1f1;\n",
       "        }    #T_e60f3fd0_c801_11ea_b004_809133a1c100row1_col3 {\n",
       "            background-color:  #2d004b;\n",
       "            color:  #f1f1f1;\n",
       "        }    #T_e60f3fd0_c801_11ea_b004_809133a1c100row1_col4 {\n",
       "            background-color:  #7f3b08;\n",
       "            color:  #f1f1f1;\n",
       "        }    #T_e60f3fd0_c801_11ea_b004_809133a1c100row1_col5 {\n",
       "            background-color:  #934607;\n",
       "            color:  #f1f1f1;\n",
       "        }    #T_e60f3fd0_c801_11ea_b004_809133a1c100row1_col6 {\n",
       "            background-color:  #2d004b;\n",
       "            color:  #f1f1f1;\n",
       "        }    #T_e60f3fd0_c801_11ea_b004_809133a1c100row2_col0 {\n",
       "            background-color:  #2d004b;\n",
       "            color:  #f1f1f1;\n",
       "        }    #T_e60f3fd0_c801_11ea_b004_809133a1c100row2_col1 {\n",
       "            background-color:  #2d004b;\n",
       "            color:  #f1f1f1;\n",
       "        }    #T_e60f3fd0_c801_11ea_b004_809133a1c100row2_col2 {\n",
       "            background-color:  #2d004b;\n",
       "            color:  #f1f1f1;\n",
       "        }    #T_e60f3fd0_c801_11ea_b004_809133a1c100row2_col3 {\n",
       "            background-color:  #2d004b;\n",
       "            color:  #f1f1f1;\n",
       "        }    #T_e60f3fd0_c801_11ea_b004_809133a1c100row2_col4 {\n",
       "            background-color:  #7f3b08;\n",
       "            color:  #f1f1f1;\n",
       "        }    #T_e60f3fd0_c801_11ea_b004_809133a1c100row2_col5 {\n",
       "            background-color:  #934607;\n",
       "            color:  #f1f1f1;\n",
       "        }    #T_e60f3fd0_c801_11ea_b004_809133a1c100row2_col6 {\n",
       "            background-color:  #2d004b;\n",
       "            color:  #f1f1f1;\n",
       "        }    #T_e60f3fd0_c801_11ea_b004_809133a1c100row3_col0 {\n",
       "            background-color:  #2d004b;\n",
       "            color:  #f1f1f1;\n",
       "        }    #T_e60f3fd0_c801_11ea_b004_809133a1c100row3_col1 {\n",
       "            background-color:  #2d004b;\n",
       "            color:  #f1f1f1;\n",
       "        }    #T_e60f3fd0_c801_11ea_b004_809133a1c100row3_col2 {\n",
       "            background-color:  #2d004b;\n",
       "            color:  #f1f1f1;\n",
       "        }    #T_e60f3fd0_c801_11ea_b004_809133a1c100row3_col3 {\n",
       "            background-color:  #2d004b;\n",
       "            color:  #f1f1f1;\n",
       "        }    #T_e60f3fd0_c801_11ea_b004_809133a1c100row3_col4 {\n",
       "            background-color:  #7f3b08;\n",
       "            color:  #f1f1f1;\n",
       "        }    #T_e60f3fd0_c801_11ea_b004_809133a1c100row3_col5 {\n",
       "            background-color:  #934607;\n",
       "            color:  #f1f1f1;\n",
       "        }    #T_e60f3fd0_c801_11ea_b004_809133a1c100row3_col6 {\n",
       "            background-color:  #2d004b;\n",
       "            color:  #f1f1f1;\n",
       "        }    #T_e60f3fd0_c801_11ea_b004_809133a1c100row4_col0 {\n",
       "            background-color:  #7f3b08;\n",
       "            color:  #f1f1f1;\n",
       "        }    #T_e60f3fd0_c801_11ea_b004_809133a1c100row4_col1 {\n",
       "            background-color:  #813c08;\n",
       "            color:  #f1f1f1;\n",
       "        }    #T_e60f3fd0_c801_11ea_b004_809133a1c100row4_col2 {\n",
       "            background-color:  #7f3b08;\n",
       "            color:  #f1f1f1;\n",
       "        }    #T_e60f3fd0_c801_11ea_b004_809133a1c100row4_col3 {\n",
       "            background-color:  #7f3b08;\n",
       "            color:  #f1f1f1;\n",
       "        }    #T_e60f3fd0_c801_11ea_b004_809133a1c100row4_col4 {\n",
       "            background-color:  #2d004b;\n",
       "            color:  #f1f1f1;\n",
       "        }    #T_e60f3fd0_c801_11ea_b004_809133a1c100row4_col5 {\n",
       "            background-color:  #2d004b;\n",
       "            color:  #f1f1f1;\n",
       "        }    #T_e60f3fd0_c801_11ea_b004_809133a1c100row4_col6 {\n",
       "            background-color:  #7f3b08;\n",
       "            color:  #f1f1f1;\n",
       "        }    #T_e60f3fd0_c801_11ea_b004_809133a1c100row5_col0 {\n",
       "            background-color:  #7f3b08;\n",
       "            color:  #f1f1f1;\n",
       "        }    #T_e60f3fd0_c801_11ea_b004_809133a1c100row5_col1 {\n",
       "            background-color:  #813c08;\n",
       "            color:  #f1f1f1;\n",
       "        }    #T_e60f3fd0_c801_11ea_b004_809133a1c100row5_col2 {\n",
       "            background-color:  #7f3b08;\n",
       "            color:  #f1f1f1;\n",
       "        }    #T_e60f3fd0_c801_11ea_b004_809133a1c100row5_col3 {\n",
       "            background-color:  #7f3b08;\n",
       "            color:  #f1f1f1;\n",
       "        }    #T_e60f3fd0_c801_11ea_b004_809133a1c100row5_col4 {\n",
       "            background-color:  #2d004b;\n",
       "            color:  #f1f1f1;\n",
       "        }    #T_e60f3fd0_c801_11ea_b004_809133a1c100row5_col5 {\n",
       "            background-color:  #2d004b;\n",
       "            color:  #f1f1f1;\n",
       "        }    #T_e60f3fd0_c801_11ea_b004_809133a1c100row5_col6 {\n",
       "            background-color:  #7f3b08;\n",
       "            color:  #f1f1f1;\n",
       "        }    #T_e60f3fd0_c801_11ea_b004_809133a1c100row6_col0 {\n",
       "            background-color:  #2d004b;\n",
       "            color:  #f1f1f1;\n",
       "        }    #T_e60f3fd0_c801_11ea_b004_809133a1c100row6_col1 {\n",
       "            background-color:  #2d004b;\n",
       "            color:  #f1f1f1;\n",
       "        }    #T_e60f3fd0_c801_11ea_b004_809133a1c100row6_col2 {\n",
       "            background-color:  #2d004b;\n",
       "            color:  #f1f1f1;\n",
       "        }    #T_e60f3fd0_c801_11ea_b004_809133a1c100row6_col3 {\n",
       "            background-color:  #2d004b;\n",
       "            color:  #f1f1f1;\n",
       "        }    #T_e60f3fd0_c801_11ea_b004_809133a1c100row6_col4 {\n",
       "            background-color:  #7f3b08;\n",
       "            color:  #f1f1f1;\n",
       "        }    #T_e60f3fd0_c801_11ea_b004_809133a1c100row6_col5 {\n",
       "            background-color:  #934607;\n",
       "            color:  #f1f1f1;\n",
       "        }    #T_e60f3fd0_c801_11ea_b004_809133a1c100row6_col6 {\n",
       "            background-color:  #2d004b;\n",
       "            color:  #f1f1f1;\n",
       "        }</style><table id=\"T_e60f3fd0_c801_11ea_b004_809133a1c100\" ><thead>    <tr>        <th class=\"blank level0\" ></th>        <th class=\"col_heading level0 col0\" >Open</th>        <th class=\"col_heading level0 col1\" >High</th>        <th class=\"col_heading level0 col2\" >Low</th>        <th class=\"col_heading level0 col3\" >Close</th>        <th class=\"col_heading level0 col4\" >Volume_(BTC)</th>        <th class=\"col_heading level0 col5\" >Volume_(Currency)</th>        <th class=\"col_heading level0 col6\" >Weighted_Price</th>    </tr></thead><tbody>\n",
       "                <tr>\n",
       "                        <th id=\"T_e60f3fd0_c801_11ea_b004_809133a1c100level0_row0\" class=\"row_heading level0 row0\" >Open</th>\n",
       "                        <td id=\"T_e60f3fd0_c801_11ea_b004_809133a1c100row0_col0\" class=\"data row0 col0\" >1.0</td>\n",
       "                        <td id=\"T_e60f3fd0_c801_11ea_b004_809133a1c100row0_col1\" class=\"data row0 col1\" >1.0</td>\n",
       "                        <td id=\"T_e60f3fd0_c801_11ea_b004_809133a1c100row0_col2\" class=\"data row0 col2\" >1.0</td>\n",
       "                        <td id=\"T_e60f3fd0_c801_11ea_b004_809133a1c100row0_col3\" class=\"data row0 col3\" >1.0</td>\n",
       "                        <td id=\"T_e60f3fd0_c801_11ea_b004_809133a1c100row0_col4\" class=\"data row0 col4\" >0.12</td>\n",
       "                        <td id=\"T_e60f3fd0_c801_11ea_b004_809133a1c100row0_col5\" class=\"data row0 col5\" >0.16</td>\n",
       "                        <td id=\"T_e60f3fd0_c801_11ea_b004_809133a1c100row0_col6\" class=\"data row0 col6\" >1.0</td>\n",
       "            </tr>\n",
       "            <tr>\n",
       "                        <th id=\"T_e60f3fd0_c801_11ea_b004_809133a1c100level0_row1\" class=\"row_heading level0 row1\" >High</th>\n",
       "                        <td id=\"T_e60f3fd0_c801_11ea_b004_809133a1c100row1_col0\" class=\"data row1 col0\" >1.0</td>\n",
       "                        <td id=\"T_e60f3fd0_c801_11ea_b004_809133a1c100row1_col1\" class=\"data row1 col1\" >1.0</td>\n",
       "                        <td id=\"T_e60f3fd0_c801_11ea_b004_809133a1c100row1_col2\" class=\"data row1 col2\" >1.0</td>\n",
       "                        <td id=\"T_e60f3fd0_c801_11ea_b004_809133a1c100row1_col3\" class=\"data row1 col3\" >1.0</td>\n",
       "                        <td id=\"T_e60f3fd0_c801_11ea_b004_809133a1c100row1_col4\" class=\"data row1 col4\" >0.12</td>\n",
       "                        <td id=\"T_e60f3fd0_c801_11ea_b004_809133a1c100row1_col5\" class=\"data row1 col5\" >0.16</td>\n",
       "                        <td id=\"T_e60f3fd0_c801_11ea_b004_809133a1c100row1_col6\" class=\"data row1 col6\" >1.0</td>\n",
       "            </tr>\n",
       "            <tr>\n",
       "                        <th id=\"T_e60f3fd0_c801_11ea_b004_809133a1c100level0_row2\" class=\"row_heading level0 row2\" >Low</th>\n",
       "                        <td id=\"T_e60f3fd0_c801_11ea_b004_809133a1c100row2_col0\" class=\"data row2 col0\" >1.0</td>\n",
       "                        <td id=\"T_e60f3fd0_c801_11ea_b004_809133a1c100row2_col1\" class=\"data row2 col1\" >1.0</td>\n",
       "                        <td id=\"T_e60f3fd0_c801_11ea_b004_809133a1c100row2_col2\" class=\"data row2 col2\" >1.0</td>\n",
       "                        <td id=\"T_e60f3fd0_c801_11ea_b004_809133a1c100row2_col3\" class=\"data row2 col3\" >1.0</td>\n",
       "                        <td id=\"T_e60f3fd0_c801_11ea_b004_809133a1c100row2_col4\" class=\"data row2 col4\" >0.12</td>\n",
       "                        <td id=\"T_e60f3fd0_c801_11ea_b004_809133a1c100row2_col5\" class=\"data row2 col5\" >0.15</td>\n",
       "                        <td id=\"T_e60f3fd0_c801_11ea_b004_809133a1c100row2_col6\" class=\"data row2 col6\" >1.0</td>\n",
       "            </tr>\n",
       "            <tr>\n",
       "                        <th id=\"T_e60f3fd0_c801_11ea_b004_809133a1c100level0_row3\" class=\"row_heading level0 row3\" >Close</th>\n",
       "                        <td id=\"T_e60f3fd0_c801_11ea_b004_809133a1c100row3_col0\" class=\"data row3 col0\" >1.0</td>\n",
       "                        <td id=\"T_e60f3fd0_c801_11ea_b004_809133a1c100row3_col1\" class=\"data row3 col1\" >1.0</td>\n",
       "                        <td id=\"T_e60f3fd0_c801_11ea_b004_809133a1c100row3_col2\" class=\"data row3 col2\" >1.0</td>\n",
       "                        <td id=\"T_e60f3fd0_c801_11ea_b004_809133a1c100row3_col3\" class=\"data row3 col3\" >1.0</td>\n",
       "                        <td id=\"T_e60f3fd0_c801_11ea_b004_809133a1c100row3_col4\" class=\"data row3 col4\" >0.12</td>\n",
       "                        <td id=\"T_e60f3fd0_c801_11ea_b004_809133a1c100row3_col5\" class=\"data row3 col5\" >0.16</td>\n",
       "                        <td id=\"T_e60f3fd0_c801_11ea_b004_809133a1c100row3_col6\" class=\"data row3 col6\" >1.0</td>\n",
       "            </tr>\n",
       "            <tr>\n",
       "                        <th id=\"T_e60f3fd0_c801_11ea_b004_809133a1c100level0_row4\" class=\"row_heading level0 row4\" >Volume_(BTC)</th>\n",
       "                        <td id=\"T_e60f3fd0_c801_11ea_b004_809133a1c100row4_col0\" class=\"data row4 col0\" >0.12</td>\n",
       "                        <td id=\"T_e60f3fd0_c801_11ea_b004_809133a1c100row4_col1\" class=\"data row4 col1\" >0.12</td>\n",
       "                        <td id=\"T_e60f3fd0_c801_11ea_b004_809133a1c100row4_col2\" class=\"data row4 col2\" >0.12</td>\n",
       "                        <td id=\"T_e60f3fd0_c801_11ea_b004_809133a1c100row4_col3\" class=\"data row4 col3\" >0.12</td>\n",
       "                        <td id=\"T_e60f3fd0_c801_11ea_b004_809133a1c100row4_col4\" class=\"data row4 col4\" >1.0</td>\n",
       "                        <td id=\"T_e60f3fd0_c801_11ea_b004_809133a1c100row4_col5\" class=\"data row4 col5\" >1.0</td>\n",
       "                        <td id=\"T_e60f3fd0_c801_11ea_b004_809133a1c100row4_col6\" class=\"data row4 col6\" >0.12</td>\n",
       "            </tr>\n",
       "            <tr>\n",
       "                        <th id=\"T_e60f3fd0_c801_11ea_b004_809133a1c100level0_row5\" class=\"row_heading level0 row5\" >Volume_(Currency)</th>\n",
       "                        <td id=\"T_e60f3fd0_c801_11ea_b004_809133a1c100row5_col0\" class=\"data row5 col0\" >0.16</td>\n",
       "                        <td id=\"T_e60f3fd0_c801_11ea_b004_809133a1c100row5_col1\" class=\"data row5 col1\" >0.16</td>\n",
       "                        <td id=\"T_e60f3fd0_c801_11ea_b004_809133a1c100row5_col2\" class=\"data row5 col2\" >0.15</td>\n",
       "                        <td id=\"T_e60f3fd0_c801_11ea_b004_809133a1c100row5_col3\" class=\"data row5 col3\" >0.16</td>\n",
       "                        <td id=\"T_e60f3fd0_c801_11ea_b004_809133a1c100row5_col4\" class=\"data row5 col4\" >1.0</td>\n",
       "                        <td id=\"T_e60f3fd0_c801_11ea_b004_809133a1c100row5_col5\" class=\"data row5 col5\" >1.0</td>\n",
       "                        <td id=\"T_e60f3fd0_c801_11ea_b004_809133a1c100row5_col6\" class=\"data row5 col6\" >0.16</td>\n",
       "            </tr>\n",
       "            <tr>\n",
       "                        <th id=\"T_e60f3fd0_c801_11ea_b004_809133a1c100level0_row6\" class=\"row_heading level0 row6\" >Weighted_Price</th>\n",
       "                        <td id=\"T_e60f3fd0_c801_11ea_b004_809133a1c100row6_col0\" class=\"data row6 col0\" >1.0</td>\n",
       "                        <td id=\"T_e60f3fd0_c801_11ea_b004_809133a1c100row6_col1\" class=\"data row6 col1\" >1.0</td>\n",
       "                        <td id=\"T_e60f3fd0_c801_11ea_b004_809133a1c100row6_col2\" class=\"data row6 col2\" >1.0</td>\n",
       "                        <td id=\"T_e60f3fd0_c801_11ea_b004_809133a1c100row6_col3\" class=\"data row6 col3\" >1.0</td>\n",
       "                        <td id=\"T_e60f3fd0_c801_11ea_b004_809133a1c100row6_col4\" class=\"data row6 col4\" >0.12</td>\n",
       "                        <td id=\"T_e60f3fd0_c801_11ea_b004_809133a1c100row6_col5\" class=\"data row6 col5\" >0.16</td>\n",
       "                        <td id=\"T_e60f3fd0_c801_11ea_b004_809133a1c100row6_col6\" class=\"data row6 col6\" >1.0</td>\n",
       "            </tr>\n",
       "    </tbody></table>"
      ],
      "text/plain": [
       "<pandas.io.formats.style.Styler at 0x1f6a94e3808>"
      ]
     },
     "execution_count": 148,
     "metadata": {},
     "output_type": "execute_result"
    }
   ],
   "source": [
    "df.corr(method='pearson').style.format(\"{:.2}\").background_gradient(cmap=plt.get_cmap('PuOr'),axis=1)"
   ]
  },
  {
   "cell_type": "markdown",
   "metadata": {},
   "source": [
    "# FEATURE SCALING OR STANDARDIZATION"
   ]
  },
  {
   "cell_type": "code",
   "execution_count": 149,
   "metadata": {},
   "outputs": [],
   "source": [
    "from sklearn.preprocessing import StandardScaler # STANDARD SCALER IS USED TO TRANSFORMS THE DATA IN SUCH A WAY THAT IT HAS MEAN AS '0',AMD STD AS '1'."
   ]
  },
  {
   "cell_type": "code",
   "execution_count": 150,
   "metadata": {},
   "outputs": [],
   "source": [
    "scaler = StandardScaler()"
   ]
  },
  {
   "cell_type": "code",
   "execution_count": 151,
   "metadata": {},
   "outputs": [],
   "source": [
    "X=df[[feature for feature in list(df) if feature!= 'Weighted_Price']]"
   ]
  },
  {
   "cell_type": "code",
   "execution_count": 152,
   "metadata": {},
   "outputs": [
    {
     "data": {
      "text/html": [
       "<div>\n",
       "<style scoped>\n",
       "    .dataframe tbody tr th:only-of-type {\n",
       "        vertical-align: middle;\n",
       "    }\n",
       "\n",
       "    .dataframe tbody tr th {\n",
       "        vertical-align: top;\n",
       "    }\n",
       "\n",
       "    .dataframe thead th {\n",
       "        text-align: right;\n",
       "    }\n",
       "</style>\n",
       "<table border=\"1\" class=\"dataframe\">\n",
       "  <thead>\n",
       "    <tr style=\"text-align: right;\">\n",
       "      <th></th>\n",
       "      <th>Open</th>\n",
       "      <th>High</th>\n",
       "      <th>Low</th>\n",
       "      <th>Close</th>\n",
       "      <th>Volume_(BTC)</th>\n",
       "      <th>Volume_(Currency)</th>\n",
       "      <th>Weighted_Price</th>\n",
       "    </tr>\n",
       "  </thead>\n",
       "  <tbody>\n",
       "    <tr>\n",
       "      <th>2094761</th>\n",
       "      <td>-0.882608</td>\n",
       "      <td>-0.887348</td>\n",
       "      <td>-0.876715</td>\n",
       "      <td>-0.882787</td>\n",
       "      <td>-0.603601</td>\n",
       "      <td>-0.618270</td>\n",
       "      <td>3789.991471</td>\n",
       "    </tr>\n",
       "    <tr>\n",
       "      <th>2094762</th>\n",
       "      <td>-0.882511</td>\n",
       "      <td>-0.885308</td>\n",
       "      <td>-0.876618</td>\n",
       "      <td>-0.880746</td>\n",
       "      <td>-1.047473</td>\n",
       "      <td>-1.048594</td>\n",
       "      <td>3790.023822</td>\n",
       "    </tr>\n",
       "    <tr>\n",
       "      <th>2094763</th>\n",
       "      <td>-0.867642</td>\n",
       "      <td>-0.851691</td>\n",
       "      <td>-0.861747</td>\n",
       "      <td>-0.863349</td>\n",
       "      <td>0.590390</td>\n",
       "      <td>0.540318</td>\n",
       "      <td>3792.142707</td>\n",
       "    </tr>\n",
       "    <tr>\n",
       "      <th>2094764</th>\n",
       "      <td>-0.862978</td>\n",
       "      <td>-0.867819</td>\n",
       "      <td>-0.857081</td>\n",
       "      <td>-0.863252</td>\n",
       "      <td>-1.036429</td>\n",
       "      <td>-1.037757</td>\n",
       "      <td>3792.010000</td>\n",
       "    </tr>\n",
       "    <tr>\n",
       "      <th>2094765</th>\n",
       "      <td>-0.862978</td>\n",
       "      <td>-0.867819</td>\n",
       "      <td>-0.876715</td>\n",
       "      <td>-0.882787</td>\n",
       "      <td>-0.817404</td>\n",
       "      <td>-0.825469</td>\n",
       "      <td>3790.648621</td>\n",
       "    </tr>\n",
       "    <tr>\n",
       "      <th>...</th>\n",
       "      <td>...</td>\n",
       "      <td>...</td>\n",
       "      <td>...</td>\n",
       "      <td>...</td>\n",
       "      <td>...</td>\n",
       "      <td>...</td>\n",
       "      <td>...</td>\n",
       "    </tr>\n",
       "    <tr>\n",
       "      <th>2099755</th>\n",
       "      <td>1.216684</td>\n",
       "      <td>1.216779</td>\n",
       "      <td>1.222863</td>\n",
       "      <td>1.216646</td>\n",
       "      <td>0.512419</td>\n",
       "      <td>0.563541</td>\n",
       "      <td>4006.390309</td>\n",
       "    </tr>\n",
       "    <tr>\n",
       "      <th>2099756</th>\n",
       "      <td>1.216684</td>\n",
       "      <td>1.216779</td>\n",
       "      <td>1.222863</td>\n",
       "      <td>1.216646</td>\n",
       "      <td>-0.810356</td>\n",
       "      <td>-0.792134</td>\n",
       "      <td>4006.017233</td>\n",
       "    </tr>\n",
       "    <tr>\n",
       "      <th>2099757</th>\n",
       "      <td>1.216684</td>\n",
       "      <td>1.211338</td>\n",
       "      <td>1.222863</td>\n",
       "      <td>1.216646</td>\n",
       "      <td>-0.655748</td>\n",
       "      <td>-0.633702</td>\n",
       "      <td>4006.003635</td>\n",
       "    </tr>\n",
       "    <tr>\n",
       "      <th>2099758</th>\n",
       "      <td>1.216684</td>\n",
       "      <td>1.211338</td>\n",
       "      <td>1.218003</td>\n",
       "      <td>1.211690</td>\n",
       "      <td>0.148103</td>\n",
       "      <td>0.189930</td>\n",
       "      <td>4005.719991</td>\n",
       "    </tr>\n",
       "    <tr>\n",
       "      <th>2099759</th>\n",
       "      <td>1.211825</td>\n",
       "      <td>1.211338</td>\n",
       "      <td>1.218100</td>\n",
       "      <td>1.216452</td>\n",
       "      <td>-0.356803</td>\n",
       "      <td>-0.327423</td>\n",
       "      <td>4005.745614</td>\n",
       "    </tr>\n",
       "  </tbody>\n",
       "</table>\n",
       "<p>4182 rows × 7 columns</p>\n",
       "</div>"
      ],
      "text/plain": [
       "             Open      High       Low     Close  Volume_(BTC)  \\\n",
       "2094761 -0.882608 -0.887348 -0.876715 -0.882787     -0.603601   \n",
       "2094762 -0.882511 -0.885308 -0.876618 -0.880746     -1.047473   \n",
       "2094763 -0.867642 -0.851691 -0.861747 -0.863349      0.590390   \n",
       "2094764 -0.862978 -0.867819 -0.857081 -0.863252     -1.036429   \n",
       "2094765 -0.862978 -0.867819 -0.876715 -0.882787     -0.817404   \n",
       "...           ...       ...       ...       ...           ...   \n",
       "2099755  1.216684  1.216779  1.222863  1.216646      0.512419   \n",
       "2099756  1.216684  1.216779  1.222863  1.216646     -0.810356   \n",
       "2099757  1.216684  1.211338  1.222863  1.216646     -0.655748   \n",
       "2099758  1.216684  1.211338  1.218003  1.211690      0.148103   \n",
       "2099759  1.211825  1.211338  1.218100  1.216452     -0.356803   \n",
       "\n",
       "         Volume_(Currency)  Weighted_Price  \n",
       "2094761          -0.618270     3789.991471  \n",
       "2094762          -1.048594     3790.023822  \n",
       "2094763           0.540318     3792.142707  \n",
       "2094764          -1.037757     3792.010000  \n",
       "2094765          -0.825469     3790.648621  \n",
       "...                    ...             ...  \n",
       "2099755           0.563541     4006.390309  \n",
       "2099756          -0.792134     4006.017233  \n",
       "2099757          -0.633702     4006.003635  \n",
       "2099758           0.189930     4005.719991  \n",
       "2099759          -0.327423     4005.745614  \n",
       "\n",
       "[4182 rows x 7 columns]"
      ]
     },
     "execution_count": 152,
     "metadata": {},
     "output_type": "execute_result"
    }
   ],
   "source": [
    "df[[feature for feature in list(df) if feature!= 'Weighted_Price']]=scaler.fit_transform(df[[feature for feature in list(df)if feature!='Weighted_Price']])\n",
    "df"
   ]
  },
  {
   "cell_type": "code",
   "execution_count": 153,
   "metadata": {},
   "outputs": [
    {
     "data": {
      "text/plain": [
       "Open                 0\n",
       "High                 0\n",
       "Low                  0\n",
       "Close                0\n",
       "Volume_(BTC)         0\n",
       "Volume_(Currency)    0\n",
       "Weighted_Price       0\n",
       "dtype: int64"
      ]
     },
     "execution_count": 153,
     "metadata": {},
     "output_type": "execute_result"
    }
   ],
   "source": [
    "df.isnull().sum()"
   ]
  },
  {
   "cell_type": "code",
   "execution_count": 154,
   "metadata": {},
   "outputs": [
    {
     "data": {
      "text/plain": [
       "<matplotlib.axes._subplots.AxesSubplot at 0x1f68fe3b3c8>"
      ]
     },
     "execution_count": 154,
     "metadata": {},
     "output_type": "execute_result"
    },
    {
     "data": {
      "image/png": "[encoded data removed]",
      "text/plain": [
       "<Figure size 432x288 with 1 Axes>"
      ]
     },
     "metadata": {
      "needs_background": "light"
     },
     "output_type": "display_data"
    }
   ],
   "source": [
    "sns.heatmap(df.isnull(),cbar=False)"
   ]
  },
  {
   "cell_type": "code",
   "execution_count": 155,
   "metadata": {},
   "outputs": [],
   "source": [
    "#Now,no null values are present "
   ]
  },
  {
   "cell_type": "markdown",
   "metadata": {},
   "source": [
    "# SPLITTING OF DATA "
   ]
  },
  {
   "cell_type": "code",
   "execution_count": 156,
   "metadata": {},
   "outputs": [],
   "source": [
    "#from sklearn.model_selection import train_test_split"
   ]
  },
  {
   "cell_type": "code",
   "execution_count": 157,
   "metadata": {},
   "outputs": [],
   "source": [
    "#OTHER APPROACH:"
   ]
  },
  {
   "cell_type": "code",
   "execution_count": 158,
   "metadata": {},
   "outputs": [],
   "source": [
    "msk= np.random.rand(len(df))<0.7 #RANDOM VALUES IN A GIVEN SHAPE\n",
    "df_train=df[msk]\n",
    "df_test= df[~msk]\n",
    "y_train =df_train['Weighted_Price']\n",
    "x_train =df_train[[feature for feature in list(df) if feature!='Weighted_Price']]"
   ]
  },
  {
   "cell_type": "code",
   "execution_count": 159,
   "metadata": {},
   "outputs": [],
   "source": [
    "y_test =df['Weighted_Price']\n",
    "x_test =df[[feature for feature in list(df) if feature!='Weighted_Price']]"
   ]
  },
  {
   "cell_type": "markdown",
   "metadata": {},
   "source": [
    "# CHECKING ACCURACY"
   ]
  },
  {
   "cell_type": "code",
   "execution_count": 160,
   "metadata": {},
   "outputs": [],
   "source": [
    "from sklearn import metrics,decomposition # METRICS MODULE IMPLEMENTS SEVERAL LOSS, SCORE AND UTILITY FUNCTIONS"
   ]
  },
  {
   "cell_type": "markdown",
   "metadata": {},
   "source": [
    "# PRINCIPAL COMPONENT ANALYSIS(PCA)"
   ]
  },
  {
   "cell_type": "code",
   "execution_count": 161,
   "metadata": {},
   "outputs": [
    {
     "name": "stdout",
     "output_type": "stream",
     "text": [
      "(2956, 6)\n"
     ]
    }
   ],
   "source": [
    "pca= decomposition.PCA(n_components=6)    \n",
    "x_train=pca.fit_transform(x_train)        #FIT()USED FOR GENERATING LEARNING MODEL PARAMETERS FROM TRAINING DATA,\n",
    "                                          #TRANSFORM()GENERATED FROM FIT() METHOD,APPLIED UPON MODEL TO GENERATE TRANSFORMED DATA SET\n",
    "                                          #COMBINATION OF FIT()AND TRANSFORM()API ON SAME DATA SET\n",
    "print(x_train.shape)"
   ]
  },
  {
   "cell_type": "code",
   "execution_count": 162,
   "metadata": {},
   "outputs": [
    {
     "name": "stdout",
     "output_type": "stream",
     "text": [
      "(4182, 6)\n"
     ]
    }
   ],
   "source": [
    "x_test=pca.transform(x_test)\n",
    "print(x_test.shape)"
   ]
  },
  {
   "cell_type": "markdown",
   "metadata": {},
   "source": [
    "# LINEAR REGRESSION"
   ]
  },
  {
   "cell_type": "code",
   "execution_count": 163,
   "metadata": {},
   "outputs": [],
   "source": [
    "from sklearn.linear_model import LinearRegression"
   ]
  },
  {
   "cell_type": "code",
   "execution_count": 164,
   "metadata": {},
   "outputs": [],
   "source": [
    "import time # RETURNS THE NO OF SEC PASSED SINCE EPOCH."
   ]
  },
  {
   "cell_type": "code",
   "execution_count": 165,
   "metadata": {},
   "outputs": [],
   "source": [
    "lr=LinearRegression()\n",
    "start=time.time()"
   ]
  },
  {
   "cell_type": "code",
   "execution_count": 166,
   "metadata": {},
   "outputs": [
    {
     "name": "stdout",
     "output_type": "stream",
     "text": [
      "0.02771592140197754\n",
      "TRAIN SCORE IS :-0.9999855005344377\n",
      "TEST SCORE IS :-0.9999857292110031\n"
     ]
    }
   ],
   "source": [
    "lr.fit(x_train,y_train)\n",
    "end=time.time()\n",
    "print(end-start)\n",
    "print('TRAIN SCORE IS :-{}'.format(lr.score(x_train,y_train)))\n",
    "print('TEST SCORE IS :-{}'.format(lr.score(x_test,y_test)))"
   ]
  },
  {
   "cell_type": "code",
   "execution_count": 167,
   "metadata": {},
   "outputs": [
    {
     "name": "stdout",
     "output_type": "stream",
     "text": [
      "ACCURACY IS :- 0.9999857292110031\n"
     ]
    }
   ],
   "source": [
    "predict=lr.predict(x_test)\n",
    "print(\"ACCURACY IS :-\",lr.score(x_test,y_test))"
   ]
  },
  {
   "cell_type": "markdown",
   "metadata": {},
   "source": [
    "# PLOT BETWEEN ACTUAL AND PREDICTED VALUES"
   ]
  },
  {
   "cell_type": "code",
   "execution_count": 168,
   "metadata": {},
   "outputs": [
    {
     "data": {
      "image/png": "[encoded data removed]",
      "text/plain": [
       "<Figure size 432x288 with 1 Axes>"
      ]
     },
     "metadata": {
      "needs_background": "light"
     },
     "output_type": "display_data"
    }
   ],
   "source": [
    "y_len=range(len(y_test))\n",
    "y_act=y_test\n",
    "plt.scatter(y_len,y_act)\n",
    "plt.scatter(y_len,predict)\n",
    "plt.gca()\n",
    "plt.legend(('ACTUAL','PREDICTED'))\n",
    "plt.show()\n"
   ]
  },
  {
   "cell_type": "code",
   "execution_count": 169,
   "metadata": {},
   "outputs": [
    {
     "data": {
      "text/plain": [
       "<matplotlib.axes._subplots.AxesSubplot at 0x1f68fe29088>"
      ]
     },
     "execution_count": 169,
     "metadata": {},
     "output_type": "execute_result"
    },
    {
     "data": {
      "image/png": "[encoded data removed]",
      "text/plain": [
       "<Figure size 432x288 with 1 Axes>"
      ]
     },
     "metadata": {
      "needs_background": "light"
     },
     "output_type": "display_data"
    }
   ],
   "source": [
    "sns.distplot(df[\"Weighted_Price\"])"
   ]
  },
  {
   "cell_type": "code",
   "execution_count": 171,
   "metadata": {},
   "outputs": [],
   "source": [
    "from sklearn.model_selection import GridSearchCV#USED FOR FIND OPTIMAL HYPERPARAMETERS OF A MODEL WHICH \n",
    "                                                #RESULTS IN THE MOST ACCURATE PREDICTIONS"
   ]
  },
  {
   "cell_type": "code",
   "execution_count": 172,
   "metadata": {},
   "outputs": [],
   "source": [
    "normalize = [False,True]\n",
    "n_jobs=[0,1,5,10]\n",
    "fit_intercept=[False,True]\n",
    "copy_X = [False,True]"
   ]
  },
  {
   "cell_type": "code",
   "execution_count": 173,
   "metadata": {},
   "outputs": [],
   "source": [
    "param_grid= dict(normalize = normalize,\n",
    "n_jobs=n_jobs,\n",
    "fit_intercept= fit_intercept,\n",
    "copy_X = copy_X)"
   ]
  },
  {
   "cell_type": "code",
   "execution_count": 174,
   "metadata": {},
   "outputs": [
    {
     "data": {
      "text/plain": [
       "{'copy_X': False, 'fit_intercept': True, 'n_jobs': 0, 'normalize': False}"
      ]
     },
     "execution_count": 174,
     "metadata": {},
     "output_type": "execute_result"
    }
   ],
   "source": [
    "grid= GridSearchCV(estimator=lr, param_grid =param_grid,cv=5)\n",
    "grid_result=grid.fit(x_train,y_train)\n",
    "grid_result.best_params_"
   ]
  },
  {
   "cell_type": "code",
   "execution_count": 175,
   "metadata": {},
   "outputs": [
    {
     "name": "stdout",
     "output_type": "stream",
     "text": [
      "0.0058269500732421875\n",
      "0.9999857292110031\n"
     ]
    }
   ],
   "source": [
    "lr=LinearRegression(copy_X= False, fit_intercept= True, n_jobs= 0, normalize= False)\n",
    "start=time.time()\n",
    "lr.fit(x_train,y_train)\n",
    "end=time.time()\n",
    "print(end-start)\n",
    "predict = lr.predict(x_test)\n",
    "print(lr.score(x_test,y_test))"
   ]
  },
  {
   "cell_type": "code",
   "execution_count": 176,
   "metadata": {},
   "outputs": [
    {
     "data": {
      "image/png": "[encoded data removed]",
      "text/plain": [
       "<Figure size 432x288 with 1 Axes>"
      ]
     },
     "metadata": {
      "needs_background": "light"
     },
     "output_type": "display_data"
    }
   ],
   "source": [
    "y_len=range(len(y_test))\n",
    "y_act=y_test\n",
    "plt.scatter(y_len,y_act)\n",
    "plt.scatter(y_len,predict)\n",
    "plt.gca()\n",
    "plt.legend(('ACTUAL','PREDICTED'))\n",
    "plt.show()"
   ]
  },
  {
   "cell_type": "code",
   "execution_count": null,
   "metadata": {},
   "outputs": [],
   "source": []
  }
 ],
 "metadata": {
  "kernelspec": {
   "display_name": "Python 3",
   "language": "python",
   "name": "python3"
  },
  "language_info": {
   "codemirror_mode": {
    "name": "ipython",
    "version": 3
   },
   "file_extension": ".py",
   "mimetype": "text/x-python",
   "name": "python",
   "nbconvert_exporter": "python",
   "pygments_lexer": "ipython3",
   "version": "3.7.6"
  }
 },
 "nbformat": 4,
 "nbformat_minor": 4
}
