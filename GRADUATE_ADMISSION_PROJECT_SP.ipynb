{
  "nbformat": 4,
  "nbformat_minor": 0,
  "metadata": {
    "colab": {
      "name": "GRADUATE ADMISSION  PROJECT SP",
      "provenance": [],
      "collapsed_sections": [],
      "authorship_tag": "ABX9TyNzzEabbiQoD8/YG1tci4+D",
      "include_colab_link": true
    },
    "kernelspec": {
      "name": "python3",
      "display_name": "Python 3"
    }
  },
  "cells": [
    {
      "cell_type": "markdown",
      "metadata": {
        "id": "view-in-github",
        "colab_type": "text"
      },
      "source": [
        "<a href=\"https://colab.research.google.com/github/sira-code/my_beautiful_repo/blob/master/GRADUATE_ADMISSION_PROJECT_SP.ipynb\" target=\"_parent\"><img src=\"https://colab.research.google.com/assets/colab-badge.svg\" alt=\"Open In Colab\"/></a>"
      ]
    },
    {
      "cell_type": "code",
      "metadata": {
        "id": "GLUBpAyCk8tN",
        "colab_type": "code",
        "colab": {
          "base_uri": "https://localhost:8080/",
          "height": 74
        },
        "outputId": "f0891d5d-6142-48f2-e1b0-0125cfb56acf"
      },
      "source": [
        "import numpy as np\n",
        "import pandas as pd\n",
        "import matplotlib.pyplot as plt\n",
        "import seaborn as sns"
      ],
      "execution_count": 1,
      "outputs": [
        {
          "output_type": "stream",
          "text": [
            "/usr/local/lib/python3.6/dist-packages/statsmodels/tools/_testing.py:19: FutureWarning: pandas.util.testing is deprecated. Use the functions in the public API at pandas.testing instead.\n",
            "  import pandas.util.testing as tm\n"
          ],
          "name": "stderr"
        }
      ]
    },
    {
      "cell_type": "code",
      "metadata": {
        "id": "AScWMmz1lbiw",
        "colab_type": "code",
        "colab": {}
      },
      "source": [
        "from sklearn.linear_model import LinearRegression\n",
        "from sklearn.preprocessing import StandardScaler\n",
        "from sklearn.model_selection import train_test_split\n",
        "from statsmodels.stats.outliers_influence import variance_inflation_factor"
      ],
      "execution_count": 2,
      "outputs": []
    },
    {
      "cell_type": "code",
      "metadata": {
        "id": "SALFib8wldsL",
        "colab_type": "code",
        "colab": {}
      },
      "source": [
        "#LOAD THE DATA\n",
        "data = pd.read_csv('admission.csv')"
      ],
      "execution_count": 3,
      "outputs": []
    },
    {
      "cell_type": "code",
      "metadata": {
        "id": "ag0PnERQlqsP",
        "colab_type": "code",
        "colab": {
          "base_uri": "https://localhost:8080/",
          "height": 206
        },
        "outputId": "af04cc04-6113-4ce4-d84d-6fe05cee1b0f"
      },
      "source": [
        "data.head()"
      ],
      "execution_count": 4,
      "outputs": [
        {
          "output_type": "execute_result",
          "data": {
            "text/html": [
              "<div>\n",
              "<style scoped>\n",
              "    .dataframe tbody tr th:only-of-type {\n",
              "        vertical-align: middle;\n",
              "    }\n",
              "\n",
              "    .dataframe tbody tr th {\n",
              "        vertical-align: top;\n",
              "    }\n",
              "\n",
              "    .dataframe thead th {\n",
              "        text-align: right;\n",
              "    }\n",
              "</style>\n",
              "<table border=\"1\" class=\"dataframe\">\n",
              "  <thead>\n",
              "    <tr style=\"text-align: right;\">\n",
              "      <th></th>\n",
              "      <th>Serial No.</th>\n",
              "      <th>GRE Score</th>\n",
              "      <th>TOEFL Score</th>\n",
              "      <th>University Rating</th>\n",
              "      <th>SOP</th>\n",
              "      <th>LOR</th>\n",
              "      <th>CGPA</th>\n",
              "      <th>Research</th>\n",
              "      <th>Chance of Admit</th>\n",
              "    </tr>\n",
              "  </thead>\n",
              "  <tbody>\n",
              "    <tr>\n",
              "      <th>0</th>\n",
              "      <td>1</td>\n",
              "      <td>337</td>\n",
              "      <td>118</td>\n",
              "      <td>4</td>\n",
              "      <td>4.5</td>\n",
              "      <td>4.5</td>\n",
              "      <td>9.65</td>\n",
              "      <td>1</td>\n",
              "      <td>0.92</td>\n",
              "    </tr>\n",
              "    <tr>\n",
              "      <th>1</th>\n",
              "      <td>2</td>\n",
              "      <td>324</td>\n",
              "      <td>107</td>\n",
              "      <td>4</td>\n",
              "      <td>4.0</td>\n",
              "      <td>4.5</td>\n",
              "      <td>8.87</td>\n",
              "      <td>1</td>\n",
              "      <td>0.76</td>\n",
              "    </tr>\n",
              "    <tr>\n",
              "      <th>2</th>\n",
              "      <td>3</td>\n",
              "      <td>316</td>\n",
              "      <td>104</td>\n",
              "      <td>3</td>\n",
              "      <td>3.0</td>\n",
              "      <td>3.5</td>\n",
              "      <td>8.00</td>\n",
              "      <td>1</td>\n",
              "      <td>0.72</td>\n",
              "    </tr>\n",
              "    <tr>\n",
              "      <th>3</th>\n",
              "      <td>4</td>\n",
              "      <td>322</td>\n",
              "      <td>110</td>\n",
              "      <td>3</td>\n",
              "      <td>3.5</td>\n",
              "      <td>2.5</td>\n",
              "      <td>8.67</td>\n",
              "      <td>1</td>\n",
              "      <td>0.80</td>\n",
              "    </tr>\n",
              "    <tr>\n",
              "      <th>4</th>\n",
              "      <td>5</td>\n",
              "      <td>314</td>\n",
              "      <td>103</td>\n",
              "      <td>2</td>\n",
              "      <td>2.0</td>\n",
              "      <td>3.0</td>\n",
              "      <td>8.21</td>\n",
              "      <td>0</td>\n",
              "      <td>0.65</td>\n",
              "    </tr>\n",
              "  </tbody>\n",
              "</table>\n",
              "</div>"
            ],
            "text/plain": [
              "   Serial No.  GRE Score  TOEFL Score  ...  CGPA  Research  Chance of Admit \n",
              "0           1        337          118  ...  9.65         1              0.92\n",
              "1           2        324          107  ...  8.87         1              0.76\n",
              "2           3        316          104  ...  8.00         1              0.72\n",
              "3           4        322          110  ...  8.67         1              0.80\n",
              "4           5        314          103  ...  8.21         0              0.65\n",
              "\n",
              "[5 rows x 9 columns]"
            ]
          },
          "metadata": {
            "tags": []
          },
          "execution_count": 4
        }
      ]
    },
    {
      "cell_type": "code",
      "metadata": {
        "id": "plupZsywluh_",
        "colab_type": "code",
        "colab": {
          "base_uri": "https://localhost:8080/",
          "height": 337
        },
        "outputId": "0445f0b7-dc3f-4ee5-8732-34ea9a4f1660"
      },
      "source": [
        "data.describe(include = 'all')"
      ],
      "execution_count": 5,
      "outputs": [
        {
          "output_type": "execute_result",
          "data": {
            "text/html": [
              "<div>\n",
              "<style scoped>\n",
              "    .dataframe tbody tr th:only-of-type {\n",
              "        vertical-align: middle;\n",
              "    }\n",
              "\n",
              "    .dataframe tbody tr th {\n",
              "        vertical-align: top;\n",
              "    }\n",
              "\n",
              "    .dataframe thead th {\n",
              "        text-align: right;\n",
              "    }\n",
              "</style>\n",
              "<table border=\"1\" class=\"dataframe\">\n",
              "  <thead>\n",
              "    <tr style=\"text-align: right;\">\n",
              "      <th></th>\n",
              "      <th>Serial No.</th>\n",
              "      <th>GRE Score</th>\n",
              "      <th>TOEFL Score</th>\n",
              "      <th>University Rating</th>\n",
              "      <th>SOP</th>\n",
              "      <th>LOR</th>\n",
              "      <th>CGPA</th>\n",
              "      <th>Research</th>\n",
              "      <th>Chance of Admit</th>\n",
              "    </tr>\n",
              "  </thead>\n",
              "  <tbody>\n",
              "    <tr>\n",
              "      <th>count</th>\n",
              "      <td>400.000000</td>\n",
              "      <td>400.000000</td>\n",
              "      <td>400.000000</td>\n",
              "      <td>400.000000</td>\n",
              "      <td>400.000000</td>\n",
              "      <td>400.000000</td>\n",
              "      <td>400.000000</td>\n",
              "      <td>400.000000</td>\n",
              "      <td>400.000000</td>\n",
              "    </tr>\n",
              "    <tr>\n",
              "      <th>mean</th>\n",
              "      <td>200.500000</td>\n",
              "      <td>316.807500</td>\n",
              "      <td>107.410000</td>\n",
              "      <td>3.087500</td>\n",
              "      <td>3.400000</td>\n",
              "      <td>3.452500</td>\n",
              "      <td>8.598925</td>\n",
              "      <td>0.547500</td>\n",
              "      <td>0.724350</td>\n",
              "    </tr>\n",
              "    <tr>\n",
              "      <th>std</th>\n",
              "      <td>115.614301</td>\n",
              "      <td>11.473646</td>\n",
              "      <td>6.069514</td>\n",
              "      <td>1.143728</td>\n",
              "      <td>1.006869</td>\n",
              "      <td>0.898478</td>\n",
              "      <td>0.596317</td>\n",
              "      <td>0.498362</td>\n",
              "      <td>0.142609</td>\n",
              "    </tr>\n",
              "    <tr>\n",
              "      <th>min</th>\n",
              "      <td>1.000000</td>\n",
              "      <td>290.000000</td>\n",
              "      <td>92.000000</td>\n",
              "      <td>1.000000</td>\n",
              "      <td>1.000000</td>\n",
              "      <td>1.000000</td>\n",
              "      <td>6.800000</td>\n",
              "      <td>0.000000</td>\n",
              "      <td>0.340000</td>\n",
              "    </tr>\n",
              "    <tr>\n",
              "      <th>25%</th>\n",
              "      <td>100.750000</td>\n",
              "      <td>308.000000</td>\n",
              "      <td>103.000000</td>\n",
              "      <td>2.000000</td>\n",
              "      <td>2.500000</td>\n",
              "      <td>3.000000</td>\n",
              "      <td>8.170000</td>\n",
              "      <td>0.000000</td>\n",
              "      <td>0.640000</td>\n",
              "    </tr>\n",
              "    <tr>\n",
              "      <th>50%</th>\n",
              "      <td>200.500000</td>\n",
              "      <td>317.000000</td>\n",
              "      <td>107.000000</td>\n",
              "      <td>3.000000</td>\n",
              "      <td>3.500000</td>\n",
              "      <td>3.500000</td>\n",
              "      <td>8.610000</td>\n",
              "      <td>1.000000</td>\n",
              "      <td>0.730000</td>\n",
              "    </tr>\n",
              "    <tr>\n",
              "      <th>75%</th>\n",
              "      <td>300.250000</td>\n",
              "      <td>325.000000</td>\n",
              "      <td>112.000000</td>\n",
              "      <td>4.000000</td>\n",
              "      <td>4.000000</td>\n",
              "      <td>4.000000</td>\n",
              "      <td>9.062500</td>\n",
              "      <td>1.000000</td>\n",
              "      <td>0.830000</td>\n",
              "    </tr>\n",
              "    <tr>\n",
              "      <th>max</th>\n",
              "      <td>400.000000</td>\n",
              "      <td>340.000000</td>\n",
              "      <td>120.000000</td>\n",
              "      <td>5.000000</td>\n",
              "      <td>5.000000</td>\n",
              "      <td>5.000000</td>\n",
              "      <td>9.920000</td>\n",
              "      <td>1.000000</td>\n",
              "      <td>0.970000</td>\n",
              "    </tr>\n",
              "  </tbody>\n",
              "</table>\n",
              "</div>"
            ],
            "text/plain": [
              "       Serial No.   GRE Score  ...    Research  Chance of Admit \n",
              "count  400.000000  400.000000  ...  400.000000        400.000000\n",
              "mean   200.500000  316.807500  ...    0.547500          0.724350\n",
              "std    115.614301   11.473646  ...    0.498362          0.142609\n",
              "min      1.000000  290.000000  ...    0.000000          0.340000\n",
              "25%    100.750000  308.000000  ...    0.000000          0.640000\n",
              "50%    200.500000  317.000000  ...    1.000000          0.730000\n",
              "75%    300.250000  325.000000  ...    1.000000          0.830000\n",
              "max    400.000000  340.000000  ...    1.000000          0.970000\n",
              "\n",
              "[8 rows x 9 columns]"
            ]
          },
          "metadata": {
            "tags": []
          },
          "execution_count": 5
        }
      ]
    },
    {
      "cell_type": "code",
      "metadata": {
        "id": "jae3u9Qul2kS",
        "colab_type": "code",
        "colab": {
          "base_uri": "https://localhost:8080/",
          "height": 204
        },
        "outputId": "3ee6f4e3-1f58-4bc6-9825-c80d83354e48"
      },
      "source": [
        "data.isnull().sum()"
      ],
      "execution_count": 6,
      "outputs": [
        {
          "output_type": "execute_result",
          "data": {
            "text/plain": [
              "Serial No.           0\n",
              "GRE Score            0\n",
              "TOEFL Score          0\n",
              "University Rating    0\n",
              "SOP                  0\n",
              "LOR                  0\n",
              "CGPA                 0\n",
              "Research             0\n",
              "Chance of Admit      0\n",
              "dtype: int64"
            ]
          },
          "metadata": {
            "tags": []
          },
          "execution_count": 6
        }
      ]
    },
    {
      "cell_type": "code",
      "metadata": {
        "id": "K8PVcsiQmDMK",
        "colab_type": "code",
        "colab": {}
      },
      "source": [
        "data_clean= data.drop(['Serial No.'], axis = 1)"
      ],
      "execution_count": 7,
      "outputs": []
    },
    {
      "cell_type": "code",
      "metadata": {
        "id": "9QptmPhBmS5x",
        "colab_type": "code",
        "colab": {
          "base_uri": "https://localhost:8080/",
          "height": 317
        },
        "outputId": "8f6a002a-de79-450d-948c-6d987eaf8059"
      },
      "source": [
        "data_clean.describe(include = 'all')"
      ],
      "execution_count": 8,
      "outputs": [
        {
          "output_type": "execute_result",
          "data": {
            "text/html": [
              "<div>\n",
              "<style scoped>\n",
              "    .dataframe tbody tr th:only-of-type {\n",
              "        vertical-align: middle;\n",
              "    }\n",
              "\n",
              "    .dataframe tbody tr th {\n",
              "        vertical-align: top;\n",
              "    }\n",
              "\n",
              "    .dataframe thead th {\n",
              "        text-align: right;\n",
              "    }\n",
              "</style>\n",
              "<table border=\"1\" class=\"dataframe\">\n",
              "  <thead>\n",
              "    <tr style=\"text-align: right;\">\n",
              "      <th></th>\n",
              "      <th>GRE Score</th>\n",
              "      <th>TOEFL Score</th>\n",
              "      <th>University Rating</th>\n",
              "      <th>SOP</th>\n",
              "      <th>LOR</th>\n",
              "      <th>CGPA</th>\n",
              "      <th>Research</th>\n",
              "      <th>Chance of Admit</th>\n",
              "    </tr>\n",
              "  </thead>\n",
              "  <tbody>\n",
              "    <tr>\n",
              "      <th>count</th>\n",
              "      <td>400.000000</td>\n",
              "      <td>400.000000</td>\n",
              "      <td>400.000000</td>\n",
              "      <td>400.000000</td>\n",
              "      <td>400.000000</td>\n",
              "      <td>400.000000</td>\n",
              "      <td>400.000000</td>\n",
              "      <td>400.000000</td>\n",
              "    </tr>\n",
              "    <tr>\n",
              "      <th>mean</th>\n",
              "      <td>316.807500</td>\n",
              "      <td>107.410000</td>\n",
              "      <td>3.087500</td>\n",
              "      <td>3.400000</td>\n",
              "      <td>3.452500</td>\n",
              "      <td>8.598925</td>\n",
              "      <td>0.547500</td>\n",
              "      <td>0.724350</td>\n",
              "    </tr>\n",
              "    <tr>\n",
              "      <th>std</th>\n",
              "      <td>11.473646</td>\n",
              "      <td>6.069514</td>\n",
              "      <td>1.143728</td>\n",
              "      <td>1.006869</td>\n",
              "      <td>0.898478</td>\n",
              "      <td>0.596317</td>\n",
              "      <td>0.498362</td>\n",
              "      <td>0.142609</td>\n",
              "    </tr>\n",
              "    <tr>\n",
              "      <th>min</th>\n",
              "      <td>290.000000</td>\n",
              "      <td>92.000000</td>\n",
              "      <td>1.000000</td>\n",
              "      <td>1.000000</td>\n",
              "      <td>1.000000</td>\n",
              "      <td>6.800000</td>\n",
              "      <td>0.000000</td>\n",
              "      <td>0.340000</td>\n",
              "    </tr>\n",
              "    <tr>\n",
              "      <th>25%</th>\n",
              "      <td>308.000000</td>\n",
              "      <td>103.000000</td>\n",
              "      <td>2.000000</td>\n",
              "      <td>2.500000</td>\n",
              "      <td>3.000000</td>\n",
              "      <td>8.170000</td>\n",
              "      <td>0.000000</td>\n",
              "      <td>0.640000</td>\n",
              "    </tr>\n",
              "    <tr>\n",
              "      <th>50%</th>\n",
              "      <td>317.000000</td>\n",
              "      <td>107.000000</td>\n",
              "      <td>3.000000</td>\n",
              "      <td>3.500000</td>\n",
              "      <td>3.500000</td>\n",
              "      <td>8.610000</td>\n",
              "      <td>1.000000</td>\n",
              "      <td>0.730000</td>\n",
              "    </tr>\n",
              "    <tr>\n",
              "      <th>75%</th>\n",
              "      <td>325.000000</td>\n",
              "      <td>112.000000</td>\n",
              "      <td>4.000000</td>\n",
              "      <td>4.000000</td>\n",
              "      <td>4.000000</td>\n",
              "      <td>9.062500</td>\n",
              "      <td>1.000000</td>\n",
              "      <td>0.830000</td>\n",
              "    </tr>\n",
              "    <tr>\n",
              "      <th>max</th>\n",
              "      <td>340.000000</td>\n",
              "      <td>120.000000</td>\n",
              "      <td>5.000000</td>\n",
              "      <td>5.000000</td>\n",
              "      <td>5.000000</td>\n",
              "      <td>9.920000</td>\n",
              "      <td>1.000000</td>\n",
              "      <td>0.970000</td>\n",
              "    </tr>\n",
              "  </tbody>\n",
              "</table>\n",
              "</div>"
            ],
            "text/plain": [
              "        GRE Score  TOEFL Score  ...    Research  Chance of Admit \n",
              "count  400.000000   400.000000  ...  400.000000        400.000000\n",
              "mean   316.807500   107.410000  ...    0.547500          0.724350\n",
              "std     11.473646     6.069514  ...    0.498362          0.142609\n",
              "min    290.000000    92.000000  ...    0.000000          0.340000\n",
              "25%    308.000000   103.000000  ...    0.000000          0.640000\n",
              "50%    317.000000   107.000000  ...    1.000000          0.730000\n",
              "75%    325.000000   112.000000  ...    1.000000          0.830000\n",
              "max    340.000000   120.000000  ...    1.000000          0.970000\n",
              "\n",
              "[8 rows x 8 columns]"
            ]
          },
          "metadata": {
            "tags": []
          },
          "execution_count": 8
        }
      ]
    },
    {
      "cell_type": "code",
      "metadata": {
        "id": "IC31PmdcmW-A",
        "colab_type": "code",
        "colab": {
          "base_uri": "https://localhost:8080/",
          "height": 299
        },
        "outputId": "772d368d-f709-416d-8aad-9462da88f4b4"
      },
      "source": [
        "data.info"
      ],
      "execution_count": 9,
      "outputs": [
        {
          "output_type": "execute_result",
          "data": {
            "text/plain": [
              "<bound method DataFrame.info of      Serial No.  GRE Score  TOEFL Score  ...  CGPA  Research  Chance of Admit \n",
              "0             1        337          118  ...  9.65         1              0.92\n",
              "1             2        324          107  ...  8.87         1              0.76\n",
              "2             3        316          104  ...  8.00         1              0.72\n",
              "3             4        322          110  ...  8.67         1              0.80\n",
              "4             5        314          103  ...  8.21         0              0.65\n",
              "..          ...        ...          ...  ...   ...       ...               ...\n",
              "395         396        324          110  ...  9.04         1              0.82\n",
              "396         397        325          107  ...  9.11         1              0.84\n",
              "397         398        330          116  ...  9.45         1              0.91\n",
              "398         399        312          103  ...  8.78         0              0.67\n",
              "399         400        333          117  ...  9.66         1              0.95\n",
              "\n",
              "[400 rows x 9 columns]>"
            ]
          },
          "metadata": {
            "tags": []
          },
          "execution_count": 9
        }
      ]
    },
    {
      "cell_type": "code",
      "metadata": {
        "id": "5JA3msIGmbGb",
        "colab_type": "code",
        "colab": {
          "base_uri": "https://localhost:8080/",
          "height": 298
        },
        "outputId": "dbaa3bd8-84cc-4c87-8ada-461e3b967a5b"
      },
      "source": [
        "sns.distplot(data_clean['GRE Score'])"
      ],
      "execution_count": 10,
      "outputs": [
        {
          "output_type": "execute_result",
          "data": {
            "text/plain": [
              "<matplotlib.axes._subplots.AxesSubplot at 0x7f7678562828>"
            ]
          },
          "metadata": {
            "tags": []
          },
          "execution_count": 10
        },
        {
          "output_type": "display_data",
          "data": {
            "image/png": "[encoded data removed]",
            "text/plain": [
              "<Figure size 432x288 with 1 Axes>"
            ]
          },
          "metadata": {
            "tags": [],
            "needs_background": "light"
          }
        }
      ]
    },
    {
      "cell_type": "code",
      "metadata": {
        "id": "P540lTO3muD6",
        "colab_type": "code",
        "colab": {
          "base_uri": "https://localhost:8080/",
          "height": 317
        },
        "outputId": "2740261e-850f-4fae-fb5d-44c8db1c041f"
      },
      "source": [
        "s = data_clean['GRE Score'].quantile(0.01)\n",
        "data_1 = data_clean[data_clean['GRE Score']>s]\n",
        "data_1.describe(include = 'all')"
      ],
      "execution_count": 12,
      "outputs": [
        {
          "output_type": "execute_result",
          "data": {
            "text/html": [
              "<div>\n",
              "<style scoped>\n",
              "    .dataframe tbody tr th:only-of-type {\n",
              "        vertical-align: middle;\n",
              "    }\n",
              "\n",
              "    .dataframe tbody tr th {\n",
              "        vertical-align: top;\n",
              "    }\n",
              "\n",
              "    .dataframe thead th {\n",
              "        text-align: right;\n",
              "    }\n",
              "</style>\n",
              "<table border=\"1\" class=\"dataframe\">\n",
              "  <thead>\n",
              "    <tr style=\"text-align: right;\">\n",
              "      <th></th>\n",
              "      <th>GRE Score</th>\n",
              "      <th>TOEFL Score</th>\n",
              "      <th>University Rating</th>\n",
              "      <th>SOP</th>\n",
              "      <th>LOR</th>\n",
              "      <th>CGPA</th>\n",
              "      <th>Research</th>\n",
              "      <th>Chance of Admit</th>\n",
              "    </tr>\n",
              "  </thead>\n",
              "  <tbody>\n",
              "    <tr>\n",
              "      <th>count</th>\n",
              "      <td>395.000000</td>\n",
              "      <td>395.000000</td>\n",
              "      <td>395.000000</td>\n",
              "      <td>395.000000</td>\n",
              "      <td>395.000000</td>\n",
              "      <td>395.000000</td>\n",
              "      <td>395.000000</td>\n",
              "      <td>395.000000</td>\n",
              "    </tr>\n",
              "    <tr>\n",
              "      <th>mean</th>\n",
              "      <td>317.118987</td>\n",
              "      <td>107.531646</td>\n",
              "      <td>3.103797</td>\n",
              "      <td>3.421519</td>\n",
              "      <td>3.465823</td>\n",
              "      <td>8.612025</td>\n",
              "      <td>0.551899</td>\n",
              "      <td>0.727165</td>\n",
              "    </tr>\n",
              "    <tr>\n",
              "      <th>std</th>\n",
              "      <td>11.202271</td>\n",
              "      <td>5.994150</td>\n",
              "      <td>1.134087</td>\n",
              "      <td>0.994359</td>\n",
              "      <td>0.890999</td>\n",
              "      <td>0.588263</td>\n",
              "      <td>0.497930</td>\n",
              "      <td>0.141059</td>\n",
              "    </tr>\n",
              "    <tr>\n",
              "      <th>min</th>\n",
              "      <td>295.000000</td>\n",
              "      <td>92.000000</td>\n",
              "      <td>1.000000</td>\n",
              "      <td>1.000000</td>\n",
              "      <td>1.000000</td>\n",
              "      <td>6.800000</td>\n",
              "      <td>0.000000</td>\n",
              "      <td>0.340000</td>\n",
              "    </tr>\n",
              "    <tr>\n",
              "      <th>25%</th>\n",
              "      <td>309.000000</td>\n",
              "      <td>103.000000</td>\n",
              "      <td>2.000000</td>\n",
              "      <td>2.500000</td>\n",
              "      <td>3.000000</td>\n",
              "      <td>8.200000</td>\n",
              "      <td>0.000000</td>\n",
              "      <td>0.640000</td>\n",
              "    </tr>\n",
              "    <tr>\n",
              "      <th>50%</th>\n",
              "      <td>317.000000</td>\n",
              "      <td>107.000000</td>\n",
              "      <td>3.000000</td>\n",
              "      <td>3.500000</td>\n",
              "      <td>3.500000</td>\n",
              "      <td>8.640000</td>\n",
              "      <td>1.000000</td>\n",
              "      <td>0.730000</td>\n",
              "    </tr>\n",
              "    <tr>\n",
              "      <th>75%</th>\n",
              "      <td>325.000000</td>\n",
              "      <td>112.000000</td>\n",
              "      <td>4.000000</td>\n",
              "      <td>4.000000</td>\n",
              "      <td>4.000000</td>\n",
              "      <td>9.075000</td>\n",
              "      <td>1.000000</td>\n",
              "      <td>0.830000</td>\n",
              "    </tr>\n",
              "    <tr>\n",
              "      <th>max</th>\n",
              "      <td>340.000000</td>\n",
              "      <td>120.000000</td>\n",
              "      <td>5.000000</td>\n",
              "      <td>5.000000</td>\n",
              "      <td>5.000000</td>\n",
              "      <td>9.920000</td>\n",
              "      <td>1.000000</td>\n",
              "      <td>0.970000</td>\n",
              "    </tr>\n",
              "  </tbody>\n",
              "</table>\n",
              "</div>"
            ],
            "text/plain": [
              "        GRE Score  TOEFL Score  ...    Research  Chance of Admit \n",
              "count  395.000000   395.000000  ...  395.000000        395.000000\n",
              "mean   317.118987   107.531646  ...    0.551899          0.727165\n",
              "std     11.202271     5.994150  ...    0.497930          0.141059\n",
              "min    295.000000    92.000000  ...    0.000000          0.340000\n",
              "25%    309.000000   103.000000  ...    0.000000          0.640000\n",
              "50%    317.000000   107.000000  ...    1.000000          0.730000\n",
              "75%    325.000000   112.000000  ...    1.000000          0.830000\n",
              "max    340.000000   120.000000  ...    1.000000          0.970000\n",
              "\n",
              "[8 rows x 8 columns]"
            ]
          },
          "metadata": {
            "tags": []
          },
          "execution_count": 12
        }
      ]
    },
    {
      "cell_type": "code",
      "metadata": {
        "id": "z7_J7v6Jm-hE",
        "colab_type": "code",
        "colab": {
          "base_uri": "https://localhost:8080/",
          "height": 298
        },
        "outputId": "64bb0826-0613-4579-f50e-8cd47ff64ee7"
      },
      "source": [
        "sns.distplot(data_1['GRE Score'])"
      ],
      "execution_count": 13,
      "outputs": [
        {
          "output_type": "execute_result",
          "data": {
            "text/plain": [
              "<matplotlib.axes._subplots.AxesSubplot at 0x7f7678488048>"
            ]
          },
          "metadata": {
            "tags": []
          },
          "execution_count": 13
        },
        {
          "output_type": "display_data",
          "data": {
            "image/png": "[encoded data removed]",
            "text/plain": [
              "<Figure size 432x288 with 1 Axes>"
            ]
          },
          "metadata": {
            "tags": [],
            "needs_background": "light"
          }
        }
      ]
    },
    {
      "cell_type": "code",
      "metadata": {
        "id": "N-OI4RvhnKD-",
        "colab_type": "code",
        "colab": {
          "base_uri": "https://localhost:8080/",
          "height": 298
        },
        "outputId": "688a6730-2f02-48e5-c8fd-d65887e563a7"
      },
      "source": [
        "sns.distplot(data_1['TOEFL Score'])"
      ],
      "execution_count": 14,
      "outputs": [
        {
          "output_type": "execute_result",
          "data": {
            "text/plain": [
              "<matplotlib.axes._subplots.AxesSubplot at 0x7f7677eb2198>"
            ]
          },
          "metadata": {
            "tags": []
          },
          "execution_count": 14
        },
        {
          "output_type": "display_data",
          "data": {
            "image/png": "[encoded data removed]",
            "text/plain": [
              "<Figure size 432x288 with 1 Axes>"
            ]
          },
          "metadata": {
            "tags": [],
            "needs_background": "light"
          }
        }
      ]
    },
    {
      "cell_type": "code",
      "metadata": {
        "id": "ezQ-vQggnKp-",
        "colab_type": "code",
        "colab": {
          "base_uri": "https://localhost:8080/",
          "height": 317
        },
        "outputId": "c3a873a3-a04c-46e4-ae12-7e40b9f02fc6"
      },
      "source": [
        "s = data_1['TOEFL Score'].quantile(0.01)\n",
        "data_2 = data_1[data_1['TOEFL Score']>s]\n",
        "data_2.describe(include = 'all')"
      ],
      "execution_count": 15,
      "outputs": [
        {
          "output_type": "execute_result",
          "data": {
            "text/html": [
              "<div>\n",
              "<style scoped>\n",
              "    .dataframe tbody tr th:only-of-type {\n",
              "        vertical-align: middle;\n",
              "    }\n",
              "\n",
              "    .dataframe tbody tr th {\n",
              "        vertical-align: top;\n",
              "    }\n",
              "\n",
              "    .dataframe thead th {\n",
              "        text-align: right;\n",
              "    }\n",
              "</style>\n",
              "<table border=\"1\" class=\"dataframe\">\n",
              "  <thead>\n",
              "    <tr style=\"text-align: right;\">\n",
              "      <th></th>\n",
              "      <th>GRE Score</th>\n",
              "      <th>TOEFL Score</th>\n",
              "      <th>University Rating</th>\n",
              "      <th>SOP</th>\n",
              "      <th>LOR</th>\n",
              "      <th>CGPA</th>\n",
              "      <th>Research</th>\n",
              "      <th>Chance of Admit</th>\n",
              "    </tr>\n",
              "  </thead>\n",
              "  <tbody>\n",
              "    <tr>\n",
              "      <th>count</th>\n",
              "      <td>391.000000</td>\n",
              "      <td>391.000000</td>\n",
              "      <td>391.000000</td>\n",
              "      <td>391.000000</td>\n",
              "      <td>391.000000</td>\n",
              "      <td>391.000000</td>\n",
              "      <td>391.000000</td>\n",
              "      <td>391.000000</td>\n",
              "    </tr>\n",
              "    <tr>\n",
              "      <th>mean</th>\n",
              "      <td>317.324808</td>\n",
              "      <td>107.675192</td>\n",
              "      <td>3.122762</td>\n",
              "      <td>3.436061</td>\n",
              "      <td>3.483376</td>\n",
              "      <td>8.623504</td>\n",
              "      <td>0.554987</td>\n",
              "      <td>0.729923</td>\n",
              "    </tr>\n",
              "    <tr>\n",
              "      <th>std</th>\n",
              "      <td>11.070607</td>\n",
              "      <td>5.851966</td>\n",
              "      <td>1.123305</td>\n",
              "      <td>0.986319</td>\n",
              "      <td>0.877265</td>\n",
              "      <td>0.579559</td>\n",
              "      <td>0.497604</td>\n",
              "      <td>0.139056</td>\n",
              "    </tr>\n",
              "    <tr>\n",
              "      <th>min</th>\n",
              "      <td>295.000000</td>\n",
              "      <td>96.000000</td>\n",
              "      <td>1.000000</td>\n",
              "      <td>1.000000</td>\n",
              "      <td>1.500000</td>\n",
              "      <td>6.800000</td>\n",
              "      <td>0.000000</td>\n",
              "      <td>0.340000</td>\n",
              "    </tr>\n",
              "    <tr>\n",
              "      <th>25%</th>\n",
              "      <td>309.500000</td>\n",
              "      <td>103.500000</td>\n",
              "      <td>2.000000</td>\n",
              "      <td>2.750000</td>\n",
              "      <td>3.000000</td>\n",
              "      <td>8.200000</td>\n",
              "      <td>0.000000</td>\n",
              "      <td>0.640000</td>\n",
              "    </tr>\n",
              "    <tr>\n",
              "      <th>50%</th>\n",
              "      <td>317.000000</td>\n",
              "      <td>107.000000</td>\n",
              "      <td>3.000000</td>\n",
              "      <td>3.500000</td>\n",
              "      <td>3.500000</td>\n",
              "      <td>8.640000</td>\n",
              "      <td>1.000000</td>\n",
              "      <td>0.730000</td>\n",
              "    </tr>\n",
              "    <tr>\n",
              "      <th>75%</th>\n",
              "      <td>325.000000</td>\n",
              "      <td>112.000000</td>\n",
              "      <td>4.000000</td>\n",
              "      <td>4.000000</td>\n",
              "      <td>4.000000</td>\n",
              "      <td>9.080000</td>\n",
              "      <td>1.000000</td>\n",
              "      <td>0.835000</td>\n",
              "    </tr>\n",
              "    <tr>\n",
              "      <th>max</th>\n",
              "      <td>340.000000</td>\n",
              "      <td>120.000000</td>\n",
              "      <td>5.000000</td>\n",
              "      <td>5.000000</td>\n",
              "      <td>5.000000</td>\n",
              "      <td>9.920000</td>\n",
              "      <td>1.000000</td>\n",
              "      <td>0.970000</td>\n",
              "    </tr>\n",
              "  </tbody>\n",
              "</table>\n",
              "</div>"
            ],
            "text/plain": [
              "        GRE Score  TOEFL Score  ...    Research  Chance of Admit \n",
              "count  391.000000   391.000000  ...  391.000000        391.000000\n",
              "mean   317.324808   107.675192  ...    0.554987          0.729923\n",
              "std     11.070607     5.851966  ...    0.497604          0.139056\n",
              "min    295.000000    96.000000  ...    0.000000          0.340000\n",
              "25%    309.500000   103.500000  ...    0.000000          0.640000\n",
              "50%    317.000000   107.000000  ...    1.000000          0.730000\n",
              "75%    325.000000   112.000000  ...    1.000000          0.835000\n",
              "max    340.000000   120.000000  ...    1.000000          0.970000\n",
              "\n",
              "[8 rows x 8 columns]"
            ]
          },
          "metadata": {
            "tags": []
          },
          "execution_count": 15
        }
      ]
    },
    {
      "cell_type": "code",
      "metadata": {
        "id": "civUEIpfnK5o",
        "colab_type": "code",
        "colab": {
          "base_uri": "https://localhost:8080/",
          "height": 298
        },
        "outputId": "3e201620-c293-4e26-8136-5b2550e0b893"
      },
      "source": [
        "sns.distplot(data_2['TOEFL Score'])"
      ],
      "execution_count": 16,
      "outputs": [
        {
          "output_type": "execute_result",
          "data": {
            "text/plain": [
              "<matplotlib.axes._subplots.AxesSubplot at 0x7f7677efba20>"
            ]
          },
          "metadata": {
            "tags": []
          },
          "execution_count": 16
        },
        {
          "output_type": "display_data",
          "data": {
            "image/png": "[encoded data removed]",
            "text/plain": [
              "<Figure size 432x288 with 1 Axes>"
            ]
          },
          "metadata": {
            "tags": [],
            "needs_background": "light"
          }
        }
      ]
    },
    {
      "cell_type": "code",
      "metadata": {
        "id": "KcNIXGAmn-K2",
        "colab_type": "code",
        "colab": {
          "base_uri": "https://localhost:8080/",
          "height": 54
        },
        "outputId": "d6f0857e-fa07-417c-b014-867ba67f256c"
      },
      "source": [
        "data_2.columns.values"
      ],
      "execution_count": 17,
      "outputs": [
        {
          "output_type": "execute_result",
          "data": {
            "text/plain": [
              "array(['GRE Score', 'TOEFL Score', 'University Rating', 'SOP', 'LOR ',\n",
              "       'CGPA', 'Research', 'Chance of Admit '], dtype=object)"
            ]
          },
          "metadata": {
            "tags": []
          },
          "execution_count": 17
        }
      ]
    },
    {
      "cell_type": "code",
      "metadata": {
        "id": "XRRXyIzBochC",
        "colab_type": "code",
        "colab": {
          "base_uri": "https://localhost:8080/",
          "height": 298
        },
        "outputId": "621c6141-e9c8-441d-afd2-1f2b586ea88e"
      },
      "source": [
        "sns.distplot(data_2['University Rating'])\n"
      ],
      "execution_count": 18,
      "outputs": [
        {
          "output_type": "execute_result",
          "data": {
            "text/plain": [
              "<matplotlib.axes._subplots.AxesSubplot at 0x7f7677dc2390>"
            ]
          },
          "metadata": {
            "tags": []
          },
          "execution_count": 18
        },
        {
          "output_type": "display_data",
          "data": {
            "image/png": "[encoded data removed]",
            "text/plain": [
              "<Figure size 432x288 with 1 Axes>"
            ]
          },
          "metadata": {
            "tags": [],
            "needs_background": "light"
          }
        }
      ]
    },
    {
      "cell_type": "code",
      "metadata": {
        "id": "XKzXEwFLoc_1",
        "colab_type": "code",
        "colab": {
          "base_uri": "https://localhost:8080/",
          "height": 317
        },
        "outputId": "0252aa48-f03b-4a1f-87bc-7c7597788c1f"
      },
      "source": [
        "s = data_2['University Rating'].quantile(0.01)\n",
        "data_3 = data_2[data_2['University Rating']>s]\n",
        "data_3.describe(include = 'all')"
      ],
      "execution_count": 21,
      "outputs": [
        {
          "output_type": "execute_result",
          "data": {
            "text/html": [
              "<div>\n",
              "<style scoped>\n",
              "    .dataframe tbody tr th:only-of-type {\n",
              "        vertical-align: middle;\n",
              "    }\n",
              "\n",
              "    .dataframe tbody tr th {\n",
              "        vertical-align: top;\n",
              "    }\n",
              "\n",
              "    .dataframe thead th {\n",
              "        text-align: right;\n",
              "    }\n",
              "</style>\n",
              "<table border=\"1\" class=\"dataframe\">\n",
              "  <thead>\n",
              "    <tr style=\"text-align: right;\">\n",
              "      <th></th>\n",
              "      <th>GRE Score</th>\n",
              "      <th>TOEFL Score</th>\n",
              "      <th>University Rating</th>\n",
              "      <th>SOP</th>\n",
              "      <th>LOR</th>\n",
              "      <th>CGPA</th>\n",
              "      <th>Research</th>\n",
              "      <th>Chance of Admit</th>\n",
              "    </tr>\n",
              "  </thead>\n",
              "  <tbody>\n",
              "    <tr>\n",
              "      <th>count</th>\n",
              "      <td>371.000000</td>\n",
              "      <td>371.000000</td>\n",
              "      <td>371.000000</td>\n",
              "      <td>371.000000</td>\n",
              "      <td>371.000000</td>\n",
              "      <td>371.000000</td>\n",
              "      <td>371.000000</td>\n",
              "      <td>371.000000</td>\n",
              "    </tr>\n",
              "    <tr>\n",
              "      <th>mean</th>\n",
              "      <td>317.956873</td>\n",
              "      <td>108.064690</td>\n",
              "      <td>3.237197</td>\n",
              "      <td>3.514825</td>\n",
              "      <td>3.544474</td>\n",
              "      <td>8.666792</td>\n",
              "      <td>0.571429</td>\n",
              "      <td>0.738437</td>\n",
              "    </tr>\n",
              "    <tr>\n",
              "      <th>std</th>\n",
              "      <td>10.893007</td>\n",
              "      <td>5.715897</td>\n",
              "      <td>1.036009</td>\n",
              "      <td>0.933127</td>\n",
              "      <td>0.848713</td>\n",
              "      <td>0.552896</td>\n",
              "      <td>0.495540</td>\n",
              "      <td>0.136272</td>\n",
              "    </tr>\n",
              "    <tr>\n",
              "      <th>min</th>\n",
              "      <td>295.000000</td>\n",
              "      <td>96.000000</td>\n",
              "      <td>2.000000</td>\n",
              "      <td>1.000000</td>\n",
              "      <td>1.500000</td>\n",
              "      <td>7.280000</td>\n",
              "      <td>0.000000</td>\n",
              "      <td>0.340000</td>\n",
              "    </tr>\n",
              "    <tr>\n",
              "      <th>25%</th>\n",
              "      <td>310.000000</td>\n",
              "      <td>104.000000</td>\n",
              "      <td>2.000000</td>\n",
              "      <td>3.000000</td>\n",
              "      <td>3.000000</td>\n",
              "      <td>8.260000</td>\n",
              "      <td>0.000000</td>\n",
              "      <td>0.650000</td>\n",
              "    </tr>\n",
              "    <tr>\n",
              "      <th>50%</th>\n",
              "      <td>318.000000</td>\n",
              "      <td>108.000000</td>\n",
              "      <td>3.000000</td>\n",
              "      <td>3.500000</td>\n",
              "      <td>3.500000</td>\n",
              "      <td>8.660000</td>\n",
              "      <td>1.000000</td>\n",
              "      <td>0.740000</td>\n",
              "    </tr>\n",
              "    <tr>\n",
              "      <th>75%</th>\n",
              "      <td>326.000000</td>\n",
              "      <td>112.000000</td>\n",
              "      <td>4.000000</td>\n",
              "      <td>4.000000</td>\n",
              "      <td>4.000000</td>\n",
              "      <td>9.100000</td>\n",
              "      <td>1.000000</td>\n",
              "      <td>0.840000</td>\n",
              "    </tr>\n",
              "    <tr>\n",
              "      <th>max</th>\n",
              "      <td>340.000000</td>\n",
              "      <td>120.000000</td>\n",
              "      <td>5.000000</td>\n",
              "      <td>5.000000</td>\n",
              "      <td>5.000000</td>\n",
              "      <td>9.920000</td>\n",
              "      <td>1.000000</td>\n",
              "      <td>0.970000</td>\n",
              "    </tr>\n",
              "  </tbody>\n",
              "</table>\n",
              "</div>"
            ],
            "text/plain": [
              "        GRE Score  TOEFL Score  ...    Research  Chance of Admit \n",
              "count  371.000000   371.000000  ...  371.000000        371.000000\n",
              "mean   317.956873   108.064690  ...    0.571429          0.738437\n",
              "std     10.893007     5.715897  ...    0.495540          0.136272\n",
              "min    295.000000    96.000000  ...    0.000000          0.340000\n",
              "25%    310.000000   104.000000  ...    0.000000          0.650000\n",
              "50%    318.000000   108.000000  ...    1.000000          0.740000\n",
              "75%    326.000000   112.000000  ...    1.000000          0.840000\n",
              "max    340.000000   120.000000  ...    1.000000          0.970000\n",
              "\n",
              "[8 rows x 8 columns]"
            ]
          },
          "metadata": {
            "tags": []
          },
          "execution_count": 21
        }
      ]
    },
    {
      "cell_type": "code",
      "metadata": {
        "id": "6R0THErgodlu",
        "colab_type": "code",
        "colab": {
          "base_uri": "https://localhost:8080/",
          "height": 298
        },
        "outputId": "719a9571-6f47-4a54-a10d-6921c00e07b5"
      },
      "source": [
        "sns.distplot(data_3['University Rating'])"
      ],
      "execution_count": 22,
      "outputs": [
        {
          "output_type": "execute_result",
          "data": {
            "text/plain": [
              "<matplotlib.axes._subplots.AxesSubplot at 0x7f7677cefc18>"
            ]
          },
          "metadata": {
            "tags": []
          },
          "execution_count": 22
        },
        {
          "output_type": "display_data",
          "data": {
            "image/png": "[encoded data removed]",
            "text/plain": [
              "<Figure size 432x288 with 1 Axes>"
            ]
          },
          "metadata": {
            "tags": [],
            "needs_background": "light"
          }
        }
      ]
    },
    {
      "cell_type": "code",
      "metadata": {
        "id": "IjyWnqaKpEet",
        "colab_type": "code",
        "colab": {
          "base_uri": "https://localhost:8080/",
          "height": 298
        },
        "outputId": "1b259f57-5714-4af5-99a0-3b8ea53c62c1"
      },
      "source": [
        "sns.distplot(data_3['SOP'])"
      ],
      "execution_count": 23,
      "outputs": [
        {
          "output_type": "execute_result",
          "data": {
            "text/plain": [
              "<matplotlib.axes._subplots.AxesSubplot at 0x7f7677c36e48>"
            ]
          },
          "metadata": {
            "tags": []
          },
          "execution_count": 23
        },
        {
          "output_type": "display_data",
          "data": {
            "image/png": "[encoded data removed]",
            "text/plain": [
              "<Figure size 432x288 with 1 Axes>"
            ]
          },
          "metadata": {
            "tags": [],
            "needs_background": "light"
          }
        }
      ]
    },
    {
      "cell_type": "code",
      "metadata": {
        "id": "7sG-OlZvpE8m",
        "colab_type": "code",
        "colab": {
          "base_uri": "https://localhost:8080/",
          "height": 317
        },
        "outputId": "4fa18460-0cb5-4cd8-d6a8-57360b393542"
      },
      "source": [
        "s = data_3['SOP'].quantile(0.01)\n",
        "data_4 = data_3[data_3['SOP']>s]\n",
        "data_4.describe(include = 'all')"
      ],
      "execution_count": 24,
      "outputs": [
        {
          "output_type": "execute_result",
          "data": {
            "text/html": [
              "<div>\n",
              "<style scoped>\n",
              "    .dataframe tbody tr th:only-of-type {\n",
              "        vertical-align: middle;\n",
              "    }\n",
              "\n",
              "    .dataframe tbody tr th {\n",
              "        vertical-align: top;\n",
              "    }\n",
              "\n",
              "    .dataframe thead th {\n",
              "        text-align: right;\n",
              "    }\n",
              "</style>\n",
              "<table border=\"1\" class=\"dataframe\">\n",
              "  <thead>\n",
              "    <tr style=\"text-align: right;\">\n",
              "      <th></th>\n",
              "      <th>GRE Score</th>\n",
              "      <th>TOEFL Score</th>\n",
              "      <th>University Rating</th>\n",
              "      <th>SOP</th>\n",
              "      <th>LOR</th>\n",
              "      <th>CGPA</th>\n",
              "      <th>Research</th>\n",
              "      <th>Chance of Admit</th>\n",
              "    </tr>\n",
              "  </thead>\n",
              "  <tbody>\n",
              "    <tr>\n",
              "      <th>count</th>\n",
              "      <td>358.000000</td>\n",
              "      <td>358.000000</td>\n",
              "      <td>358.000000</td>\n",
              "      <td>358.000000</td>\n",
              "      <td>358.000000</td>\n",
              "      <td>358.000000</td>\n",
              "      <td>358.000000</td>\n",
              "      <td>358.000000</td>\n",
              "    </tr>\n",
              "    <tr>\n",
              "      <th>mean</th>\n",
              "      <td>318.486034</td>\n",
              "      <td>108.382682</td>\n",
              "      <td>3.270950</td>\n",
              "      <td>3.589385</td>\n",
              "      <td>3.589385</td>\n",
              "      <td>8.698268</td>\n",
              "      <td>0.583799</td>\n",
              "      <td>0.746061</td>\n",
              "    </tr>\n",
              "    <tr>\n",
              "      <th>std</th>\n",
              "      <td>10.651788</td>\n",
              "      <td>5.541939</td>\n",
              "      <td>1.029968</td>\n",
              "      <td>0.861794</td>\n",
              "      <td>0.825266</td>\n",
              "      <td>0.534292</td>\n",
              "      <td>0.493618</td>\n",
              "      <td>0.131900</td>\n",
              "    </tr>\n",
              "    <tr>\n",
              "      <th>min</th>\n",
              "      <td>295.000000</td>\n",
              "      <td>96.000000</td>\n",
              "      <td>2.000000</td>\n",
              "      <td>2.000000</td>\n",
              "      <td>1.500000</td>\n",
              "      <td>7.280000</td>\n",
              "      <td>0.000000</td>\n",
              "      <td>0.340000</td>\n",
              "    </tr>\n",
              "    <tr>\n",
              "      <th>25%</th>\n",
              "      <td>311.000000</td>\n",
              "      <td>104.000000</td>\n",
              "      <td>2.000000</td>\n",
              "      <td>3.000000</td>\n",
              "      <td>3.000000</td>\n",
              "      <td>8.300000</td>\n",
              "      <td>0.000000</td>\n",
              "      <td>0.660000</td>\n",
              "    </tr>\n",
              "    <tr>\n",
              "      <th>50%</th>\n",
              "      <td>319.000000</td>\n",
              "      <td>108.000000</td>\n",
              "      <td>3.000000</td>\n",
              "      <td>3.500000</td>\n",
              "      <td>3.500000</td>\n",
              "      <td>8.670000</td>\n",
              "      <td>1.000000</td>\n",
              "      <td>0.745000</td>\n",
              "    </tr>\n",
              "    <tr>\n",
              "      <th>75%</th>\n",
              "      <td>326.000000</td>\n",
              "      <td>112.000000</td>\n",
              "      <td>4.000000</td>\n",
              "      <td>4.375000</td>\n",
              "      <td>4.000000</td>\n",
              "      <td>9.107500</td>\n",
              "      <td>1.000000</td>\n",
              "      <td>0.840000</td>\n",
              "    </tr>\n",
              "    <tr>\n",
              "      <th>max</th>\n",
              "      <td>340.000000</td>\n",
              "      <td>120.000000</td>\n",
              "      <td>5.000000</td>\n",
              "      <td>5.000000</td>\n",
              "      <td>5.000000</td>\n",
              "      <td>9.920000</td>\n",
              "      <td>1.000000</td>\n",
              "      <td>0.970000</td>\n",
              "    </tr>\n",
              "  </tbody>\n",
              "</table>\n",
              "</div>"
            ],
            "text/plain": [
              "        GRE Score  TOEFL Score  ...    Research  Chance of Admit \n",
              "count  358.000000   358.000000  ...  358.000000        358.000000\n",
              "mean   318.486034   108.382682  ...    0.583799          0.746061\n",
              "std     10.651788     5.541939  ...    0.493618          0.131900\n",
              "min    295.000000    96.000000  ...    0.000000          0.340000\n",
              "25%    311.000000   104.000000  ...    0.000000          0.660000\n",
              "50%    319.000000   108.000000  ...    1.000000          0.745000\n",
              "75%    326.000000   112.000000  ...    1.000000          0.840000\n",
              "max    340.000000   120.000000  ...    1.000000          0.970000\n",
              "\n",
              "[8 rows x 8 columns]"
            ]
          },
          "metadata": {
            "tags": []
          },
          "execution_count": 24
        }
      ]
    },
    {
      "cell_type": "code",
      "metadata": {
        "id": "NyylvtWPpFGN",
        "colab_type": "code",
        "colab": {
          "base_uri": "https://localhost:8080/",
          "height": 298
        },
        "outputId": "b28ed5d2-af24-4ca6-b8a0-c91ff9ec9235"
      },
      "source": [
        "sns.distplot(data_4['SOP'])"
      ],
      "execution_count": 25,
      "outputs": [
        {
          "output_type": "execute_result",
          "data": {
            "text/plain": [
              "<matplotlib.axes._subplots.AxesSubplot at 0x7f7677c36b00>"
            ]
          },
          "metadata": {
            "tags": []
          },
          "execution_count": 25
        },
        {
          "output_type": "display_data",
          "data": {
            "image/png": "[encoded data removed]",
            "text/plain": [
              "<Figure size 432x288 with 1 Axes>"
            ]
          },
          "metadata": {
            "tags": [],
            "needs_background": "light"
          }
        }
      ]
    },
    {
      "cell_type": "code",
      "metadata": {
        "id": "FgIP21bzpFVD",
        "colab_type": "code",
        "colab": {
          "base_uri": "https://localhost:8080/",
          "height": 423
        },
        "outputId": "0d0ce544-a419-4b06-b7d3-28d3ce49856f"
      },
      "source": [
        "data_4"
      ],
      "execution_count": 26,
      "outputs": [
        {
          "output_type": "execute_result",
          "data": {
            "text/html": [
              "<div>\n",
              "<style scoped>\n",
              "    .dataframe tbody tr th:only-of-type {\n",
              "        vertical-align: middle;\n",
              "    }\n",
              "\n",
              "    .dataframe tbody tr th {\n",
              "        vertical-align: top;\n",
              "    }\n",
              "\n",
              "    .dataframe thead th {\n",
              "        text-align: right;\n",
              "    }\n",
              "</style>\n",
              "<table border=\"1\" class=\"dataframe\">\n",
              "  <thead>\n",
              "    <tr style=\"text-align: right;\">\n",
              "      <th></th>\n",
              "      <th>GRE Score</th>\n",
              "      <th>TOEFL Score</th>\n",
              "      <th>University Rating</th>\n",
              "      <th>SOP</th>\n",
              "      <th>LOR</th>\n",
              "      <th>CGPA</th>\n",
              "      <th>Research</th>\n",
              "      <th>Chance of Admit</th>\n",
              "    </tr>\n",
              "  </thead>\n",
              "  <tbody>\n",
              "    <tr>\n",
              "      <th>0</th>\n",
              "      <td>337</td>\n",
              "      <td>118</td>\n",
              "      <td>4</td>\n",
              "      <td>4.5</td>\n",
              "      <td>4.5</td>\n",
              "      <td>9.65</td>\n",
              "      <td>1</td>\n",
              "      <td>0.92</td>\n",
              "    </tr>\n",
              "    <tr>\n",
              "      <th>1</th>\n",
              "      <td>324</td>\n",
              "      <td>107</td>\n",
              "      <td>4</td>\n",
              "      <td>4.0</td>\n",
              "      <td>4.5</td>\n",
              "      <td>8.87</td>\n",
              "      <td>1</td>\n",
              "      <td>0.76</td>\n",
              "    </tr>\n",
              "    <tr>\n",
              "      <th>2</th>\n",
              "      <td>316</td>\n",
              "      <td>104</td>\n",
              "      <td>3</td>\n",
              "      <td>3.0</td>\n",
              "      <td>3.5</td>\n",
              "      <td>8.00</td>\n",
              "      <td>1</td>\n",
              "      <td>0.72</td>\n",
              "    </tr>\n",
              "    <tr>\n",
              "      <th>3</th>\n",
              "      <td>322</td>\n",
              "      <td>110</td>\n",
              "      <td>3</td>\n",
              "      <td>3.5</td>\n",
              "      <td>2.5</td>\n",
              "      <td>8.67</td>\n",
              "      <td>1</td>\n",
              "      <td>0.80</td>\n",
              "    </tr>\n",
              "    <tr>\n",
              "      <th>4</th>\n",
              "      <td>314</td>\n",
              "      <td>103</td>\n",
              "      <td>2</td>\n",
              "      <td>2.0</td>\n",
              "      <td>3.0</td>\n",
              "      <td>8.21</td>\n",
              "      <td>0</td>\n",
              "      <td>0.65</td>\n",
              "    </tr>\n",
              "    <tr>\n",
              "      <th>...</th>\n",
              "      <td>...</td>\n",
              "      <td>...</td>\n",
              "      <td>...</td>\n",
              "      <td>...</td>\n",
              "      <td>...</td>\n",
              "      <td>...</td>\n",
              "      <td>...</td>\n",
              "      <td>...</td>\n",
              "    </tr>\n",
              "    <tr>\n",
              "      <th>395</th>\n",
              "      <td>324</td>\n",
              "      <td>110</td>\n",
              "      <td>3</td>\n",
              "      <td>3.5</td>\n",
              "      <td>3.5</td>\n",
              "      <td>9.04</td>\n",
              "      <td>1</td>\n",
              "      <td>0.82</td>\n",
              "    </tr>\n",
              "    <tr>\n",
              "      <th>396</th>\n",
              "      <td>325</td>\n",
              "      <td>107</td>\n",
              "      <td>3</td>\n",
              "      <td>3.0</td>\n",
              "      <td>3.5</td>\n",
              "      <td>9.11</td>\n",
              "      <td>1</td>\n",
              "      <td>0.84</td>\n",
              "    </tr>\n",
              "    <tr>\n",
              "      <th>397</th>\n",
              "      <td>330</td>\n",
              "      <td>116</td>\n",
              "      <td>4</td>\n",
              "      <td>5.0</td>\n",
              "      <td>4.5</td>\n",
              "      <td>9.45</td>\n",
              "      <td>1</td>\n",
              "      <td>0.91</td>\n",
              "    </tr>\n",
              "    <tr>\n",
              "      <th>398</th>\n",
              "      <td>312</td>\n",
              "      <td>103</td>\n",
              "      <td>3</td>\n",
              "      <td>3.5</td>\n",
              "      <td>4.0</td>\n",
              "      <td>8.78</td>\n",
              "      <td>0</td>\n",
              "      <td>0.67</td>\n",
              "    </tr>\n",
              "    <tr>\n",
              "      <th>399</th>\n",
              "      <td>333</td>\n",
              "      <td>117</td>\n",
              "      <td>4</td>\n",
              "      <td>5.0</td>\n",
              "      <td>4.0</td>\n",
              "      <td>9.66</td>\n",
              "      <td>1</td>\n",
              "      <td>0.95</td>\n",
              "    </tr>\n",
              "  </tbody>\n",
              "</table>\n",
              "<p>358 rows × 8 columns</p>\n",
              "</div>"
            ],
            "text/plain": [
              "     GRE Score  TOEFL Score  ...  Research  Chance of Admit \n",
              "0          337          118  ...         1              0.92\n",
              "1          324          107  ...         1              0.76\n",
              "2          316          104  ...         1              0.72\n",
              "3          322          110  ...         1              0.80\n",
              "4          314          103  ...         0              0.65\n",
              "..         ...          ...  ...       ...               ...\n",
              "395        324          110  ...         1              0.82\n",
              "396        325          107  ...         1              0.84\n",
              "397        330          116  ...         1              0.91\n",
              "398        312          103  ...         0              0.67\n",
              "399        333          117  ...         1              0.95\n",
              "\n",
              "[358 rows x 8 columns]"
            ]
          },
          "metadata": {
            "tags": []
          },
          "execution_count": 26
        }
      ]
    },
    {
      "cell_type": "code",
      "metadata": {
        "id": "v-9XDwkLpFh7",
        "colab_type": "code",
        "colab": {
          "base_uri": "https://localhost:8080/",
          "height": 298
        },
        "outputId": "5946139c-af15-4eb2-a31d-00e1967ae325"
      },
      "source": [
        "sns.distplot(data_4['LOR '])"
      ],
      "execution_count": 27,
      "outputs": [
        {
          "output_type": "execute_result",
          "data": {
            "text/plain": [
              "<matplotlib.axes._subplots.AxesSubplot at 0x7f7677b37d68>"
            ]
          },
          "metadata": {
            "tags": []
          },
          "execution_count": 27
        },
        {
          "output_type": "display_data",
          "data": {
            "image/png": "[encoded data removed]",
            "text/plain": [
              "<Figure size 432x288 with 1 Axes>"
            ]
          },
          "metadata": {
            "tags": [],
            "needs_background": "light"
          }
        }
      ]
    },
    {
      "cell_type": "code",
      "metadata": {
        "id": "yHAEULtHpFut",
        "colab_type": "code",
        "colab": {
          "base_uri": "https://localhost:8080/",
          "height": 317
        },
        "outputId": "754dc455-279a-4ca5-8e21-91588981a185"
      },
      "source": [
        "s = data_4['LOR '].quantile(0.01)\n",
        "data_5 = data_4[data_4['LOR ']>s]\n",
        "data_5.describe(include = 'all')"
      ],
      "execution_count": 28,
      "outputs": [
        {
          "output_type": "execute_result",
          "data": {
            "text/html": [
              "<div>\n",
              "<style scoped>\n",
              "    .dataframe tbody tr th:only-of-type {\n",
              "        vertical-align: middle;\n",
              "    }\n",
              "\n",
              "    .dataframe tbody tr th {\n",
              "        vertical-align: top;\n",
              "    }\n",
              "\n",
              "    .dataframe thead th {\n",
              "        text-align: right;\n",
              "    }\n",
              "</style>\n",
              "<table border=\"1\" class=\"dataframe\">\n",
              "  <thead>\n",
              "    <tr style=\"text-align: right;\">\n",
              "      <th></th>\n",
              "      <th>GRE Score</th>\n",
              "      <th>TOEFL Score</th>\n",
              "      <th>University Rating</th>\n",
              "      <th>SOP</th>\n",
              "      <th>LOR</th>\n",
              "      <th>CGPA</th>\n",
              "      <th>Research</th>\n",
              "      <th>Chance of Admit</th>\n",
              "    </tr>\n",
              "  </thead>\n",
              "  <tbody>\n",
              "    <tr>\n",
              "      <th>count</th>\n",
              "      <td>337.000000</td>\n",
              "      <td>337.000000</td>\n",
              "      <td>337.000000</td>\n",
              "      <td>337.000000</td>\n",
              "      <td>337.000000</td>\n",
              "      <td>337.000000</td>\n",
              "      <td>337.000000</td>\n",
              "      <td>337.000000</td>\n",
              "    </tr>\n",
              "    <tr>\n",
              "      <th>mean</th>\n",
              "      <td>318.976261</td>\n",
              "      <td>108.629080</td>\n",
              "      <td>3.326409</td>\n",
              "      <td>3.646884</td>\n",
              "      <td>3.692878</td>\n",
              "      <td>8.730059</td>\n",
              "      <td>0.596439</td>\n",
              "      <td>0.753531</td>\n",
              "    </tr>\n",
              "    <tr>\n",
              "      <th>std</th>\n",
              "      <td>10.529693</td>\n",
              "      <td>5.485542</td>\n",
              "      <td>1.026574</td>\n",
              "      <td>0.847755</td>\n",
              "      <td>0.733880</td>\n",
              "      <td>0.526852</td>\n",
              "      <td>0.491341</td>\n",
              "      <td>0.128773</td>\n",
              "    </tr>\n",
              "    <tr>\n",
              "      <th>min</th>\n",
              "      <td>295.000000</td>\n",
              "      <td>97.000000</td>\n",
              "      <td>2.000000</td>\n",
              "      <td>2.000000</td>\n",
              "      <td>2.500000</td>\n",
              "      <td>7.280000</td>\n",
              "      <td>0.000000</td>\n",
              "      <td>0.340000</td>\n",
              "    </tr>\n",
              "    <tr>\n",
              "      <th>25%</th>\n",
              "      <td>312.000000</td>\n",
              "      <td>105.000000</td>\n",
              "      <td>3.000000</td>\n",
              "      <td>3.000000</td>\n",
              "      <td>3.000000</td>\n",
              "      <td>8.330000</td>\n",
              "      <td>0.000000</td>\n",
              "      <td>0.680000</td>\n",
              "    </tr>\n",
              "    <tr>\n",
              "      <th>50%</th>\n",
              "      <td>320.000000</td>\n",
              "      <td>109.000000</td>\n",
              "      <td>3.000000</td>\n",
              "      <td>3.500000</td>\n",
              "      <td>3.500000</td>\n",
              "      <td>8.690000</td>\n",
              "      <td>1.000000</td>\n",
              "      <td>0.750000</td>\n",
              "    </tr>\n",
              "    <tr>\n",
              "      <th>75%</th>\n",
              "      <td>326.000000</td>\n",
              "      <td>112.000000</td>\n",
              "      <td>4.000000</td>\n",
              "      <td>4.500000</td>\n",
              "      <td>4.000000</td>\n",
              "      <td>9.110000</td>\n",
              "      <td>1.000000</td>\n",
              "      <td>0.850000</td>\n",
              "    </tr>\n",
              "    <tr>\n",
              "      <th>max</th>\n",
              "      <td>340.000000</td>\n",
              "      <td>120.000000</td>\n",
              "      <td>5.000000</td>\n",
              "      <td>5.000000</td>\n",
              "      <td>5.000000</td>\n",
              "      <td>9.920000</td>\n",
              "      <td>1.000000</td>\n",
              "      <td>0.970000</td>\n",
              "    </tr>\n",
              "  </tbody>\n",
              "</table>\n",
              "</div>"
            ],
            "text/plain": [
              "        GRE Score  TOEFL Score  ...    Research  Chance of Admit \n",
              "count  337.000000   337.000000  ...  337.000000        337.000000\n",
              "mean   318.976261   108.629080  ...    0.596439          0.753531\n",
              "std     10.529693     5.485542  ...    0.491341          0.128773\n",
              "min    295.000000    97.000000  ...    0.000000          0.340000\n",
              "25%    312.000000   105.000000  ...    0.000000          0.680000\n",
              "50%    320.000000   109.000000  ...    1.000000          0.750000\n",
              "75%    326.000000   112.000000  ...    1.000000          0.850000\n",
              "max    340.000000   120.000000  ...    1.000000          0.970000\n",
              "\n",
              "[8 rows x 8 columns]"
            ]
          },
          "metadata": {
            "tags": []
          },
          "execution_count": 28
        }
      ]
    },
    {
      "cell_type": "code",
      "metadata": {
        "id": "Bd6E4DRmt_dw",
        "colab_type": "code",
        "colab": {
          "base_uri": "https://localhost:8080/",
          "height": 298
        },
        "outputId": "0b14ae17-d0af-4f9a-f70b-fc58e775c633"
      },
      "source": [
        "sns.distplot(data_5['LOR '])"
      ],
      "execution_count": 29,
      "outputs": [
        {
          "output_type": "execute_result",
          "data": {
            "text/plain": [
              "<matplotlib.axes._subplots.AxesSubplot at 0x7f7677c26748>"
            ]
          },
          "metadata": {
            "tags": []
          },
          "execution_count": 29
        },
        {
          "output_type": "display_data",
          "data": {
            "image/png": "[encoded data removed]",
            "text/plain": [
              "<Figure size 432x288 with 1 Axes>"
            ]
          },
          "metadata": {
            "tags": [],
            "needs_background": "light"
          }
        }
      ]
    },
    {
      "cell_type": "code",
      "metadata": {
        "id": "v1_xfIg5uC7w",
        "colab_type": "code",
        "colab": {
          "base_uri": "https://localhost:8080/",
          "height": 298
        },
        "outputId": "032efb52-8a5d-4dd1-fb58-6bf08ee25a16"
      },
      "source": [
        "sns.distplot(data_5['CGPA'])"
      ],
      "execution_count": 30,
      "outputs": [
        {
          "output_type": "execute_result",
          "data": {
            "text/plain": [
              "<matplotlib.axes._subplots.AxesSubplot at 0x7f7677dbae10>"
            ]
          },
          "metadata": {
            "tags": []
          },
          "execution_count": 30
        },
        {
          "output_type": "display_data",
          "data": {
            "image/png": "[encoded data removed]",
            "text/plain": [
              "<Figure size 432x288 with 1 Axes>"
            ]
          },
          "metadata": {
            "tags": [],
            "needs_background": "light"
          }
        }
      ]
    },
    {
      "cell_type": "code",
      "metadata": {
        "id": "GeeLoZwVuDRx",
        "colab_type": "code",
        "colab": {
          "base_uri": "https://localhost:8080/",
          "height": 317
        },
        "outputId": "e2d73763-8a3b-4799-e2cc-54dbae15845b"
      },
      "source": [
        "s = data_5['CGPA'].quantile(0.01)\n",
        "data_6 = data_5[data_5['CGPA']>s]\n",
        "data_6.describe(include  = 'all')"
      ],
      "execution_count": 31,
      "outputs": [
        {
          "output_type": "execute_result",
          "data": {
            "text/html": [
              "<div>\n",
              "<style scoped>\n",
              "    .dataframe tbody tr th:only-of-type {\n",
              "        vertical-align: middle;\n",
              "    }\n",
              "\n",
              "    .dataframe tbody tr th {\n",
              "        vertical-align: top;\n",
              "    }\n",
              "\n",
              "    .dataframe thead th {\n",
              "        text-align: right;\n",
              "    }\n",
              "</style>\n",
              "<table border=\"1\" class=\"dataframe\">\n",
              "  <thead>\n",
              "    <tr style=\"text-align: right;\">\n",
              "      <th></th>\n",
              "      <th>GRE Score</th>\n",
              "      <th>TOEFL Score</th>\n",
              "      <th>University Rating</th>\n",
              "      <th>SOP</th>\n",
              "      <th>LOR</th>\n",
              "      <th>CGPA</th>\n",
              "      <th>Research</th>\n",
              "      <th>Chance of Admit</th>\n",
              "    </tr>\n",
              "  </thead>\n",
              "  <tbody>\n",
              "    <tr>\n",
              "      <th>count</th>\n",
              "      <td>332.000000</td>\n",
              "      <td>332.000000</td>\n",
              "      <td>332.000000</td>\n",
              "      <td>332.000000</td>\n",
              "      <td>332.000000</td>\n",
              "      <td>332.000000</td>\n",
              "      <td>332.000000</td>\n",
              "      <td>332.000000</td>\n",
              "    </tr>\n",
              "    <tr>\n",
              "      <th>mean</th>\n",
              "      <td>319.174699</td>\n",
              "      <td>108.728916</td>\n",
              "      <td>3.343373</td>\n",
              "      <td>3.665663</td>\n",
              "      <td>3.703313</td>\n",
              "      <td>8.748193</td>\n",
              "      <td>0.605422</td>\n",
              "      <td>0.756898</td>\n",
              "    </tr>\n",
              "    <tr>\n",
              "      <th>std</th>\n",
              "      <td>10.424505</td>\n",
              "      <td>5.455561</td>\n",
              "      <td>1.023671</td>\n",
              "      <td>0.838803</td>\n",
              "      <td>0.733378</td>\n",
              "      <td>0.509084</td>\n",
              "      <td>0.489498</td>\n",
              "      <td>0.126284</td>\n",
              "    </tr>\n",
              "    <tr>\n",
              "      <th>min</th>\n",
              "      <td>296.000000</td>\n",
              "      <td>97.000000</td>\n",
              "      <td>2.000000</td>\n",
              "      <td>2.000000</td>\n",
              "      <td>2.500000</td>\n",
              "      <td>7.660000</td>\n",
              "      <td>0.000000</td>\n",
              "      <td>0.340000</td>\n",
              "    </tr>\n",
              "    <tr>\n",
              "      <th>25%</th>\n",
              "      <td>312.000000</td>\n",
              "      <td>105.000000</td>\n",
              "      <td>3.000000</td>\n",
              "      <td>3.000000</td>\n",
              "      <td>3.000000</td>\n",
              "      <td>8.340000</td>\n",
              "      <td>0.000000</td>\n",
              "      <td>0.680000</td>\n",
              "    </tr>\n",
              "    <tr>\n",
              "      <th>50%</th>\n",
              "      <td>320.000000</td>\n",
              "      <td>109.000000</td>\n",
              "      <td>3.000000</td>\n",
              "      <td>3.500000</td>\n",
              "      <td>3.500000</td>\n",
              "      <td>8.710000</td>\n",
              "      <td>1.000000</td>\n",
              "      <td>0.760000</td>\n",
              "    </tr>\n",
              "    <tr>\n",
              "      <th>75%</th>\n",
              "      <td>326.250000</td>\n",
              "      <td>112.000000</td>\n",
              "      <td>4.000000</td>\n",
              "      <td>4.500000</td>\n",
              "      <td>4.000000</td>\n",
              "      <td>9.120000</td>\n",
              "      <td>1.000000</td>\n",
              "      <td>0.852500</td>\n",
              "    </tr>\n",
              "    <tr>\n",
              "      <th>max</th>\n",
              "      <td>340.000000</td>\n",
              "      <td>120.000000</td>\n",
              "      <td>5.000000</td>\n",
              "      <td>5.000000</td>\n",
              "      <td>5.000000</td>\n",
              "      <td>9.920000</td>\n",
              "      <td>1.000000</td>\n",
              "      <td>0.970000</td>\n",
              "    </tr>\n",
              "  </tbody>\n",
              "</table>\n",
              "</div>"
            ],
            "text/plain": [
              "        GRE Score  TOEFL Score  ...    Research  Chance of Admit \n",
              "count  332.000000   332.000000  ...  332.000000        332.000000\n",
              "mean   319.174699   108.728916  ...    0.605422          0.756898\n",
              "std     10.424505     5.455561  ...    0.489498          0.126284\n",
              "min    296.000000    97.000000  ...    0.000000          0.340000\n",
              "25%    312.000000   105.000000  ...    0.000000          0.680000\n",
              "50%    320.000000   109.000000  ...    1.000000          0.760000\n",
              "75%    326.250000   112.000000  ...    1.000000          0.852500\n",
              "max    340.000000   120.000000  ...    1.000000          0.970000\n",
              "\n",
              "[8 rows x 8 columns]"
            ]
          },
          "metadata": {
            "tags": []
          },
          "execution_count": 31
        }
      ]
    },
    {
      "cell_type": "code",
      "metadata": {
        "id": "Je88UpifuDkF",
        "colab_type": "code",
        "colab": {
          "base_uri": "https://localhost:8080/",
          "height": 298
        },
        "outputId": "2f6bd3e1-b9d5-4cbb-b1f2-8ca114a9f381"
      },
      "source": [
        "sns.distplot(data_6['CGPA'])"
      ],
      "execution_count": 32,
      "outputs": [
        {
          "output_type": "execute_result",
          "data": {
            "text/plain": [
              "<matplotlib.axes._subplots.AxesSubplot at 0x7f767848c4a8>"
            ]
          },
          "metadata": {
            "tags": []
          },
          "execution_count": 32
        },
        {
          "output_type": "display_data",
          "data": {
            "image/png": "[encoded data removed]",
            "text/plain": [
              "<Figure size 432x288 with 1 Axes>"
            ]
          },
          "metadata": {
            "tags": [],
            "needs_background": "light"
          }
        }
      ]
    },
    {
      "cell_type": "code",
      "metadata": {
        "id": "qFKfDYmNugay",
        "colab_type": "code",
        "colab": {
          "base_uri": "https://localhost:8080/",
          "height": 301
        },
        "outputId": "636962bc-e2cd-4702-b8d0-1603bf6d3b58"
      },
      "source": [
        "sns.distplot(data_6['Chance of Admit '])"
      ],
      "execution_count": 33,
      "outputs": [
        {
          "output_type": "execute_result",
          "data": {
            "text/plain": [
              "<matplotlib.axes._subplots.AxesSubplot at 0x7f7677c89898>"
            ]
          },
          "metadata": {
            "tags": []
          },
          "execution_count": 33
        },
        {
          "output_type": "display_data",
          "data": {
            "image/png": "[encoded data removed]",
            "text/plain": [
              "<Figure size 432x288 with 1 Axes>"
            ]
          },
          "metadata": {
            "tags": [],
            "needs_background": "light"
          }
        }
      ]
    },
    {
      "cell_type": "code",
      "metadata": {
        "id": "jltF1K8Yur8M",
        "colab_type": "code",
        "colab": {
          "base_uri": "https://localhost:8080/",
          "height": 317
        },
        "outputId": "01eb44fa-71e0-466c-d141-b6a30518c073"
      },
      "source": [
        "s = data_6['Chance of Admit '].quantile(0.01)\n",
        "data_7 = data_6[data_6['Chance of Admit ']>s]\n",
        "data_7.describe(include = 'all')"
      ],
      "execution_count": 34,
      "outputs": [
        {
          "output_type": "execute_result",
          "data": {
            "text/html": [
              "<div>\n",
              "<style scoped>\n",
              "    .dataframe tbody tr th:only-of-type {\n",
              "        vertical-align: middle;\n",
              "    }\n",
              "\n",
              "    .dataframe tbody tr th {\n",
              "        vertical-align: top;\n",
              "    }\n",
              "\n",
              "    .dataframe thead th {\n",
              "        text-align: right;\n",
              "    }\n",
              "</style>\n",
              "<table border=\"1\" class=\"dataframe\">\n",
              "  <thead>\n",
              "    <tr style=\"text-align: right;\">\n",
              "      <th></th>\n",
              "      <th>GRE Score</th>\n",
              "      <th>TOEFL Score</th>\n",
              "      <th>University Rating</th>\n",
              "      <th>SOP</th>\n",
              "      <th>LOR</th>\n",
              "      <th>CGPA</th>\n",
              "      <th>Research</th>\n",
              "      <th>Chance of Admit</th>\n",
              "    </tr>\n",
              "  </thead>\n",
              "  <tbody>\n",
              "    <tr>\n",
              "      <th>count</th>\n",
              "      <td>328.000000</td>\n",
              "      <td>328.000000</td>\n",
              "      <td>328.000000</td>\n",
              "      <td>328.000000</td>\n",
              "      <td>328.000000</td>\n",
              "      <td>328.000000</td>\n",
              "      <td>328.000000</td>\n",
              "      <td>328.000000</td>\n",
              "    </tr>\n",
              "    <tr>\n",
              "      <th>mean</th>\n",
              "      <td>319.396341</td>\n",
              "      <td>108.850610</td>\n",
              "      <td>3.353659</td>\n",
              "      <td>3.670732</td>\n",
              "      <td>3.713415</td>\n",
              "      <td>8.760335</td>\n",
              "      <td>0.612805</td>\n",
              "      <td>0.761677</td>\n",
              "    </tr>\n",
              "    <tr>\n",
              "      <th>std</th>\n",
              "      <td>10.287381</td>\n",
              "      <td>5.372851</td>\n",
              "      <td>1.024136</td>\n",
              "      <td>0.830311</td>\n",
              "      <td>0.730634</td>\n",
              "      <td>0.499748</td>\n",
              "      <td>0.487853</td>\n",
              "      <td>0.119322</td>\n",
              "    </tr>\n",
              "    <tr>\n",
              "      <th>min</th>\n",
              "      <td>296.000000</td>\n",
              "      <td>97.000000</td>\n",
              "      <td>2.000000</td>\n",
              "      <td>2.000000</td>\n",
              "      <td>2.500000</td>\n",
              "      <td>7.670000</td>\n",
              "      <td>0.000000</td>\n",
              "      <td>0.440000</td>\n",
              "    </tr>\n",
              "    <tr>\n",
              "      <th>25%</th>\n",
              "      <td>312.000000</td>\n",
              "      <td>105.000000</td>\n",
              "      <td>3.000000</td>\n",
              "      <td>3.000000</td>\n",
              "      <td>3.000000</td>\n",
              "      <td>8.367500</td>\n",
              "      <td>0.000000</td>\n",
              "      <td>0.680000</td>\n",
              "    </tr>\n",
              "    <tr>\n",
              "      <th>50%</th>\n",
              "      <td>320.000000</td>\n",
              "      <td>109.000000</td>\n",
              "      <td>3.000000</td>\n",
              "      <td>3.500000</td>\n",
              "      <td>3.500000</td>\n",
              "      <td>8.730000</td>\n",
              "      <td>1.000000</td>\n",
              "      <td>0.760000</td>\n",
              "    </tr>\n",
              "    <tr>\n",
              "      <th>75%</th>\n",
              "      <td>327.000000</td>\n",
              "      <td>112.000000</td>\n",
              "      <td>4.000000</td>\n",
              "      <td>4.500000</td>\n",
              "      <td>4.000000</td>\n",
              "      <td>9.122500</td>\n",
              "      <td>1.000000</td>\n",
              "      <td>0.860000</td>\n",
              "    </tr>\n",
              "    <tr>\n",
              "      <th>max</th>\n",
              "      <td>340.000000</td>\n",
              "      <td>120.000000</td>\n",
              "      <td>5.000000</td>\n",
              "      <td>5.000000</td>\n",
              "      <td>5.000000</td>\n",
              "      <td>9.920000</td>\n",
              "      <td>1.000000</td>\n",
              "      <td>0.970000</td>\n",
              "    </tr>\n",
              "  </tbody>\n",
              "</table>\n",
              "</div>"
            ],
            "text/plain": [
              "        GRE Score  TOEFL Score  ...    Research  Chance of Admit \n",
              "count  328.000000   328.000000  ...  328.000000        328.000000\n",
              "mean   319.396341   108.850610  ...    0.612805          0.761677\n",
              "std     10.287381     5.372851  ...    0.487853          0.119322\n",
              "min    296.000000    97.000000  ...    0.000000          0.440000\n",
              "25%    312.000000   105.000000  ...    0.000000          0.680000\n",
              "50%    320.000000   109.000000  ...    1.000000          0.760000\n",
              "75%    327.000000   112.000000  ...    1.000000          0.860000\n",
              "max    340.000000   120.000000  ...    1.000000          0.970000\n",
              "\n",
              "[8 rows x 8 columns]"
            ]
          },
          "metadata": {
            "tags": []
          },
          "execution_count": 34
        }
      ]
    },
    {
      "cell_type": "code",
      "metadata": {
        "id": "atfxHx6ousN0",
        "colab_type": "code",
        "colab": {
          "base_uri": "https://localhost:8080/",
          "height": 298
        },
        "outputId": "68366c97-596e-41df-8134-a8546630d2e4"
      },
      "source": [
        "sns.distplot(data_7['Chance of Admit '])"
      ],
      "execution_count": 35,
      "outputs": [
        {
          "output_type": "execute_result",
          "data": {
            "text/plain": [
              "<matplotlib.axes._subplots.AxesSubplot at 0x7f76778b5ef0>"
            ]
          },
          "metadata": {
            "tags": []
          },
          "execution_count": 35
        },
        {
          "output_type": "display_data",
          "data": {
            "image/png": "[encoded data removed]",
            "text/plain": [
              "<Figure size 432x288 with 1 Axes>"
            ]
          },
          "metadata": {
            "tags": [],
            "needs_background": "light"
          }
        }
      ]
    },
    {
      "cell_type": "code",
      "metadata": {
        "id": "0DceZFM-u_Bq",
        "colab_type": "code",
        "colab": {}
      },
      "source": [
        "data_clean = data_7.reset_index(drop = True)"
      ],
      "execution_count": 36,
      "outputs": []
    },
    {
      "cell_type": "code",
      "metadata": {
        "id": "qKaqVNNRvSVH",
        "colab_type": "code",
        "colab": {
          "base_uri": "https://localhost:8080/",
          "height": 317
        },
        "outputId": "dfb05e1d-c250-4b4c-8340-b46ee52f68e3"
      },
      "source": [
        "data_clean.describe()"
      ],
      "execution_count": 37,
      "outputs": [
        {
          "output_type": "execute_result",
          "data": {
            "text/html": [
              "<div>\n",
              "<style scoped>\n",
              "    .dataframe tbody tr th:only-of-type {\n",
              "        vertical-align: middle;\n",
              "    }\n",
              "\n",
              "    .dataframe tbody tr th {\n",
              "        vertical-align: top;\n",
              "    }\n",
              "\n",
              "    .dataframe thead th {\n",
              "        text-align: right;\n",
              "    }\n",
              "</style>\n",
              "<table border=\"1\" class=\"dataframe\">\n",
              "  <thead>\n",
              "    <tr style=\"text-align: right;\">\n",
              "      <th></th>\n",
              "      <th>GRE Score</th>\n",
              "      <th>TOEFL Score</th>\n",
              "      <th>University Rating</th>\n",
              "      <th>SOP</th>\n",
              "      <th>LOR</th>\n",
              "      <th>CGPA</th>\n",
              "      <th>Research</th>\n",
              "      <th>Chance of Admit</th>\n",
              "    </tr>\n",
              "  </thead>\n",
              "  <tbody>\n",
              "    <tr>\n",
              "      <th>count</th>\n",
              "      <td>328.000000</td>\n",
              "      <td>328.000000</td>\n",
              "      <td>328.000000</td>\n",
              "      <td>328.000000</td>\n",
              "      <td>328.000000</td>\n",
              "      <td>328.000000</td>\n",
              "      <td>328.000000</td>\n",
              "      <td>328.000000</td>\n",
              "    </tr>\n",
              "    <tr>\n",
              "      <th>mean</th>\n",
              "      <td>319.396341</td>\n",
              "      <td>108.850610</td>\n",
              "      <td>3.353659</td>\n",
              "      <td>3.670732</td>\n",
              "      <td>3.713415</td>\n",
              "      <td>8.760335</td>\n",
              "      <td>0.612805</td>\n",
              "      <td>0.761677</td>\n",
              "    </tr>\n",
              "    <tr>\n",
              "      <th>std</th>\n",
              "      <td>10.287381</td>\n",
              "      <td>5.372851</td>\n",
              "      <td>1.024136</td>\n",
              "      <td>0.830311</td>\n",
              "      <td>0.730634</td>\n",
              "      <td>0.499748</td>\n",
              "      <td>0.487853</td>\n",
              "      <td>0.119322</td>\n",
              "    </tr>\n",
              "    <tr>\n",
              "      <th>min</th>\n",
              "      <td>296.000000</td>\n",
              "      <td>97.000000</td>\n",
              "      <td>2.000000</td>\n",
              "      <td>2.000000</td>\n",
              "      <td>2.500000</td>\n",
              "      <td>7.670000</td>\n",
              "      <td>0.000000</td>\n",
              "      <td>0.440000</td>\n",
              "    </tr>\n",
              "    <tr>\n",
              "      <th>25%</th>\n",
              "      <td>312.000000</td>\n",
              "      <td>105.000000</td>\n",
              "      <td>3.000000</td>\n",
              "      <td>3.000000</td>\n",
              "      <td>3.000000</td>\n",
              "      <td>8.367500</td>\n",
              "      <td>0.000000</td>\n",
              "      <td>0.680000</td>\n",
              "    </tr>\n",
              "    <tr>\n",
              "      <th>50%</th>\n",
              "      <td>320.000000</td>\n",
              "      <td>109.000000</td>\n",
              "      <td>3.000000</td>\n",
              "      <td>3.500000</td>\n",
              "      <td>3.500000</td>\n",
              "      <td>8.730000</td>\n",
              "      <td>1.000000</td>\n",
              "      <td>0.760000</td>\n",
              "    </tr>\n",
              "    <tr>\n",
              "      <th>75%</th>\n",
              "      <td>327.000000</td>\n",
              "      <td>112.000000</td>\n",
              "      <td>4.000000</td>\n",
              "      <td>4.500000</td>\n",
              "      <td>4.000000</td>\n",
              "      <td>9.122500</td>\n",
              "      <td>1.000000</td>\n",
              "      <td>0.860000</td>\n",
              "    </tr>\n",
              "    <tr>\n",
              "      <th>max</th>\n",
              "      <td>340.000000</td>\n",
              "      <td>120.000000</td>\n",
              "      <td>5.000000</td>\n",
              "      <td>5.000000</td>\n",
              "      <td>5.000000</td>\n",
              "      <td>9.920000</td>\n",
              "      <td>1.000000</td>\n",
              "      <td>0.970000</td>\n",
              "    </tr>\n",
              "  </tbody>\n",
              "</table>\n",
              "</div>"
            ],
            "text/plain": [
              "        GRE Score  TOEFL Score  ...    Research  Chance of Admit \n",
              "count  328.000000   328.000000  ...  328.000000        328.000000\n",
              "mean   319.396341   108.850610  ...    0.612805          0.761677\n",
              "std     10.287381     5.372851  ...    0.487853          0.119322\n",
              "min    296.000000    97.000000  ...    0.000000          0.440000\n",
              "25%    312.000000   105.000000  ...    0.000000          0.680000\n",
              "50%    320.000000   109.000000  ...    1.000000          0.760000\n",
              "75%    327.000000   112.000000  ...    1.000000          0.860000\n",
              "max    340.000000   120.000000  ...    1.000000          0.970000\n",
              "\n",
              "[8 rows x 8 columns]"
            ]
          },
          "metadata": {
            "tags": []
          },
          "execution_count": 37
        }
      ]
    },
    {
      "cell_type": "code",
      "metadata": {
        "id": "CpX9CNOTvY3H",
        "colab_type": "code",
        "colab": {}
      },
      "source": [
        "#CHECK OLS ASSUMPTIONS:-\n",
        "#Ordinary least squares (OLS) regression is a statistical method\n",
        "#of analysis that estimates the relationship between one or more \n",
        "#independent variables and a dependent variable"
      ],
      "execution_count": 38,
      "outputs": []
    },
    {
      "cell_type": "code",
      "metadata": {
        "id": "Thkkm9WFv7ef",
        "colab_type": "code",
        "colab": {
          "base_uri": "https://localhost:8080/",
          "height": 281
        },
        "outputId": "fff5611d-5b38-4f3c-e0aa-a480a07c627f"
      },
      "source": [
        "#f,ax(1,2,3)\n",
        "f, (ax1,ax2,ax3) = plt.subplots(1,3, sharey=True, figsize=(10,4))\n",
        "ax1.scatter(data_clean['GRE Score'], data_clean['Chance of Admit '])\n",
        "ax1.set_title('Chance of Admit and GRE Score')\n",
        "\n",
        "ax2.scatter(data_clean['TOEFL Score'], data_clean['Chance of Admit '])\n",
        "ax2.set_title('Chance of Admit and TOEFL Score')\n",
        "\n",
        "ax3.scatter(data_clean['CGPA'],data_clean['Chance of Admit '])\n",
        "ax3.set_title('Chance of Admit and CGPA')\n",
        "\n",
        "plt.show()"
      ],
      "execution_count": 39,
      "outputs": [
        {
          "output_type": "display_data",
          "data": {
            "image/png": "[encoded data removed]",
            "text/plain": [
              "<Figure size 720x288 with 3 Axes>"
            ]
          },
          "metadata": {
            "tags": [],
            "needs_background": "light"
          }
        }
      ]
    },
    {
      "cell_type": "code",
      "metadata": {
        "id": "nLe3jmnZwFTW",
        "colab_type": "code",
        "colab": {
          "base_uri": "https://localhost:8080/",
          "height": 281
        },
        "outputId": "f1bf3461-adc8-4758-f726-d42cf6217ad5"
      },
      "source": [
        "f, (ax1,ax2,ax3) = plt.subplots(1,3, sharey=True, figsize=(10,4))\n",
        "ax1.scatter(data_clean['University Rating'], data_clean['Chance of Admit '])\n",
        "ax1.set_title('Chance of Admit and University Rating')\n",
        "\n",
        "ax2.scatter(data_clean['SOP'], data_clean['Chance of Admit '])\n",
        "ax2.set_title('Chance of Admit and SOP')\n",
        "\n",
        "ax3.scatter(data_clean['LOR '],data_clean['Chance of Admit '])\n",
        "ax3.set_title('Chance of Admit and Research')\n",
        "\n",
        "plt.show()\n"
      ],
      "execution_count": 40,
      "outputs": [
        {
          "output_type": "display_data",
          "data": {
            "image/png": "[encoded data removed]",
            "text/plain": [
              "<Figure size 720x288 with 3 Axes>"
            ]
          },
          "metadata": {
            "tags": [],
            "needs_background": "light"
          }
        }
      ]
    },
    {
      "cell_type": "code",
      "metadata": {
        "id": "WhWvtiN-wFry",
        "colab_type": "code",
        "colab": {}
      },
      "source": [
        "data_clean = data_clean.reset_index(drop = True)"
      ],
      "execution_count": 42,
      "outputs": []
    },
    {
      "cell_type": "code",
      "metadata": {
        "id": "jJ2DTLiCwF6K",
        "colab_type": "code",
        "colab": {
          "base_uri": "https://localhost:8080/",
          "height": 317
        },
        "outputId": "69634d1f-5366-4c13-a99d-d011a9d220f2"
      },
      "source": [
        "data_clean.describe(include = 'all')"
      ],
      "execution_count": 43,
      "outputs": [
        {
          "output_type": "execute_result",
          "data": {
            "text/html": [
              "<div>\n",
              "<style scoped>\n",
              "    .dataframe tbody tr th:only-of-type {\n",
              "        vertical-align: middle;\n",
              "    }\n",
              "\n",
              "    .dataframe tbody tr th {\n",
              "        vertical-align: top;\n",
              "    }\n",
              "\n",
              "    .dataframe thead th {\n",
              "        text-align: right;\n",
              "    }\n",
              "</style>\n",
              "<table border=\"1\" class=\"dataframe\">\n",
              "  <thead>\n",
              "    <tr style=\"text-align: right;\">\n",
              "      <th></th>\n",
              "      <th>GRE Score</th>\n",
              "      <th>TOEFL Score</th>\n",
              "      <th>University Rating</th>\n",
              "      <th>SOP</th>\n",
              "      <th>LOR</th>\n",
              "      <th>CGPA</th>\n",
              "      <th>Research</th>\n",
              "      <th>Chance of Admit</th>\n",
              "    </tr>\n",
              "  </thead>\n",
              "  <tbody>\n",
              "    <tr>\n",
              "      <th>count</th>\n",
              "      <td>328.000000</td>\n",
              "      <td>328.000000</td>\n",
              "      <td>328.000000</td>\n",
              "      <td>328.000000</td>\n",
              "      <td>328.000000</td>\n",
              "      <td>328.000000</td>\n",
              "      <td>328.000000</td>\n",
              "      <td>328.000000</td>\n",
              "    </tr>\n",
              "    <tr>\n",
              "      <th>mean</th>\n",
              "      <td>319.396341</td>\n",
              "      <td>108.850610</td>\n",
              "      <td>3.353659</td>\n",
              "      <td>3.670732</td>\n",
              "      <td>3.713415</td>\n",
              "      <td>8.760335</td>\n",
              "      <td>0.612805</td>\n",
              "      <td>0.761677</td>\n",
              "    </tr>\n",
              "    <tr>\n",
              "      <th>std</th>\n",
              "      <td>10.287381</td>\n",
              "      <td>5.372851</td>\n",
              "      <td>1.024136</td>\n",
              "      <td>0.830311</td>\n",
              "      <td>0.730634</td>\n",
              "      <td>0.499748</td>\n",
              "      <td>0.487853</td>\n",
              "      <td>0.119322</td>\n",
              "    </tr>\n",
              "    <tr>\n",
              "      <th>min</th>\n",
              "      <td>296.000000</td>\n",
              "      <td>97.000000</td>\n",
              "      <td>2.000000</td>\n",
              "      <td>2.000000</td>\n",
              "      <td>2.500000</td>\n",
              "      <td>7.670000</td>\n",
              "      <td>0.000000</td>\n",
              "      <td>0.440000</td>\n",
              "    </tr>\n",
              "    <tr>\n",
              "      <th>25%</th>\n",
              "      <td>312.000000</td>\n",
              "      <td>105.000000</td>\n",
              "      <td>3.000000</td>\n",
              "      <td>3.000000</td>\n",
              "      <td>3.000000</td>\n",
              "      <td>8.367500</td>\n",
              "      <td>0.000000</td>\n",
              "      <td>0.680000</td>\n",
              "    </tr>\n",
              "    <tr>\n",
              "      <th>50%</th>\n",
              "      <td>320.000000</td>\n",
              "      <td>109.000000</td>\n",
              "      <td>3.000000</td>\n",
              "      <td>3.500000</td>\n",
              "      <td>3.500000</td>\n",
              "      <td>8.730000</td>\n",
              "      <td>1.000000</td>\n",
              "      <td>0.760000</td>\n",
              "    </tr>\n",
              "    <tr>\n",
              "      <th>75%</th>\n",
              "      <td>327.000000</td>\n",
              "      <td>112.000000</td>\n",
              "      <td>4.000000</td>\n",
              "      <td>4.500000</td>\n",
              "      <td>4.000000</td>\n",
              "      <td>9.122500</td>\n",
              "      <td>1.000000</td>\n",
              "      <td>0.860000</td>\n",
              "    </tr>\n",
              "    <tr>\n",
              "      <th>max</th>\n",
              "      <td>340.000000</td>\n",
              "      <td>120.000000</td>\n",
              "      <td>5.000000</td>\n",
              "      <td>5.000000</td>\n",
              "      <td>5.000000</td>\n",
              "      <td>9.920000</td>\n",
              "      <td>1.000000</td>\n",
              "      <td>0.970000</td>\n",
              "    </tr>\n",
              "  </tbody>\n",
              "</table>\n",
              "</div>"
            ],
            "text/plain": [
              "        GRE Score  TOEFL Score  ...    Research  Chance of Admit \n",
              "count  328.000000   328.000000  ...  328.000000        328.000000\n",
              "mean   319.396341   108.850610  ...    0.612805          0.761677\n",
              "std     10.287381     5.372851  ...    0.487853          0.119322\n",
              "min    296.000000    97.000000  ...    0.000000          0.440000\n",
              "25%    312.000000   105.000000  ...    0.000000          0.680000\n",
              "50%    320.000000   109.000000  ...    1.000000          0.760000\n",
              "75%    327.000000   112.000000  ...    1.000000          0.860000\n",
              "max    340.000000   120.000000  ...    1.000000          0.970000\n",
              "\n",
              "[8 rows x 8 columns]"
            ]
          },
          "metadata": {
            "tags": []
          },
          "execution_count": 43
        }
      ]
    },
    {
      "cell_type": "code",
      "metadata": {
        "id": "ZiCN2Ht4w9xQ",
        "colab_type": "code",
        "colab": {}
      },
      "source": [
        "#LINEAR REGRESSION :-"
      ],
      "execution_count": 44,
      "outputs": []
    },
    {
      "cell_type": "code",
      "metadata": {
        "id": "b4ZPV8wMxBOX",
        "colab_type": "code",
        "colab": {}
      },
      "source": [
        "#DECLARE:-(Inputs and Targets)\n",
        "targets = data_clean['Chance of Admit ']\n",
        "inputs = data_clean.drop(['Chance of Admit '], axis = 1)"
      ],
      "execution_count": 45,
      "outputs": []
    },
    {
      "cell_type": "code",
      "metadata": {
        "id": "euGtQCocxLwk",
        "colab_type": "code",
        "colab": {}
      },
      "source": [
        "scaler = StandardScaler()"
      ],
      "execution_count": 46,
      "outputs": []
    },
    {
      "cell_type": "code",
      "metadata": {
        "id": "05h9HJXNxMBj",
        "colab_type": "code",
        "colab": {
          "base_uri": "https://localhost:8080/",
          "height": 36
        },
        "outputId": "b9a8a8bc-e44d-46e3-9a63-46cbe10ac90f"
      },
      "source": [
        "scaler.fit(inputs)"
      ],
      "execution_count": 47,
      "outputs": [
        {
          "output_type": "execute_result",
          "data": {
            "text/plain": [
              "StandardScaler(copy=True, with_mean=True, with_std=True)"
            ]
          },
          "metadata": {
            "tags": []
          },
          "execution_count": 47
        }
      ]
    },
    {
      "cell_type": "code",
      "metadata": {
        "id": "XI3kXCBgxMPY",
        "colab_type": "code",
        "colab": {}
      },
      "source": [
        "inputs_scaled = scaler.transform(inputs)"
      ],
      "execution_count": 48,
      "outputs": []
    },
    {
      "cell_type": "code",
      "metadata": {
        "id": "JlEpxuK7xMZQ",
        "colab_type": "code",
        "colab": {}
      },
      "source": [
        "x_train,x_test,y_train,y_test = train_test_split(inputs_scaled, targets, test_size = 0.2, random_state = 10)"
      ],
      "execution_count": 49,
      "outputs": []
    },
    {
      "cell_type": "code",
      "metadata": {
        "id": "jTSbWM9ozEZU",
        "colab_type": "code",
        "colab": {}
      },
      "source": [
        "lr= LinearRegression()"
      ],
      "execution_count": 55,
      "outputs": []
    },
    {
      "cell_type": "code",
      "metadata": {
        "id": "w16dkq6azMlj",
        "colab_type": "code",
        "colab": {
          "base_uri": "https://localhost:8080/",
          "height": 36
        },
        "outputId": "a9e8ebcf-757e-4d32-8f84-77e003b9f4e3"
      },
      "source": [
        "lr.fit(x_train,y_train)"
      ],
      "execution_count": 57,
      "outputs": [
        {
          "output_type": "execute_result",
          "data": {
            "text/plain": [
              "LinearRegression(copy_X=True, fit_intercept=True, n_jobs=None, normalize=False)"
            ]
          },
          "metadata": {
            "tags": []
          },
          "execution_count": 57
        }
      ]
    },
    {
      "cell_type": "code",
      "metadata": {
        "id": "Z40mY0pgzM29",
        "colab_type": "code",
        "colab": {
          "base_uri": "https://localhost:8080/",
          "height": 36
        },
        "outputId": "3b536bf4-16c1-47cc-fbe1-8383ea5504e4"
      },
      "source": [
        "print('ACCURACY IS:',lr.score(x_test,y_test))"
      ],
      "execution_count": 58,
      "outputs": [
        {
          "output_type": "stream",
          "text": [
            "ACCURACY IS: 0.8168327034981828\n"
          ],
          "name": "stdout"
        }
      ]
    },
    {
      "cell_type": "code",
      "metadata": {
        "id": "5faHUNq7xMgM",
        "colab_type": "code",
        "colab": {}
      },
      "source": [
        "#CREATING THE REGRESSION:"
      ],
      "execution_count": 59,
      "outputs": []
    },
    {
      "cell_type": "code",
      "metadata": {
        "id": "846MfNgZxMnx",
        "colab_type": "code",
        "colab": {
          "base_uri": "https://localhost:8080/",
          "height": 36
        },
        "outputId": "7935c4b9-4b31-480f-dfa5-defc9beac84f"
      },
      "source": [
        "reg = LinearRegression()\n",
        "reg.fit(x_train,y_train)"
      ],
      "execution_count": 60,
      "outputs": [
        {
          "output_type": "execute_result",
          "data": {
            "text/plain": [
              "LinearRegression(copy_X=True, fit_intercept=True, n_jobs=None, normalize=False)"
            ]
          },
          "metadata": {
            "tags": []
          },
          "execution_count": 60
        }
      ]
    },
    {
      "cell_type": "code",
      "metadata": {
        "id": "Kn70gT0myZPh",
        "colab_type": "code",
        "colab": {}
      },
      "source": [
        "y_pre = reg.predict(x_train)"
      ],
      "execution_count": 61,
      "outputs": []
    },
    {
      "cell_type": "code",
      "metadata": {
        "id": "9AEo-BTQyi7v",
        "colab_type": "code",
        "colab": {
          "base_uri": "https://localhost:8080/",
          "height": 280
        },
        "outputId": "a2ae2e62-04b1-4556-bee6-56d9fc4f23a2"
      },
      "source": [
        "plt.scatter(y_train, y_pre)\n",
        "plt.xlabel('Targets(y_train)', size = 10)\n",
        "plt.ylabel('Predictions(y_pre)', size = 10)\n",
        "plt.show()"
      ],
      "execution_count": 62,
      "outputs": [
        {
          "output_type": "display_data",
          "data": {
            "image/png": "[encoded data removed]",
            "text/plain": [
              "<Figure size 432x288 with 1 Axes>"
            ]
          },
          "metadata": {
            "tags": [],
            "needs_background": "light"
          }
        }
      ]
    },
    {
      "cell_type": "code",
      "metadata": {
        "id": "imDF4dtjzk9r",
        "colab_type": "code",
        "colab": {
          "base_uri": "https://localhost:8080/",
          "height": 318
        },
        "outputId": "cd54a33a-fb49-4645-f943-bc573262f7ff"
      },
      "source": [
        "# Residuals plot:-\n",
        "sns.distplot(y_train - y_pre)\n",
        "plt.title('Residual PDFs', size =18)"
      ],
      "execution_count": 64,
      "outputs": [
        {
          "output_type": "execute_result",
          "data": {
            "text/plain": [
              "Text(0.5, 1.0, 'Residual PDFs')"
            ]
          },
          "metadata": {
            "tags": []
          },
          "execution_count": 64
        },
        {
          "output_type": "display_data",
          "data": {
            "image/png": "[encoded data removed]",
            "text/plain": [
              "<Figure size 432x288 with 1 Axes>"
            ]
          },
          "metadata": {
            "tags": [],
            "needs_background": "light"
          }
        }
      ]
    },
    {
      "cell_type": "code",
      "metadata": {
        "id": "E_7xFofbz6aZ",
        "colab_type": "code",
        "colab": {
          "base_uri": "https://localhost:8080/",
          "height": 36
        },
        "outputId": "8c677047-4f7d-4ab2-f535-7e698d9398c7"
      },
      "source": [
        "reg.score(x_train,y_train)\n"
      ],
      "execution_count": 65,
      "outputs": [
        {
          "output_type": "execute_result",
          "data": {
            "text/plain": [
              "0.7502385318894743"
            ]
          },
          "metadata": {
            "tags": []
          },
          "execution_count": 65
        }
      ]
    },
    {
      "cell_type": "code",
      "metadata": {
        "id": "dMAzdbgp0MA9",
        "colab_type": "code",
        "colab": {
          "base_uri": "https://localhost:8080/",
          "height": 36
        },
        "outputId": "4566f315-c887-453c-9a14-4674e5f96686"
      },
      "source": [
        "reg.intercept_"
      ],
      "execution_count": 66,
      "outputs": [
        {
          "output_type": "execute_result",
          "data": {
            "text/plain": [
              "0.7604763042030749"
            ]
          },
          "metadata": {
            "tags": []
          },
          "execution_count": 66
        }
      ]
    },
    {
      "cell_type": "code",
      "metadata": {
        "id": "KnWbdTBt0Nd-",
        "colab_type": "code",
        "colab": {
          "base_uri": "https://localhost:8080/",
          "height": 54
        },
        "outputId": "c5cd5b3a-1865-4764-d0e4-32850ad759e9"
      },
      "source": [
        "reg.coef_"
      ],
      "execution_count": 67,
      "outputs": [
        {
          "output_type": "execute_result",
          "data": {
            "text/plain": [
              "array([ 0.01467904,  0.01300417,  0.01057954, -0.00300266,  0.01535322,\n",
              "        0.05771833,  0.01300283])"
            ]
          },
          "metadata": {
            "tags": []
          },
          "execution_count": 67
        }
      ]
    },
    {
      "cell_type": "code",
      "metadata": {
        "id": "kebeu1Un0NvJ",
        "colab_type": "code",
        "colab": {
          "base_uri": "https://localhost:8080/",
          "height": 269
        },
        "outputId": "1f833ea8-ad1c-49cc-ab4b-7a2eb7809546"
      },
      "source": [
        "reg_sy= pd.DataFrame(inputs.columns.values, columns = ['Features'])\n",
        "reg_sy['Weights'] = reg.coef_\n",
        "reg_sy"
      ],
      "execution_count": 68,
      "outputs": [
        {
          "output_type": "execute_result",
          "data": {
            "text/html": [
              "<div>\n",
              "<style scoped>\n",
              "    .dataframe tbody tr th:only-of-type {\n",
              "        vertical-align: middle;\n",
              "    }\n",
              "\n",
              "    .dataframe tbody tr th {\n",
              "        vertical-align: top;\n",
              "    }\n",
              "\n",
              "    .dataframe thead th {\n",
              "        text-align: right;\n",
              "    }\n",
              "</style>\n",
              "<table border=\"1\" class=\"dataframe\">\n",
              "  <thead>\n",
              "    <tr style=\"text-align: right;\">\n",
              "      <th></th>\n",
              "      <th>Features</th>\n",
              "      <th>Weights</th>\n",
              "    </tr>\n",
              "  </thead>\n",
              "  <tbody>\n",
              "    <tr>\n",
              "      <th>0</th>\n",
              "      <td>GRE Score</td>\n",
              "      <td>0.014679</td>\n",
              "    </tr>\n",
              "    <tr>\n",
              "      <th>1</th>\n",
              "      <td>TOEFL Score</td>\n",
              "      <td>0.013004</td>\n",
              "    </tr>\n",
              "    <tr>\n",
              "      <th>2</th>\n",
              "      <td>University Rating</td>\n",
              "      <td>0.010580</td>\n",
              "    </tr>\n",
              "    <tr>\n",
              "      <th>3</th>\n",
              "      <td>SOP</td>\n",
              "      <td>-0.003003</td>\n",
              "    </tr>\n",
              "    <tr>\n",
              "      <th>4</th>\n",
              "      <td>LOR</td>\n",
              "      <td>0.015353</td>\n",
              "    </tr>\n",
              "    <tr>\n",
              "      <th>5</th>\n",
              "      <td>CGPA</td>\n",
              "      <td>0.057718</td>\n",
              "    </tr>\n",
              "    <tr>\n",
              "      <th>6</th>\n",
              "      <td>Research</td>\n",
              "      <td>0.013003</td>\n",
              "    </tr>\n",
              "  </tbody>\n",
              "</table>\n",
              "</div>"
            ],
            "text/plain": [
              "            Features   Weights\n",
              "0          GRE Score  0.014679\n",
              "1        TOEFL Score  0.013004\n",
              "2  University Rating  0.010580\n",
              "3                SOP -0.003003\n",
              "4               LOR   0.015353\n",
              "5               CGPA  0.057718\n",
              "6           Research  0.013003"
            ]
          },
          "metadata": {
            "tags": []
          },
          "execution_count": 68
        }
      ]
    },
    {
      "cell_type": "code",
      "metadata": {
        "id": "M4a7qyWS0e2J",
        "colab_type": "code",
        "colab": {}
      },
      "source": [
        "#TESTING:\n",
        "y_pre_test = reg.predict(x_test)"
      ],
      "execution_count": 69,
      "outputs": []
    },
    {
      "cell_type": "code",
      "metadata": {
        "id": "9PRCYg7c01qj",
        "colab_type": "code",
        "colab": {
          "base_uri": "https://localhost:8080/",
          "height": 288
        },
        "outputId": "b0ca8dcc-c6ec-45ee-cd8e-4611ef5ff571"
      },
      "source": [
        "plt.scatter(y_test, y_pre_test, alpha=0.2)\n",
        "plt.xlabel('Targets(y_test)', size = 18)\n",
        "plt.ylabel('Predictions(y_pre_test)', size = 18)\n",
        "\n",
        "plt.show()"
      ],
      "execution_count": 70,
      "outputs": [
        {
          "output_type": "display_data",
          "data": {
            "image/png": "[encoded data removed]",
            "text/plain": [
              "<Figure size 432x288 with 1 Axes>"
            ]
          },
          "metadata": {
            "tags": [],
            "needs_background": "light"
          }
        }
      ]
    },
    {
      "cell_type": "code",
      "metadata": {
        "id": "18Zri1R91FXB",
        "colab_type": "code",
        "colab": {
          "base_uri": "https://localhost:8080/",
          "height": 206
        },
        "outputId": "abea03bb-5915-458a-bd28-09580dbc54e4"
      },
      "source": [
        "df_pf = pd.DataFrame(np.exp(y_pre_test), columns=['Predictions'])\n",
        "df_pf.head()"
      ],
      "execution_count": 71,
      "outputs": [
        {
          "output_type": "execute_result",
          "data": {
            "text/html": [
              "<div>\n",
              "<style scoped>\n",
              "    .dataframe tbody tr th:only-of-type {\n",
              "        vertical-align: middle;\n",
              "    }\n",
              "\n",
              "    .dataframe tbody tr th {\n",
              "        vertical-align: top;\n",
              "    }\n",
              "\n",
              "    .dataframe thead th {\n",
              "        text-align: right;\n",
              "    }\n",
              "</style>\n",
              "<table border=\"1\" class=\"dataframe\">\n",
              "  <thead>\n",
              "    <tr style=\"text-align: right;\">\n",
              "      <th></th>\n",
              "      <th>Predictions</th>\n",
              "    </tr>\n",
              "  </thead>\n",
              "  <tbody>\n",
              "    <tr>\n",
              "      <th>0</th>\n",
              "      <td>1.853628</td>\n",
              "    </tr>\n",
              "    <tr>\n",
              "      <th>1</th>\n",
              "      <td>1.890488</td>\n",
              "    </tr>\n",
              "    <tr>\n",
              "      <th>2</th>\n",
              "      <td>2.086638</td>\n",
              "    </tr>\n",
              "    <tr>\n",
              "      <th>3</th>\n",
              "      <td>2.245794</td>\n",
              "    </tr>\n",
              "    <tr>\n",
              "      <th>4</th>\n",
              "      <td>2.069615</td>\n",
              "    </tr>\n",
              "  </tbody>\n",
              "</table>\n",
              "</div>"
            ],
            "text/plain": [
              "   Predictions\n",
              "0     1.853628\n",
              "1     1.890488\n",
              "2     2.086638\n",
              "3     2.245794\n",
              "4     2.069615"
            ]
          },
          "metadata": {
            "tags": []
          },
          "execution_count": 71
        }
      ]
    },
    {
      "cell_type": "code",
      "metadata": {
        "id": "5s0nCowo1Je1",
        "colab_type": "code",
        "colab": {
          "base_uri": "https://localhost:8080/",
          "height": 423
        },
        "outputId": "5e4e4072-63c3-47c9-d566-55f496ba07e4"
      },
      "source": [
        "df_pf['Target'] = np.exp(y_test)\n",
        "df_pf"
      ],
      "execution_count": 72,
      "outputs": [
        {
          "output_type": "execute_result",
          "data": {
            "text/html": [
              "<div>\n",
              "<style scoped>\n",
              "    .dataframe tbody tr th:only-of-type {\n",
              "        vertical-align: middle;\n",
              "    }\n",
              "\n",
              "    .dataframe tbody tr th {\n",
              "        vertical-align: top;\n",
              "    }\n",
              "\n",
              "    .dataframe thead th {\n",
              "        text-align: right;\n",
              "    }\n",
              "</style>\n",
              "<table border=\"1\" class=\"dataframe\">\n",
              "  <thead>\n",
              "    <tr style=\"text-align: right;\">\n",
              "      <th></th>\n",
              "      <th>Predictions</th>\n",
              "      <th>Target</th>\n",
              "    </tr>\n",
              "  </thead>\n",
              "  <tbody>\n",
              "    <tr>\n",
              "      <th>0</th>\n",
              "      <td>1.853628</td>\n",
              "      <td>NaN</td>\n",
              "    </tr>\n",
              "    <tr>\n",
              "      <th>1</th>\n",
              "      <td>1.890488</td>\n",
              "      <td>2.138276</td>\n",
              "    </tr>\n",
              "    <tr>\n",
              "      <th>2</th>\n",
              "      <td>2.086638</td>\n",
              "      <td>NaN</td>\n",
              "    </tr>\n",
              "    <tr>\n",
              "      <th>3</th>\n",
              "      <td>2.245794</td>\n",
              "      <td>NaN</td>\n",
              "    </tr>\n",
              "    <tr>\n",
              "      <th>4</th>\n",
              "      <td>2.069615</td>\n",
              "      <td>NaN</td>\n",
              "    </tr>\n",
              "    <tr>\n",
              "      <th>...</th>\n",
              "      <td>...</td>\n",
              "      <td>...</td>\n",
              "    </tr>\n",
              "    <tr>\n",
              "      <th>61</th>\n",
              "      <td>1.963819</td>\n",
              "      <td>NaN</td>\n",
              "    </tr>\n",
              "    <tr>\n",
              "      <th>62</th>\n",
              "      <td>2.507379</td>\n",
              "      <td>NaN</td>\n",
              "    </tr>\n",
              "    <tr>\n",
              "      <th>63</th>\n",
              "      <td>2.216331</td>\n",
              "      <td>NaN</td>\n",
              "    </tr>\n",
              "    <tr>\n",
              "      <th>64</th>\n",
              "      <td>1.863012</td>\n",
              "      <td>2.509290</td>\n",
              "    </tr>\n",
              "    <tr>\n",
              "      <th>65</th>\n",
              "      <td>2.163006</td>\n",
              "      <td>2.509290</td>\n",
              "    </tr>\n",
              "  </tbody>\n",
              "</table>\n",
              "<p>66 rows × 2 columns</p>\n",
              "</div>"
            ],
            "text/plain": [
              "    Predictions    Target\n",
              "0      1.853628       NaN\n",
              "1      1.890488  2.138276\n",
              "2      2.086638       NaN\n",
              "3      2.245794       NaN\n",
              "4      2.069615       NaN\n",
              "..          ...       ...\n",
              "61     1.963819       NaN\n",
              "62     2.507379       NaN\n",
              "63     2.216331       NaN\n",
              "64     1.863012  2.509290\n",
              "65     2.163006  2.509290\n",
              "\n",
              "[66 rows x 2 columns]"
            ]
          },
          "metadata": {
            "tags": []
          },
          "execution_count": 72
        }
      ]
    },
    {
      "cell_type": "code",
      "metadata": {
        "id": "vWCYh0xG1QwV",
        "colab_type": "code",
        "colab": {
          "base_uri": "https://localhost:8080/",
          "height": 129
        },
        "outputId": "9a8f3304-92bc-4350-de6d-5e3e8e3e888c"
      },
      "source": [
        "y_test= y_test.reset_index(drop=True)\n",
        "y_test.head()"
      ],
      "execution_count": 73,
      "outputs": [
        {
          "output_type": "execute_result",
          "data": {
            "text/plain": [
              "0    0.71\n",
              "1    0.73\n",
              "2    0.84\n",
              "3    0.84\n",
              "4    0.77\n",
              "Name: Chance of Admit , dtype: float64"
            ]
          },
          "metadata": {
            "tags": []
          },
          "execution_count": 73
        }
      ]
    },
    {
      "cell_type": "code",
      "metadata": {
        "id": "Gj0IM4OD1Y8X",
        "colab_type": "code",
        "colab": {
          "base_uri": "https://localhost:8080/",
          "height": 423
        },
        "outputId": "164519fc-2b33-4965-facd-6e6421e24a8f"
      },
      "source": [
        "df_pf['Target'] = np.exp(y_test)\n",
        "df_pf"
      ],
      "execution_count": 74,
      "outputs": [
        {
          "output_type": "execute_result",
          "data": {
            "text/html": [
              "<div>\n",
              "<style scoped>\n",
              "    .dataframe tbody tr th:only-of-type {\n",
              "        vertical-align: middle;\n",
              "    }\n",
              "\n",
              "    .dataframe tbody tr th {\n",
              "        vertical-align: top;\n",
              "    }\n",
              "\n",
              "    .dataframe thead th {\n",
              "        text-align: right;\n",
              "    }\n",
              "</style>\n",
              "<table border=\"1\" class=\"dataframe\">\n",
              "  <thead>\n",
              "    <tr style=\"text-align: right;\">\n",
              "      <th></th>\n",
              "      <th>Predictions</th>\n",
              "      <th>Target</th>\n",
              "    </tr>\n",
              "  </thead>\n",
              "  <tbody>\n",
              "    <tr>\n",
              "      <th>0</th>\n",
              "      <td>1.853628</td>\n",
              "      <td>2.033991</td>\n",
              "    </tr>\n",
              "    <tr>\n",
              "      <th>1</th>\n",
              "      <td>1.890488</td>\n",
              "      <td>2.075081</td>\n",
              "    </tr>\n",
              "    <tr>\n",
              "      <th>2</th>\n",
              "      <td>2.086638</td>\n",
              "      <td>2.316367</td>\n",
              "    </tr>\n",
              "    <tr>\n",
              "      <th>3</th>\n",
              "      <td>2.245794</td>\n",
              "      <td>2.316367</td>\n",
              "    </tr>\n",
              "    <tr>\n",
              "      <th>4</th>\n",
              "      <td>2.069615</td>\n",
              "      <td>2.159766</td>\n",
              "    </tr>\n",
              "    <tr>\n",
              "      <th>...</th>\n",
              "      <td>...</td>\n",
              "      <td>...</td>\n",
              "    </tr>\n",
              "    <tr>\n",
              "      <th>61</th>\n",
              "      <td>1.963819</td>\n",
              "      <td>2.095936</td>\n",
              "    </tr>\n",
              "    <tr>\n",
              "      <th>62</th>\n",
              "      <td>2.507379</td>\n",
              "      <td>2.484323</td>\n",
              "    </tr>\n",
              "    <tr>\n",
              "      <th>63</th>\n",
              "      <td>2.216331</td>\n",
              "      <td>2.225541</td>\n",
              "    </tr>\n",
              "    <tr>\n",
              "      <th>64</th>\n",
              "      <td>1.863012</td>\n",
              "      <td>1.803988</td>\n",
              "    </tr>\n",
              "    <tr>\n",
              "      <th>65</th>\n",
              "      <td>2.163006</td>\n",
              "      <td>2.095936</td>\n",
              "    </tr>\n",
              "  </tbody>\n",
              "</table>\n",
              "<p>66 rows × 2 columns</p>\n",
              "</div>"
            ],
            "text/plain": [
              "    Predictions    Target\n",
              "0      1.853628  2.033991\n",
              "1      1.890488  2.075081\n",
              "2      2.086638  2.316367\n",
              "3      2.245794  2.316367\n",
              "4      2.069615  2.159766\n",
              "..          ...       ...\n",
              "61     1.963819  2.095936\n",
              "62     2.507379  2.484323\n",
              "63     2.216331  2.225541\n",
              "64     1.863012  1.803988\n",
              "65     2.163006  2.095936\n",
              "\n",
              "[66 rows x 2 columns]"
            ]
          },
          "metadata": {
            "tags": []
          },
          "execution_count": 74
        }
      ]
    },
    {
      "cell_type": "code",
      "metadata": {
        "id": "A_x3T5qT1f0m",
        "colab_type": "code",
        "colab": {}
      },
      "source": [
        "df_pf['Residual'] = df_pf['Target'] - df_pf['Predictions']"
      ],
      "execution_count": 75,
      "outputs": []
    },
    {
      "cell_type": "code",
      "metadata": {
        "id": "DvrSN84C1k0d",
        "colab_type": "code",
        "colab": {
          "base_uri": "https://localhost:8080/",
          "height": 423
        },
        "outputId": "c83c3e3c-7771-492f-d567-b7df1ec083d3"
      },
      "source": [
        "df_pf['Difference'] = np.absolute(df_pf['Residual']/df_pf['Target']*100)\n",
        "df_pf"
      ],
      "execution_count": 76,
      "outputs": [
        {
          "output_type": "execute_result",
          "data": {
            "text/html": [
              "<div>\n",
              "<style scoped>\n",
              "    .dataframe tbody tr th:only-of-type {\n",
              "        vertical-align: middle;\n",
              "    }\n",
              "\n",
              "    .dataframe tbody tr th {\n",
              "        vertical-align: top;\n",
              "    }\n",
              "\n",
              "    .dataframe thead th {\n",
              "        text-align: right;\n",
              "    }\n",
              "</style>\n",
              "<table border=\"1\" class=\"dataframe\">\n",
              "  <thead>\n",
              "    <tr style=\"text-align: right;\">\n",
              "      <th></th>\n",
              "      <th>Predictions</th>\n",
              "      <th>Target</th>\n",
              "      <th>Residual</th>\n",
              "      <th>Difference</th>\n",
              "    </tr>\n",
              "  </thead>\n",
              "  <tbody>\n",
              "    <tr>\n",
              "      <th>0</th>\n",
              "      <td>1.853628</td>\n",
              "      <td>2.033991</td>\n",
              "      <td>0.180364</td>\n",
              "      <td>8.867469</td>\n",
              "    </tr>\n",
              "    <tr>\n",
              "      <th>1</th>\n",
              "      <td>1.890488</td>\n",
              "      <td>2.075081</td>\n",
              "      <td>0.184593</td>\n",
              "      <td>8.895695</td>\n",
              "    </tr>\n",
              "    <tr>\n",
              "      <th>2</th>\n",
              "      <td>2.086638</td>\n",
              "      <td>2.316367</td>\n",
              "      <td>0.229729</td>\n",
              "      <td>9.917643</td>\n",
              "    </tr>\n",
              "    <tr>\n",
              "      <th>3</th>\n",
              "      <td>2.245794</td>\n",
              "      <td>2.316367</td>\n",
              "      <td>0.070573</td>\n",
              "      <td>3.046699</td>\n",
              "    </tr>\n",
              "    <tr>\n",
              "      <th>4</th>\n",
              "      <td>2.069615</td>\n",
              "      <td>2.159766</td>\n",
              "      <td>0.090151</td>\n",
              "      <td>4.174114</td>\n",
              "    </tr>\n",
              "    <tr>\n",
              "      <th>...</th>\n",
              "      <td>...</td>\n",
              "      <td>...</td>\n",
              "      <td>...</td>\n",
              "      <td>...</td>\n",
              "    </tr>\n",
              "    <tr>\n",
              "      <th>61</th>\n",
              "      <td>1.963819</td>\n",
              "      <td>2.095936</td>\n",
              "      <td>0.132117</td>\n",
              "      <td>6.303468</td>\n",
              "    </tr>\n",
              "    <tr>\n",
              "      <th>62</th>\n",
              "      <td>2.507379</td>\n",
              "      <td>2.484323</td>\n",
              "      <td>-0.023057</td>\n",
              "      <td>0.928093</td>\n",
              "    </tr>\n",
              "    <tr>\n",
              "      <th>63</th>\n",
              "      <td>2.216331</td>\n",
              "      <td>2.225541</td>\n",
              "      <td>0.009210</td>\n",
              "      <td>0.413834</td>\n",
              "    </tr>\n",
              "    <tr>\n",
              "      <th>64</th>\n",
              "      <td>1.863012</td>\n",
              "      <td>1.803988</td>\n",
              "      <td>-0.059024</td>\n",
              "      <td>3.271838</td>\n",
              "    </tr>\n",
              "    <tr>\n",
              "      <th>65</th>\n",
              "      <td>2.163006</td>\n",
              "      <td>2.095936</td>\n",
              "      <td>-0.067071</td>\n",
              "      <td>3.200030</td>\n",
              "    </tr>\n",
              "  </tbody>\n",
              "</table>\n",
              "<p>66 rows × 4 columns</p>\n",
              "</div>"
            ],
            "text/plain": [
              "    Predictions    Target  Residual  Difference\n",
              "0      1.853628  2.033991  0.180364    8.867469\n",
              "1      1.890488  2.075081  0.184593    8.895695\n",
              "2      2.086638  2.316367  0.229729    9.917643\n",
              "3      2.245794  2.316367  0.070573    3.046699\n",
              "4      2.069615  2.159766  0.090151    4.174114\n",
              "..          ...       ...       ...         ...\n",
              "61     1.963819  2.095936  0.132117    6.303468\n",
              "62     2.507379  2.484323 -0.023057    0.928093\n",
              "63     2.216331  2.225541  0.009210    0.413834\n",
              "64     1.863012  1.803988 -0.059024    3.271838\n",
              "65     2.163006  2.095936 -0.067071    3.200030\n",
              "\n",
              "[66 rows x 4 columns]"
            ]
          },
          "metadata": {
            "tags": []
          },
          "execution_count": 76
        }
      ]
    },
    {
      "cell_type": "code",
      "metadata": {
        "id": "Ax3VvvzI1lMX",
        "colab_type": "code",
        "colab": {}
      },
      "source": [
        "pd.options.display.max_rows = 999\n",
        "pd.set_option('display.float_format', lambda x: '% 2f' % x)"
      ],
      "execution_count": 77,
      "outputs": []
    },
    {
      "cell_type": "code",
      "metadata": {
        "id": "dUID1lHl2A2d",
        "colab_type": "code",
        "colab": {
          "base_uri": "https://localhost:8080/",
          "height": 1000
        },
        "outputId": "33a167b0-8d60-4512-be22-9985c9fc13bf"
      },
      "source": [
        "df_pf.sort_values(by = ['Difference'])"
      ],
      "execution_count": 78,
      "outputs": [
        {
          "output_type": "execute_result",
          "data": {
            "text/html": [
              "<div>\n",
              "<style scoped>\n",
              "    .dataframe tbody tr th:only-of-type {\n",
              "        vertical-align: middle;\n",
              "    }\n",
              "\n",
              "    .dataframe tbody tr th {\n",
              "        vertical-align: top;\n",
              "    }\n",
              "\n",
              "    .dataframe thead th {\n",
              "        text-align: right;\n",
              "    }\n",
              "</style>\n",
              "<table border=\"1\" class=\"dataframe\">\n",
              "  <thead>\n",
              "    <tr style=\"text-align: right;\">\n",
              "      <th></th>\n",
              "      <th>Predictions</th>\n",
              "      <th>Target</th>\n",
              "      <th>Residual</th>\n",
              "      <th>Difference</th>\n",
              "    </tr>\n",
              "  </thead>\n",
              "  <tbody>\n",
              "    <tr>\n",
              "      <th>56</th>\n",
              "      <td>2.615811</td>\n",
              "      <td>2.611696</td>\n",
              "      <td>-0.004115</td>\n",
              "      <td>0.157549</td>\n",
              "    </tr>\n",
              "    <tr>\n",
              "      <th>52</th>\n",
              "      <td>2.478709</td>\n",
              "      <td>2.484323</td>\n",
              "      <td>0.005613</td>\n",
              "      <td>0.225952</td>\n",
              "    </tr>\n",
              "    <tr>\n",
              "      <th>27</th>\n",
              "      <td>2.029155</td>\n",
              "      <td>2.033991</td>\n",
              "      <td>0.004836</td>\n",
              "      <td>0.237759</td>\n",
              "    </tr>\n",
              "    <tr>\n",
              "      <th>42</th>\n",
              "      <td>2.039481</td>\n",
              "      <td>2.033991</td>\n",
              "      <td>-0.005489</td>\n",
              "      <td>0.269880</td>\n",
              "    </tr>\n",
              "    <tr>\n",
              "      <th>8</th>\n",
              "      <td>1.845624</td>\n",
              "      <td>1.840431</td>\n",
              "      <td>-0.005193</td>\n",
              "      <td>0.282168</td>\n",
              "    </tr>\n",
              "    <tr>\n",
              "      <th>40</th>\n",
              "      <td>2.604140</td>\n",
              "      <td>2.611696</td>\n",
              "      <td>0.007556</td>\n",
              "      <td>0.289323</td>\n",
              "    </tr>\n",
              "    <tr>\n",
              "      <th>63</th>\n",
              "      <td>2.216331</td>\n",
              "      <td>2.225541</td>\n",
              "      <td>0.009210</td>\n",
              "      <td>0.413834</td>\n",
              "    </tr>\n",
              "    <tr>\n",
              "      <th>48</th>\n",
              "      <td>2.170550</td>\n",
              "      <td>2.181472</td>\n",
              "      <td>0.010922</td>\n",
              "      <td>0.500693</td>\n",
              "    </tr>\n",
              "    <tr>\n",
              "      <th>24</th>\n",
              "      <td>2.106358</td>\n",
              "      <td>2.117000</td>\n",
              "      <td>0.010642</td>\n",
              "      <td>0.502684</td>\n",
              "    </tr>\n",
              "    <tr>\n",
              "      <th>9</th>\n",
              "      <td>2.105293</td>\n",
              "      <td>2.117000</td>\n",
              "      <td>0.011707</td>\n",
              "      <td>0.552995</td>\n",
              "    </tr>\n",
              "    <tr>\n",
              "      <th>46</th>\n",
              "      <td>1.947044</td>\n",
              "      <td>1.934792</td>\n",
              "      <td>-0.012252</td>\n",
              "      <td>0.633253</td>\n",
              "    </tr>\n",
              "    <tr>\n",
              "      <th>59</th>\n",
              "      <td>2.540563</td>\n",
              "      <td>2.559981</td>\n",
              "      <td>0.019418</td>\n",
              "      <td>0.758526</td>\n",
              "    </tr>\n",
              "    <tr>\n",
              "      <th>30</th>\n",
              "      <td>2.416435</td>\n",
              "      <td>2.435130</td>\n",
              "      <td>0.018695</td>\n",
              "      <td>0.767712</td>\n",
              "    </tr>\n",
              "    <tr>\n",
              "      <th>49</th>\n",
              "      <td>1.977259</td>\n",
              "      <td>1.993716</td>\n",
              "      <td>0.016457</td>\n",
              "      <td>0.825438</td>\n",
              "    </tr>\n",
              "    <tr>\n",
              "      <th>62</th>\n",
              "      <td>2.507379</td>\n",
              "      <td>2.484323</td>\n",
              "      <td>-0.023057</td>\n",
              "      <td>0.928093</td>\n",
              "    </tr>\n",
              "    <tr>\n",
              "      <th>28</th>\n",
              "      <td>1.994320</td>\n",
              "      <td>2.013753</td>\n",
              "      <td>0.019433</td>\n",
              "      <td>0.965022</td>\n",
              "    </tr>\n",
              "    <tr>\n",
              "      <th>31</th>\n",
              "      <td>2.263549</td>\n",
              "      <td>2.293319</td>\n",
              "      <td>0.029770</td>\n",
              "      <td>1.298121</td>\n",
              "    </tr>\n",
              "    <tr>\n",
              "      <th>44</th>\n",
              "      <td>2.083519</td>\n",
              "      <td>2.054433</td>\n",
              "      <td>-0.029086</td>\n",
              "      <td>1.415753</td>\n",
              "    </tr>\n",
              "    <tr>\n",
              "      <th>14</th>\n",
              "      <td>2.304734</td>\n",
              "      <td>2.270500</td>\n",
              "      <td>-0.034234</td>\n",
              "      <td>1.507777</td>\n",
              "    </tr>\n",
              "    <tr>\n",
              "      <th>33</th>\n",
              "      <td>2.607015</td>\n",
              "      <td>2.559981</td>\n",
              "      <td>-0.047034</td>\n",
              "      <td>1.837262</td>\n",
              "    </tr>\n",
              "    <tr>\n",
              "      <th>19</th>\n",
              "      <td>2.366228</td>\n",
              "      <td>2.410900</td>\n",
              "      <td>0.044672</td>\n",
              "      <td>1.852912</td>\n",
              "    </tr>\n",
              "    <tr>\n",
              "      <th>55</th>\n",
              "      <td>1.860049</td>\n",
              "      <td>1.896481</td>\n",
              "      <td>0.036431</td>\n",
              "      <td>1.921004</td>\n",
              "    </tr>\n",
              "    <tr>\n",
              "      <th>7</th>\n",
              "      <td>1.914647</td>\n",
              "      <td>1.954237</td>\n",
              "      <td>0.039591</td>\n",
              "      <td>2.025893</td>\n",
              "    </tr>\n",
              "    <tr>\n",
              "      <th>60</th>\n",
              "      <td>2.288168</td>\n",
              "      <td>2.339647</td>\n",
              "      <td>0.051479</td>\n",
              "      <td>2.200289</td>\n",
              "    </tr>\n",
              "    <tr>\n",
              "      <th>5</th>\n",
              "      <td>2.045062</td>\n",
              "      <td>2.095936</td>\n",
              "      <td>0.050873</td>\n",
              "      <td>2.427223</td>\n",
              "    </tr>\n",
              "    <tr>\n",
              "      <th>39</th>\n",
              "      <td>2.421433</td>\n",
              "      <td>2.484323</td>\n",
              "      <td>0.062890</td>\n",
              "      <td>2.531470</td>\n",
              "    </tr>\n",
              "    <tr>\n",
              "      <th>50</th>\n",
              "      <td>2.005969</td>\n",
              "      <td>1.954237</td>\n",
              "      <td>-0.051732</td>\n",
              "      <td>2.647180</td>\n",
              "    </tr>\n",
              "    <tr>\n",
              "      <th>35</th>\n",
              "      <td>2.438049</td>\n",
              "      <td>2.509290</td>\n",
              "      <td>0.071242</td>\n",
              "      <td>2.839112</td>\n",
              "    </tr>\n",
              "    <tr>\n",
              "      <th>17</th>\n",
              "      <td>2.036298</td>\n",
              "      <td>2.095936</td>\n",
              "      <td>0.059637</td>\n",
              "      <td>2.845388</td>\n",
              "    </tr>\n",
              "    <tr>\n",
              "      <th>3</th>\n",
              "      <td>2.245794</td>\n",
              "      <td>2.316367</td>\n",
              "      <td>0.070573</td>\n",
              "      <td>3.046699</td>\n",
              "    </tr>\n",
              "    <tr>\n",
              "      <th>47</th>\n",
              "      <td>1.917028</td>\n",
              "      <td>1.858928</td>\n",
              "      <td>-0.058100</td>\n",
              "      <td>3.125466</td>\n",
              "    </tr>\n",
              "    <tr>\n",
              "      <th>65</th>\n",
              "      <td>2.163006</td>\n",
              "      <td>2.095936</td>\n",
              "      <td>-0.067071</td>\n",
              "      <td>3.200030</td>\n",
              "    </tr>\n",
              "    <tr>\n",
              "      <th>43</th>\n",
              "      <td>2.453178</td>\n",
              "      <td>2.534509</td>\n",
              "      <td>0.081331</td>\n",
              "      <td>3.208962</td>\n",
              "    </tr>\n",
              "    <tr>\n",
              "      <th>21</th>\n",
              "      <td>2.538912</td>\n",
              "      <td>2.459603</td>\n",
              "      <td>-0.079309</td>\n",
              "      <td>3.224466</td>\n",
              "    </tr>\n",
              "    <tr>\n",
              "      <th>64</th>\n",
              "      <td>1.863012</td>\n",
              "      <td>1.803988</td>\n",
              "      <td>-0.059024</td>\n",
              "      <td>3.271838</td>\n",
              "    </tr>\n",
              "    <tr>\n",
              "      <th>23</th>\n",
              "      <td>1.961438</td>\n",
              "      <td>2.033991</td>\n",
              "      <td>0.072553</td>\n",
              "      <td>3.567023</td>\n",
              "    </tr>\n",
              "    <tr>\n",
              "      <th>53</th>\n",
              "      <td>2.041026</td>\n",
              "      <td>2.117000</td>\n",
              "      <td>0.075974</td>\n",
              "      <td>3.588737</td>\n",
              "    </tr>\n",
              "    <tr>\n",
              "      <th>22</th>\n",
              "      <td>2.139925</td>\n",
              "      <td>2.225541</td>\n",
              "      <td>0.085616</td>\n",
              "      <td>3.846974</td>\n",
              "    </tr>\n",
              "    <tr>\n",
              "      <th>20</th>\n",
              "      <td>2.293555</td>\n",
              "      <td>2.386911</td>\n",
              "      <td>0.093355</td>\n",
              "      <td>3.911142</td>\n",
              "    </tr>\n",
              "    <tr>\n",
              "      <th>32</th>\n",
              "      <td>2.360483</td>\n",
              "      <td>2.459603</td>\n",
              "      <td>0.099120</td>\n",
              "      <td>4.029910</td>\n",
              "    </tr>\n",
              "    <tr>\n",
              "      <th>18</th>\n",
              "      <td>1.969317</td>\n",
              "      <td>2.054433</td>\n",
              "      <td>0.085116</td>\n",
              "      <td>4.143037</td>\n",
              "    </tr>\n",
              "    <tr>\n",
              "      <th>4</th>\n",
              "      <td>2.069615</td>\n",
              "      <td>2.159766</td>\n",
              "      <td>0.090151</td>\n",
              "      <td>4.174114</td>\n",
              "    </tr>\n",
              "    <tr>\n",
              "      <th>11</th>\n",
              "      <td>1.763012</td>\n",
              "      <td>1.840431</td>\n",
              "      <td>0.077419</td>\n",
              "      <td>4.206578</td>\n",
              "    </tr>\n",
              "    <tr>\n",
              "      <th>16</th>\n",
              "      <td>1.928910</td>\n",
              "      <td>2.013753</td>\n",
              "      <td>0.084843</td>\n",
              "      <td>4.213176</td>\n",
              "    </tr>\n",
              "    <tr>\n",
              "      <th>54</th>\n",
              "      <td>1.976426</td>\n",
              "      <td>1.896481</td>\n",
              "      <td>-0.079945</td>\n",
              "      <td>4.215459</td>\n",
              "    </tr>\n",
              "    <tr>\n",
              "      <th>45</th>\n",
              "      <td>2.023385</td>\n",
              "      <td>2.117000</td>\n",
              "      <td>0.093615</td>\n",
              "      <td>4.422050</td>\n",
              "    </tr>\n",
              "    <tr>\n",
              "      <th>38</th>\n",
              "      <td>1.982995</td>\n",
              "      <td>2.075081</td>\n",
              "      <td>0.092086</td>\n",
              "      <td>4.437697</td>\n",
              "    </tr>\n",
              "    <tr>\n",
              "      <th>57</th>\n",
              "      <td>1.926561</td>\n",
              "      <td>1.840431</td>\n",
              "      <td>-0.086130</td>\n",
              "      <td>4.679862</td>\n",
              "    </tr>\n",
              "    <tr>\n",
              "      <th>58</th>\n",
              "      <td>2.363638</td>\n",
              "      <td>2.484323</td>\n",
              "      <td>0.120685</td>\n",
              "      <td>4.857854</td>\n",
              "    </tr>\n",
              "    <tr>\n",
              "      <th>15</th>\n",
              "      <td>2.242607</td>\n",
              "      <td>2.138276</td>\n",
              "      <td>-0.104330</td>\n",
              "      <td>4.879181</td>\n",
              "    </tr>\n",
              "    <tr>\n",
              "      <th>12</th>\n",
              "      <td>2.070223</td>\n",
              "      <td>1.973878</td>\n",
              "      <td>-0.096345</td>\n",
              "      <td>4.881025</td>\n",
              "    </tr>\n",
              "    <tr>\n",
              "      <th>34</th>\n",
              "      <td>1.983733</td>\n",
              "      <td>2.095936</td>\n",
              "      <td>0.112203</td>\n",
              "      <td>5.353339</td>\n",
              "    </tr>\n",
              "    <tr>\n",
              "      <th>26</th>\n",
              "      <td>2.257126</td>\n",
              "      <td>2.386911</td>\n",
              "      <td>0.129785</td>\n",
              "      <td>5.437377</td>\n",
              "    </tr>\n",
              "    <tr>\n",
              "      <th>6</th>\n",
              "      <td>2.063970</td>\n",
              "      <td>1.954237</td>\n",
              "      <td>-0.109733</td>\n",
              "      <td>5.615135</td>\n",
              "    </tr>\n",
              "    <tr>\n",
              "      <th>51</th>\n",
              "      <td>2.008546</td>\n",
              "      <td>1.896481</td>\n",
              "      <td>-0.112065</td>\n",
              "      <td>5.909083</td>\n",
              "    </tr>\n",
              "    <tr>\n",
              "      <th>25</th>\n",
              "      <td>2.111546</td>\n",
              "      <td>2.247908</td>\n",
              "      <td>0.136362</td>\n",
              "      <td>6.066163</td>\n",
              "    </tr>\n",
              "    <tr>\n",
              "      <th>10</th>\n",
              "      <td>2.354678</td>\n",
              "      <td>2.509290</td>\n",
              "      <td>0.154613</td>\n",
              "      <td>6.161613</td>\n",
              "    </tr>\n",
              "    <tr>\n",
              "      <th>61</th>\n",
              "      <td>1.963819</td>\n",
              "      <td>2.095936</td>\n",
              "      <td>0.132117</td>\n",
              "      <td>6.303468</td>\n",
              "    </tr>\n",
              "    <tr>\n",
              "      <th>36</th>\n",
              "      <td>1.905015</td>\n",
              "      <td>1.786038</td>\n",
              "      <td>-0.118977</td>\n",
              "      <td>6.661491</td>\n",
              "    </tr>\n",
              "    <tr>\n",
              "      <th>37</th>\n",
              "      <td>2.023875</td>\n",
              "      <td>1.877611</td>\n",
              "      <td>-0.146264</td>\n",
              "      <td>7.789920</td>\n",
              "    </tr>\n",
              "    <tr>\n",
              "      <th>0</th>\n",
              "      <td>1.853628</td>\n",
              "      <td>2.033991</td>\n",
              "      <td>0.180364</td>\n",
              "      <td>8.867469</td>\n",
              "    </tr>\n",
              "    <tr>\n",
              "      <th>1</th>\n",
              "      <td>1.890488</td>\n",
              "      <td>2.075081</td>\n",
              "      <td>0.184593</td>\n",
              "      <td>8.895695</td>\n",
              "    </tr>\n",
              "    <tr>\n",
              "      <th>2</th>\n",
              "      <td>2.086638</td>\n",
              "      <td>2.316367</td>\n",
              "      <td>0.229729</td>\n",
              "      <td>9.917643</td>\n",
              "    </tr>\n",
              "    <tr>\n",
              "      <th>41</th>\n",
              "      <td>2.004766</td>\n",
              "      <td>1.803988</td>\n",
              "      <td>-0.200777</td>\n",
              "      <td>11.129628</td>\n",
              "    </tr>\n",
              "    <tr>\n",
              "      <th>29</th>\n",
              "      <td>1.911849</td>\n",
              "      <td>1.716007</td>\n",
              "      <td>-0.195842</td>\n",
              "      <td>11.412649</td>\n",
              "    </tr>\n",
              "    <tr>\n",
              "      <th>13</th>\n",
              "      <td>2.074406</td>\n",
              "      <td>1.768267</td>\n",
              "      <td>-0.306139</td>\n",
              "      <td>17.312960</td>\n",
              "    </tr>\n",
              "  </tbody>\n",
              "</table>\n",
              "</div>"
            ],
            "text/plain": [
              "    Predictions    Target  Residual  Difference\n",
              "56     2.615811  2.611696 -0.004115    0.157549\n",
              "52     2.478709  2.484323  0.005613    0.225952\n",
              "27     2.029155  2.033991  0.004836    0.237759\n",
              "42     2.039481  2.033991 -0.005489    0.269880\n",
              "8      1.845624  1.840431 -0.005193    0.282168\n",
              "40     2.604140  2.611696  0.007556    0.289323\n",
              "63     2.216331  2.225541  0.009210    0.413834\n",
              "48     2.170550  2.181472  0.010922    0.500693\n",
              "24     2.106358  2.117000  0.010642    0.502684\n",
              "9      2.105293  2.117000  0.011707    0.552995\n",
              "46     1.947044  1.934792 -0.012252    0.633253\n",
              "59     2.540563  2.559981  0.019418    0.758526\n",
              "30     2.416435  2.435130  0.018695    0.767712\n",
              "49     1.977259  1.993716  0.016457    0.825438\n",
              "62     2.507379  2.484323 -0.023057    0.928093\n",
              "28     1.994320  2.013753  0.019433    0.965022\n",
              "31     2.263549  2.293319  0.029770    1.298121\n",
              "44     2.083519  2.054433 -0.029086    1.415753\n",
              "14     2.304734  2.270500 -0.034234    1.507777\n",
              "33     2.607015  2.559981 -0.047034    1.837262\n",
              "19     2.366228  2.410900  0.044672    1.852912\n",
              "55     1.860049  1.896481  0.036431    1.921004\n",
              "7      1.914647  1.954237  0.039591    2.025893\n",
              "60     2.288168  2.339647  0.051479    2.200289\n",
              "5      2.045062  2.095936  0.050873    2.427223\n",
              "39     2.421433  2.484323  0.062890    2.531470\n",
              "50     2.005969  1.954237 -0.051732    2.647180\n",
              "35     2.438049  2.509290  0.071242    2.839112\n",
              "17     2.036298  2.095936  0.059637    2.845388\n",
              "3      2.245794  2.316367  0.070573    3.046699\n",
              "47     1.917028  1.858928 -0.058100    3.125466\n",
              "65     2.163006  2.095936 -0.067071    3.200030\n",
              "43     2.453178  2.534509  0.081331    3.208962\n",
              "21     2.538912  2.459603 -0.079309    3.224466\n",
              "64     1.863012  1.803988 -0.059024    3.271838\n",
              "23     1.961438  2.033991  0.072553    3.567023\n",
              "53     2.041026  2.117000  0.075974    3.588737\n",
              "22     2.139925  2.225541  0.085616    3.846974\n",
              "20     2.293555  2.386911  0.093355    3.911142\n",
              "32     2.360483  2.459603  0.099120    4.029910\n",
              "18     1.969317  2.054433  0.085116    4.143037\n",
              "4      2.069615  2.159766  0.090151    4.174114\n",
              "11     1.763012  1.840431  0.077419    4.206578\n",
              "16     1.928910  2.013753  0.084843    4.213176\n",
              "54     1.976426  1.896481 -0.079945    4.215459\n",
              "45     2.023385  2.117000  0.093615    4.422050\n",
              "38     1.982995  2.075081  0.092086    4.437697\n",
              "57     1.926561  1.840431 -0.086130    4.679862\n",
              "58     2.363638  2.484323  0.120685    4.857854\n",
              "15     2.242607  2.138276 -0.104330    4.879181\n",
              "12     2.070223  1.973878 -0.096345    4.881025\n",
              "34     1.983733  2.095936  0.112203    5.353339\n",
              "26     2.257126  2.386911  0.129785    5.437377\n",
              "6      2.063970  1.954237 -0.109733    5.615135\n",
              "51     2.008546  1.896481 -0.112065    5.909083\n",
              "25     2.111546  2.247908  0.136362    6.066163\n",
              "10     2.354678  2.509290  0.154613    6.161613\n",
              "61     1.963819  2.095936  0.132117    6.303468\n",
              "36     1.905015  1.786038 -0.118977    6.661491\n",
              "37     2.023875  1.877611 -0.146264    7.789920\n",
              "0      1.853628  2.033991  0.180364    8.867469\n",
              "1      1.890488  2.075081  0.184593    8.895695\n",
              "2      2.086638  2.316367  0.229729    9.917643\n",
              "41     2.004766  1.803988 -0.200777   11.129628\n",
              "29     1.911849  1.716007 -0.195842   11.412649\n",
              "13     2.074406  1.768267 -0.306139   17.312960"
            ]
          },
          "metadata": {
            "tags": []
          },
          "execution_count": 78
        }
      ]
    }
  ]
}